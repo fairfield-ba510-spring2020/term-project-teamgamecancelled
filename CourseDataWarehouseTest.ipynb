{
 "cells": [
  {
   "cell_type": "markdown",
   "metadata": {},
   "source": [
    "# Term Project Spring 2020 - Team Game Cancelled\n",
    "___"
   ]
  },
  {
   "cell_type": "markdown",
   "metadata": {},
   "source": [
    "_Design and build data warehouse called CourseDataWarehouse.db._"
   ]
  },
  {
   "cell_type": "code",
   "execution_count": 1,
   "metadata": {},
   "outputs": [],
   "source": [
    "## add image of star schema here "
   ]
  },
  {
   "cell_type": "markdown",
   "metadata": {},
   "source": [
    "<a id = \"00\"> <h2> 1. Set Up - SQL and Database </h2> </a>"
   ]
  },
  {
   "cell_type": "markdown",
   "metadata": {},
   "source": [
    "### Imports"
   ]
  },
  {
   "cell_type": "code",
   "execution_count": 2,
   "metadata": {},
   "outputs": [],
   "source": [
    "%load_ext sql\n",
    "import pandas as pd\n",
    "import sqlite3"
   ]
  },
  {
   "cell_type": "code",
   "execution_count": 3,
   "metadata": {},
   "outputs": [],
   "source": [
    "%sql sqlite:///CourseDataWarehouse.db\n",
    "conn = sqlite3.connect('CourseDataWarehouse.db')\n"
   ]
  },
  {
   "cell_type": "markdown",
   "metadata": {},
   "source": [
    "### 2. Create Tables from Star Schema"
   ]
  },
  {
   "cell_type": "code",
   "execution_count": 4,
   "metadata": {},
   "outputs": [
    {
     "name": "stdout",
     "output_type": "stream",
     "text": [
      " * sqlite:///CourseDataWarehouse.db\n",
      "Done.\n",
      "Done.\n",
      "Done.\n",
      "Done.\n",
      "Done.\n",
      "Done.\n",
      "Done.\n",
      "Done.\n",
      "Done.\n",
      "Done.\n",
      "Done.\n",
      "Done.\n",
      "Done.\n",
      "Done.\n"
     ]
    },
    {
     "data": {
      "text/plain": [
       "[]"
      ]
     },
     "execution_count": 4,
     "metadata": {},
     "output_type": "execute_result"
    }
   ],
   "source": [
    "%%sql\n",
    "\n",
    "-- Instructors Dimension table\n",
    "DROP TABLE IF EXISTS INSTRUCTORS_DIM;\n",
    "CREATE TABLE INSTRUCTORS_DIM (\n",
    "    InstructorID INTEGER PRIMARY KEY,\n",
    "    Name TEXT NOT NULL\n",
    ");\n",
    "\n",
    "-- Location Dimension table\n",
    "DROP TABLE IF EXISTS LOCATION_DIM;\n",
    "CREATE TABLE LOCATION_DIM (\n",
    "    LocationID TEXT PRIMARY KEY\n",
    ");\n",
    "\n",
    "-- Timecode Dimension table\n",
    "DROP TABLE IF EXISTS TIMECODE_DIM;\n",
    "CREATE TABLE TIMECODE_DIM (\n",
    "    TimecodeID TEXT PRIMARY KEY,\n",
    "    Day TEXT,\n",
    "    Start TEXT,\n",
    "    End Text\n",
    ");\n",
    "\n",
    "-- Programs Dimension table\n",
    "DROP TABLE IF EXISTS PROGRAMS_DIM;\n",
    "CREATE TABLE PROGRAMS_DIM (\n",
    "    ProgramID INTEGER PRIMARY KEY,\n",
    "    ProgramCode TEXT NOT NULL,\n",
    "    ProgramName TEXT NOT NULL\n",
    ");\n",
    "\n",
    "-- Terms Dimension table\n",
    "DROP TABLE IF EXISTS TERMS_DIM;\n",
    "CREATE TABLE TERMS_DIM (\n",
    "    TermsID TEXT PRIMARY KEY\n",
    ");\n",
    "\n",
    "-- Course Catalogs Dimension table\n",
    "DROP TABLE IF EXISTS COURSE_CATALOGS_DIM;\n",
    "CREATE TABLE COURSE_CATALOGS_DIM(\n",
    "    CourseID INTEGER PRIMARY KEY,\n",
    "    CatalogYear TEXT NOT NULL,\n",
    "    CatalogID TEXT NOT NULL,\n",
    "    CourseTitle TEXT NOT NULL,\n",
    "    Credits TEXT NOT NULL,\n",
    "    Prequisites TEXT,\n",
    "    Corequisites TEXT,\n",
    "    Attributes TEXT\n",
    ");\n",
    "\n",
    "-- Course Meetings Fact table\n",
    "DROP TABLE IF EXISTS COURSE_MEETINGS_FACT;\n",
    "CREATE TABLE COURSE_MEETINGS_FACT(\n",
    "    CourseMeetingID INTEGER PRIMARY KEY,\n",
    "    CatalogID TEXT NOT NULL,\n",
    "    ProgramID TEXT NOT NULL,\n",
    "    InstrutorID INTEGER NOT NULL,\n",
    "    CourseID INTEGER NOT NULL,\n",
    "    CourseOfferingID INTEGER NOT NULL,\n",
    "    TimecodeID TEXT NOT NULL,\n",
    "    TermsID TEXT NOT NULL,\n",
    "    LocationID TEXT NOT NULL,\n",
    "    CRN INTEGER NOT NULL,\n",
    "    PrimaryInstructorID INTEGER NOT NULL,\n",
    "    Capactiy INTEGER NOT NULL,\n",
    "    Actual INTEGER NOT NULL,\n",
    "    Remaining INTEGER NOT NULL,\n",
    "    Credits INTEGER NOT NULL\n",
    "    \n",
    ");\n"
   ]
  },
  {
   "cell_type": "markdown",
   "metadata": {},
   "source": [
    "### Rollup Queries"
   ]
  },
  {
   "cell_type": "code",
   "execution_count": 5,
   "metadata": {},
   "outputs": [
    {
     "name": "stdout",
     "output_type": "stream",
     "text": [
      " * sqlite:///CourseDataWarehouse.db\n",
      "(sqlite3.OperationalError) near \".\": syntax error\n",
      "[SQL: SELECT *\n",
      "FROM 'CourseData.db'.LOCATION.LocationID\n",
      "GROUP BY (LocationID)\n",
      "LIMIT 10;]\n",
      "(Background on this error at: http://sqlalche.me/e/e3q8)\n"
     ]
    }
   ],
   "source": [
    "%%sql\n",
    "\n",
    "SELECT *\n",
    "FROM 'CourseData.db'.LOCATION.LocationID\n",
    "GROUP BY (LocationID)\n",
    "LIMIT 10;"
   ]
  },
  {
   "cell_type": "code",
   "execution_count": null,
   "metadata": {},
   "outputs": [],
   "source": []
  }
 ],
 "metadata": {
  "kernelspec": {
   "display_name": "Python 3",
   "language": "python",
   "name": "python3"
  },
  "language_info": {
   "codemirror_mode": {
    "name": "ipython",
    "version": 3
   },
   "file_extension": ".py",
   "mimetype": "text/x-python",
   "name": "python",
   "nbconvert_exporter": "python",
   "pygments_lexer": "ipython3",
   "version": "3.6.7"
  }
 },
 "nbformat": 4,
 "nbformat_minor": 4
}
