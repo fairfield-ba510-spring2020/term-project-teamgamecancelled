{
 "cells": [
  {
   "cell_type": "markdown",
   "metadata": {},
   "source": [
    "# Term Project Spring 2020 - Team Game Cancelled\n",
    "___"
   ]
  },
  {
   "cell_type": "markdown",
   "metadata": {},
   "source": [
    "## Course Data Warehouse Test"
   ]
  },
  {
   "cell_type": "markdown",
   "metadata": {},
   "source": [
    "<b> Table of Contents: </b>\n",
    "<br> [1. Star Schema](#000)\n",
    "<br> [2. Set Up - SQL and Database Warehouse](#100)\n",
    "<br> [3. Creating Tables from Star Schema](#200)\n",
    "<br> [4. ](#300)\n",
    "<br> [5.](#400)\n",
    "<br> [6.](#500)\n",
    "___"
   ]
  },
  {
   "cell_type": "markdown",
   "metadata": {},
   "source": [
    "<a id = \"000\"> <h2> 1. Star Schema </h2> </a>\n",
    "_Design and build data warehouse called CourseDataWarehouse.db._"
   ]
  },
  {
   "cell_type": "markdown",
   "metadata": {},
   "source": [
    "![Star Schema](James/files/StarSchema.png)"
   ]
  },
  {
   "cell_type": "code",
   "execution_count": null,
   "metadata": {},
   "outputs": [],
   "source": [
    "#switch pic for term 4/22\n",
    "# ADD relationships"
   ]
  },
  {
   "cell_type": "markdown",
   "metadata": {},
   "source": [
    "<a id = \"100\"> <h2> 2. Set Up - SQL and Database Warehouse </h2> </a>"
   ]
  },
  {
   "cell_type": "markdown",
   "metadata": {},
   "source": [
    "### Imports"
   ]
  },
  {
   "cell_type": "code",
   "execution_count": 1,
   "metadata": {},
   "outputs": [],
   "source": [
    "%load_ext sql\n",
    "import pandas as pd\n",
    "import sqlite3"
   ]
  },
  {
   "cell_type": "code",
   "execution_count": 2,
   "metadata": {},
   "outputs": [],
   "source": [
    "# Do we still need this part?\n",
    "%sql sqlite:///CourseDataWarehouse.db\n",
    "conn = sqlite3.connect('CourseDataWarehouse.db')"
   ]
  },
  {
   "cell_type": "code",
   "execution_count": 3,
   "metadata": {},
   "outputs": [
    {
     "name": "stdout",
     "output_type": "stream",
     "text": [
      " * sqlite:///CourseDataWarehouse.db\n",
      "Done.\n"
     ]
    },
    {
     "data": {
      "text/plain": [
       "[]"
      ]
     },
     "execution_count": 3,
     "metadata": {},
     "output_type": "execute_result"
    }
   ],
   "source": [
    "%%sql\n",
    "ATTACH DATABASE 'CourseData.db' AS CourseData;"
   ]
  },
  {
   "cell_type": "code",
   "execution_count": 4,
   "metadata": {},
   "outputs": [
    {
     "name": "stdout",
     "output_type": "stream",
     "text": [
      " * sqlite:///CourseDataWarehouse.db\n",
      "Done.\n"
     ]
    },
    {
     "data": {
      "text/html": [
       "<table>\n",
       "    <tr>\n",
       "        <th>LocationID</th>\n",
       "    </tr>\n",
       "    <tr>\n",
       "        <td>BCC 200</td>\n",
       "    </tr>\n",
       "    <tr>\n",
       "        <td>BD </td>\n",
       "    </tr>\n",
       "    <tr>\n",
       "        <td>BH </td>\n",
       "    </tr>\n",
       "    <tr>\n",
       "        <td>BH BY ARR</td>\n",
       "    </tr>\n",
       "    <tr>\n",
       "        <td>BLM 112</td>\n",
       "    </tr>\n",
       "    <tr>\n",
       "        <td>BLM LL105</td>\n",
       "    </tr>\n",
       "    <tr>\n",
       "        <td>BNW 124</td>\n",
       "    </tr>\n",
       "    <tr>\n",
       "        <td>BNW 127</td>\n",
       "    </tr>\n",
       "    <tr>\n",
       "        <td>BNW 128</td>\n",
       "    </tr>\n",
       "    <tr>\n",
       "        <td>BNW 129B</td>\n",
       "    </tr>\n",
       "</table>"
      ],
      "text/plain": [
       "[('BCC 200',),\n",
       " ('BD ',),\n",
       " ('BH ',),\n",
       " ('BH BY ARR',),\n",
       " ('BLM 112',),\n",
       " ('BLM LL105',),\n",
       " ('BNW 124',),\n",
       " ('BNW 127',),\n",
       " ('BNW 128',),\n",
       " ('BNW 129B',)]"
      ]
     },
     "execution_count": 4,
     "metadata": {},
     "output_type": "execute_result"
    }
   ],
   "source": [
    "%%sql\n",
    "\n",
    "SELECT *\n",
    "FROM CourseData.LOCATION\n",
    "GROUP BY (LocationID)\n",
    "LIMIT 10;"
   ]
  },
  {
   "cell_type": "markdown",
   "metadata": {},
   "source": [
    "<a id = \"200\"> <h2> 3. Create Tables from Star Schema </h2> </a>"
   ]
  },
  {
   "cell_type": "code",
   "execution_count": 5,
   "metadata": {},
   "outputs": [
    {
     "name": "stdout",
     "output_type": "stream",
     "text": [
      " * sqlite:///CourseDataWarehouse.db\n",
      "Done.\n",
      "Done.\n",
      "Done.\n",
      "Done.\n",
      "Done.\n",
      "Done.\n",
      "Done.\n",
      "Done.\n",
      "Done.\n",
      "Done.\n",
      "Done.\n",
      "Done.\n",
      "Done.\n",
      "Done.\n"
     ]
    },
    {
     "data": {
      "text/plain": [
       "[]"
      ]
     },
     "execution_count": 5,
     "metadata": {},
     "output_type": "execute_result"
    }
   ],
   "source": [
    "%%sql\n",
    "\n",
    "-- Instructors Dimension table\n",
    "DROP TABLE IF EXISTS INSTRUCTORS_DIM;\n",
    "CREATE TABLE INSTRUCTORS_DIM (\n",
    "    InstructorID INTEGER PRIMARY KEY,\n",
    "    Name TEXT NOT NULL\n",
    ");\n",
    "\n",
    "-- Location Dimension table\n",
    "DROP TABLE IF EXISTS LOCATION_DIM;\n",
    "CREATE TABLE LOCATION_DIM (\n",
    "    LocationID TEXT PRIMARY KEY\n",
    ");\n",
    "\n",
    "-- Timecode Dimension table\n",
    "DROP TABLE IF EXISTS TIMECODE_DIM;\n",
    "CREATE TABLE TIMECODE_DIM (\n",
    "    TimecodeID INTEGER PRIMARY KEY,\n",
    "    Day TEXT,\n",
    "    Start TEXT,\n",
    "    End Text\n",
    ");\n",
    "\n",
    "-- Programs Dimension table\n",
    "DROP TABLE IF EXISTS PROGRAMS_DIM;\n",
    "CREATE TABLE PROGRAMS_DIM (\n",
    "    ProgramID INTEGER PRIMARY KEY,\n",
    "    ProgramCode TEXT NOT NULL,\n",
    "    ProgramName TEXT NOT NULL\n",
    ");\n",
    "\n",
    "-- Terms Dimension table\n",
    "DROP TABLE IF EXISTS TERMS_DIM;\n",
    "CREATE TABLE TERMS_DIM (\n",
    "    TermsID INTEGER PRIMARY KEY,\n",
    "    Term TEXT NOT NULL\n",
    ");\n",
    "\n",
    "-- Course Catalogs Dimension table\n",
    "DROP TABLE IF EXISTS COURSE_CATALOGS_DIM;\n",
    "CREATE TABLE COURSE_CATALOGS_DIM(\n",
    "    CourseID INTEGER PRIMARY KEY,\n",
    "    CatalogYear TEXT NOT NULL,\n",
    "    CatalogID TEXT NOT NULL,\n",
    "    CourseTitle TEXT NOT NULL,\n",
    "    Credits TEXT NOT NULL,\n",
    "    Prequisites TEXT,\n",
    "    Corequisites TEXT,\n",
    "    Attributes TEXT\n",
    ");\n",
    "\n",
    "-- Course Meetings Fact table\n",
    "DROP TABLE IF EXISTS COURSE_MEETINGS_FACT;\n",
    "CREATE TABLE COURSE_MEETINGS_FACT(\n",
    "    CourseMeetingID INTEGER PRIMARY KEY,\n",
    "    CatalogID TEXT NOT NULL,\n",
    "    ProgramID TEXT NOT NULL,\n",
    "    InstructorID INTEGER NOT NULL,\n",
    "    CourseID INTEGER NOT NULL,\n",
    "    CourseOfferingID INTEGER NOT NULL,\n",
    "    TimecodeID INTEGER,\n",
    "    TermsID INTEGER,\n",
    "    LocationID TEXT NOT NULL,\n",
    "    CRN INTEGER NOT NULL,\n",
    "    PrimaryInstructorID INTEGER,\n",
    "    Capacity INTEGER NOT NULL,\n",
    "    Actual INTEGER NOT NULL,\n",
    "    Remaining INTEGER NOT NULL,\n",
    "    Credits INTEGER NOT NULL,\n",
    "    FOREIGN KEY (TimecodeID) REFERENCES TIMECODE_DIM(TimecodeID),\n",
    "    FOREIGN KEY (TermsID) REFERENCES TERMS_DIM(TermsID)\n",
    "    \n",
    ");\n"
   ]
  },
  {
   "cell_type": "markdown",
   "metadata": {},
   "source": [
    "### Rollup Queries"
   ]
  },
  {
   "cell_type": "code",
   "execution_count": 6,
   "metadata": {},
   "outputs": [
    {
     "name": "stdout",
     "output_type": "stream",
     "text": [
      " * sqlite:///CourseDataWarehouse.db\n",
      "0 rows affected.\n",
      "1095 rows affected.\n"
     ]
    },
    {
     "data": {
      "text/plain": [
       "[]"
      ]
     },
     "execution_count": 6,
     "metadata": {},
     "output_type": "execute_result"
    }
   ],
   "source": [
    "%%sql\n",
    "DELETE FROM INSTRUCTORS_DIM;\n",
    "\n",
    "INSERT INTO INSTRUCTORS_DIM\n",
    "SELECT InstructorID, Name\n",
    "FROM CourseData.INSTRUCTORS;"
   ]
  },
  {
   "cell_type": "code",
   "execution_count": 7,
   "metadata": {},
   "outputs": [
    {
     "name": "stdout",
     "output_type": "stream",
     "text": [
      " * sqlite:///CourseDataWarehouse.db\n",
      "Done.\n"
     ]
    },
    {
     "data": {
      "text/html": [
       "<table>\n",
       "    <tr>\n",
       "        <th>RawCount</th>\n",
       "        <th>DistinctCount</th>\n",
       "    </tr>\n",
       "    <tr>\n",
       "        <td>1095</td>\n",
       "        <td>1095</td>\n",
       "    </tr>\n",
       "</table>"
      ],
      "text/plain": [
       "[(1095, 1095)]"
      ]
     },
     "execution_count": 7,
     "metadata": {},
     "output_type": "execute_result"
    }
   ],
   "source": [
    "%%sql\n",
    "-- Record Counts for Course Meetings\n",
    "SELECT \n",
    "    (SELECT Count(*) FROM INSTRUCTORS_DIM) as 'RawCount',\n",
    "    (SELECT Count(*) FROM (SELECT DISTINCT * FROM INSTRUCTORS_DIM)) as 'DistinctCount';"
   ]
  },
  {
   "cell_type": "markdown",
   "metadata": {},
   "source": [
    "_Testing the data loaded into Coursedata Warehouse_"
   ]
  },
  {
   "cell_type": "code",
   "execution_count": 8,
   "metadata": {},
   "outputs": [
    {
     "name": "stdout",
     "output_type": "stream",
     "text": [
      " * sqlite:///CourseDataWarehouse.db\n",
      "0 rows affected.\n",
      "207 rows affected.\n"
     ]
    },
    {
     "data": {
      "text/plain": [
       "[]"
      ]
     },
     "execution_count": 8,
     "metadata": {},
     "output_type": "execute_result"
    }
   ],
   "source": [
    "%%sql\n",
    "DELETE FROM LOCATION_DIM;\n",
    "\n",
    "INSERT INTO LOCATION_DIM\n",
    "SELECT DISTINCT LocationID\n",
    "FROM CourseData.LOCATION;"
   ]
  },
  {
   "cell_type": "code",
   "execution_count": 9,
   "metadata": {},
   "outputs": [
    {
     "name": "stdout",
     "output_type": "stream",
     "text": [
      " * sqlite:///CourseDataWarehouse.db\n",
      "Done.\n"
     ]
    },
    {
     "data": {
      "text/html": [
       "<table>\n",
       "    <tr>\n",
       "        <th>RawCount</th>\n",
       "        <th>DistinctCount</th>\n",
       "    </tr>\n",
       "    <tr>\n",
       "        <td>207</td>\n",
       "        <td>207</td>\n",
       "    </tr>\n",
       "</table>"
      ],
      "text/plain": [
       "[(207, 207)]"
      ]
     },
     "execution_count": 9,
     "metadata": {},
     "output_type": "execute_result"
    }
   ],
   "source": [
    "%%sql\n",
    "-- Record Counts for Course Meetings\n",
    "SELECT \n",
    "    (SELECT Count(*) FROM LOCATION_DIM) as 'RawCount',\n",
    "    (SELECT Count(*) FROM (SELECT DISTINCT * FROM LOCATION_DIM)) as 'DistinctCount';"
   ]
  },
  {
   "cell_type": "code",
   "execution_count": 10,
   "metadata": {},
   "outputs": [
    {
     "name": "stdout",
     "output_type": "stream",
     "text": [
      " * sqlite:///CourseDataWarehouse.db\n",
      "0 rows affected.\n",
      "39298 rows affected.\n"
     ]
    },
    {
     "data": {
      "text/plain": [
       "[]"
      ]
     },
     "execution_count": 10,
     "metadata": {},
     "output_type": "execute_result"
    }
   ],
   "source": [
    "%%sql\n",
    "DELETE FROM TIMECODE_DIM;\n",
    "\n",
    "INSERT INTO TIMECODE_DIM(Day, Start, End)\n",
    "SELECT DISTINCT Day, StartDateTime, EndDateTime\n",
    "FROM CourseData.COURSE_MEETINGS;"
   ]
  },
  {
   "cell_type": "code",
   "execution_count": 11,
   "metadata": {},
   "outputs": [
    {
     "name": "stdout",
     "output_type": "stream",
     "text": [
      " * sqlite:///CourseDataWarehouse.db\n",
      "Done.\n"
     ]
    },
    {
     "data": {
      "text/html": [
       "<table>\n",
       "    <tr>\n",
       "        <th>RawCount</th>\n",
       "        <th>DistinctCount</th>\n",
       "    </tr>\n",
       "    <tr>\n",
       "        <td>39298</td>\n",
       "        <td>39298</td>\n",
       "    </tr>\n",
       "</table>"
      ],
      "text/plain": [
       "[(39298, 39298)]"
      ]
     },
     "execution_count": 11,
     "metadata": {},
     "output_type": "execute_result"
    }
   ],
   "source": [
    "%%sql\n",
    "-- Record Counts for Course Meetings\n",
    "SELECT \n",
    "    (SELECT Count(*) FROM TIMECODE_DIM) as 'RawCount',\n",
    "    (SELECT Count(*) FROM (SELECT DISTINCT * FROM TIMECODE_DIM)) as 'DistinctCount';"
   ]
  },
  {
   "cell_type": "code",
   "execution_count": 12,
   "metadata": {},
   "outputs": [
    {
     "name": "stdout",
     "output_type": "stream",
     "text": [
      " * sqlite:///CourseDataWarehouse.db\n",
      "Done.\n"
     ]
    },
    {
     "data": {
      "text/html": [
       "<table>\n",
       "    <tr>\n",
       "        <th>TimecodeID</th>\n",
       "        <th>Day</th>\n",
       "        <th>Start</th>\n",
       "        <th>End</th>\n",
       "    </tr>\n",
       "    <tr>\n",
       "        <td>1</td>\n",
       "        <td>T</td>\n",
       "        <td>2014-09-02T08:00:00</td>\n",
       "        <td>2014-09-02T09:15:00</td>\n",
       "    </tr>\n",
       "    <tr>\n",
       "        <td>2</td>\n",
       "        <td>F</td>\n",
       "        <td>2014-09-05T08:00:00</td>\n",
       "        <td>2014-09-05T09:15:00</td>\n",
       "    </tr>\n",
       "    <tr>\n",
       "        <td>3</td>\n",
       "        <td>T</td>\n",
       "        <td>2014-09-09T08:00:00</td>\n",
       "        <td>2014-09-09T09:15:00</td>\n",
       "    </tr>\n",
       "    <tr>\n",
       "        <td>4</td>\n",
       "        <td>F</td>\n",
       "        <td>2014-09-12T08:00:00</td>\n",
       "        <td>2014-09-12T09:15:00</td>\n",
       "    </tr>\n",
       "    <tr>\n",
       "        <td>5</td>\n",
       "        <td>T</td>\n",
       "        <td>2014-09-16T08:00:00</td>\n",
       "        <td>2014-09-16T09:15:00</td>\n",
       "    </tr>\n",
       "    <tr>\n",
       "        <td>6</td>\n",
       "        <td>F</td>\n",
       "        <td>2014-09-19T08:00:00</td>\n",
       "        <td>2014-09-19T09:15:00</td>\n",
       "    </tr>\n",
       "    <tr>\n",
       "        <td>7</td>\n",
       "        <td>T</td>\n",
       "        <td>2014-09-23T08:00:00</td>\n",
       "        <td>2014-09-23T09:15:00</td>\n",
       "    </tr>\n",
       "    <tr>\n",
       "        <td>8</td>\n",
       "        <td>F</td>\n",
       "        <td>2014-09-26T08:00:00</td>\n",
       "        <td>2014-09-26T09:15:00</td>\n",
       "    </tr>\n",
       "    <tr>\n",
       "        <td>9</td>\n",
       "        <td>T</td>\n",
       "        <td>2014-09-30T08:00:00</td>\n",
       "        <td>2014-09-30T09:15:00</td>\n",
       "    </tr>\n",
       "    <tr>\n",
       "        <td>10</td>\n",
       "        <td>F</td>\n",
       "        <td>2014-10-03T08:00:00</td>\n",
       "        <td>2014-10-03T09:15:00</td>\n",
       "    </tr>\n",
       "</table>"
      ],
      "text/plain": [
       "[(1, 'T', '2014-09-02T08:00:00', '2014-09-02T09:15:00'),\n",
       " (2, 'F', '2014-09-05T08:00:00', '2014-09-05T09:15:00'),\n",
       " (3, 'T', '2014-09-09T08:00:00', '2014-09-09T09:15:00'),\n",
       " (4, 'F', '2014-09-12T08:00:00', '2014-09-12T09:15:00'),\n",
       " (5, 'T', '2014-09-16T08:00:00', '2014-09-16T09:15:00'),\n",
       " (6, 'F', '2014-09-19T08:00:00', '2014-09-19T09:15:00'),\n",
       " (7, 'T', '2014-09-23T08:00:00', '2014-09-23T09:15:00'),\n",
       " (8, 'F', '2014-09-26T08:00:00', '2014-09-26T09:15:00'),\n",
       " (9, 'T', '2014-09-30T08:00:00', '2014-09-30T09:15:00'),\n",
       " (10, 'F', '2014-10-03T08:00:00', '2014-10-03T09:15:00')]"
      ]
     },
     "execution_count": 12,
     "metadata": {},
     "output_type": "execute_result"
    }
   ],
   "source": [
    "%%sql\n",
    "SELECT *\n",
    "FROM TIMECODE_DIM\n",
    "LIMIT 10;"
   ]
  },
  {
   "cell_type": "code",
   "execution_count": 13,
   "metadata": {},
   "outputs": [
    {
     "name": "stdout",
     "output_type": "stream",
     "text": [
      " * sqlite:///CourseDataWarehouse.db\n",
      "0 rows affected.\n",
      "83 rows affected.\n"
     ]
    },
    {
     "data": {
      "text/plain": [
       "[]"
      ]
     },
     "execution_count": 13,
     "metadata": {},
     "output_type": "execute_result"
    }
   ],
   "source": [
    "%%sql\n",
    "DELETE FROM PROGRAMS_DIM;\n",
    "\n",
    "INSERT INTO PROGRAMS_DIM\n",
    "SELECT ProgramID, ProgramCode, ProgramName\n",
    "FROM CourseData.PROGRAMS; "
   ]
  },
  {
   "cell_type": "code",
   "execution_count": 14,
   "metadata": {},
   "outputs": [
    {
     "name": "stdout",
     "output_type": "stream",
     "text": [
      " * sqlite:///CourseDataWarehouse.db\n",
      "Done.\n"
     ]
    },
    {
     "data": {
      "text/html": [
       "<table>\n",
       "    <tr>\n",
       "        <th>RawCount</th>\n",
       "        <th>DistinctCount</th>\n",
       "    </tr>\n",
       "    <tr>\n",
       "        <td>83</td>\n",
       "        <td>83</td>\n",
       "    </tr>\n",
       "</table>"
      ],
      "text/plain": [
       "[(83, 83)]"
      ]
     },
     "execution_count": 14,
     "metadata": {},
     "output_type": "execute_result"
    }
   ],
   "source": [
    "%%sql\n",
    "-- Record Counts for Course Meetings\n",
    "SELECT \n",
    "    (SELECT Count(*) FROM PROGRAMS) as 'RawCount',\n",
    "    (SELECT Count(*) FROM (SELECT DISTINCT * FROM PROGRAMS)) as 'DistinctCount';"
   ]
  },
  {
   "cell_type": "code",
   "execution_count": 15,
   "metadata": {},
   "outputs": [
    {
     "name": "stdout",
     "output_type": "stream",
     "text": [
      " * sqlite:///CourseDataWarehouse.db\n",
      "0 rows affected.\n",
      "19 rows affected.\n"
     ]
    },
    {
     "data": {
      "text/plain": [
       "[]"
      ]
     },
     "execution_count": 15,
     "metadata": {},
     "output_type": "execute_result"
    }
   ],
   "source": [
    "%%sql\n",
    "DELETE FROM TERMS_DIM;\n",
    "\n",
    "INSERT INTO TERMS_DIM(Term)\n",
    "SELECT DISTINCT Term\n",
    "FROM CourseData.COURSE_OFFERINGS;"
   ]
  },
  {
   "cell_type": "code",
   "execution_count": 16,
   "metadata": {},
   "outputs": [
    {
     "name": "stdout",
     "output_type": "stream",
     "text": [
      " * sqlite:///CourseDataWarehouse.db\n",
      "Done.\n"
     ]
    },
    {
     "data": {
      "text/html": [
       "<table>\n",
       "    <tr>\n",
       "        <th>RawCount</th>\n",
       "        <th>DistinctCount</th>\n",
       "    </tr>\n",
       "    <tr>\n",
       "        <td>19</td>\n",
       "        <td>19</td>\n",
       "    </tr>\n",
       "</table>"
      ],
      "text/plain": [
       "[(19, 19)]"
      ]
     },
     "execution_count": 16,
     "metadata": {},
     "output_type": "execute_result"
    }
   ],
   "source": [
    "%%sql\n",
    "-- Record Counts for Course Meetings\n",
    "SELECT \n",
    "    (SELECT Count(*) FROM TERMS_DIM) as 'RawCount',\n",
    "    (SELECT Count(*) FROM (SELECT DISTINCT * FROM TERMS_DIM)) as 'DistinctCount';"
   ]
  },
  {
   "cell_type": "code",
   "execution_count": 17,
   "metadata": {},
   "outputs": [
    {
     "name": "stdout",
     "output_type": "stream",
     "text": [
      " * sqlite:///CourseDataWarehouse.db\n",
      "Done.\n"
     ]
    },
    {
     "data": {
      "text/html": [
       "<table>\n",
       "    <tr>\n",
       "        <th>TermsID</th>\n",
       "        <th>Term</th>\n",
       "    </tr>\n",
       "    <tr>\n",
       "        <td>1</td>\n",
       "        <td>Fall2014</td>\n",
       "    </tr>\n",
       "    <tr>\n",
       "        <td>2</td>\n",
       "        <td>Fall2015</td>\n",
       "    </tr>\n",
       "    <tr>\n",
       "        <td>3</td>\n",
       "        <td>Fall2016</td>\n",
       "    </tr>\n",
       "    <tr>\n",
       "        <td>4</td>\n",
       "        <td>Fall2017</td>\n",
       "    </tr>\n",
       "    <tr>\n",
       "        <td>5</td>\n",
       "        <td>Fall2018</td>\n",
       "    </tr>\n",
       "    <tr>\n",
       "        <td>6</td>\n",
       "        <td>Spring2015</td>\n",
       "    </tr>\n",
       "    <tr>\n",
       "        <td>7</td>\n",
       "        <td>Spring2016</td>\n",
       "    </tr>\n",
       "    <tr>\n",
       "        <td>8</td>\n",
       "        <td>Spring2017</td>\n",
       "    </tr>\n",
       "    <tr>\n",
       "        <td>9</td>\n",
       "        <td>Spring2018</td>\n",
       "    </tr>\n",
       "    <tr>\n",
       "        <td>10</td>\n",
       "        <td>Spring2019</td>\n",
       "    </tr>\n",
       "</table>"
      ],
      "text/plain": [
       "[(1, 'Fall2014'),\n",
       " (2, 'Fall2015'),\n",
       " (3, 'Fall2016'),\n",
       " (4, 'Fall2017'),\n",
       " (5, 'Fall2018'),\n",
       " (6, 'Spring2015'),\n",
       " (7, 'Spring2016'),\n",
       " (8, 'Spring2017'),\n",
       " (9, 'Spring2018'),\n",
       " (10, 'Spring2019')]"
      ]
     },
     "execution_count": 17,
     "metadata": {},
     "output_type": "execute_result"
    }
   ],
   "source": [
    "%%sql\n",
    "SELECT *\n",
    "FROM TERMS_DIM\n",
    "LIMIT 10;"
   ]
  },
  {
   "cell_type": "code",
   "execution_count": 18,
   "metadata": {},
   "outputs": [
    {
     "name": "stdout",
     "output_type": "stream",
     "text": [
      " * sqlite:///CourseDataWarehouse.db\n",
      "0 rows affected.\n",
      "4440 rows affected.\n"
     ]
    },
    {
     "data": {
      "text/plain": [
       "[]"
      ]
     },
     "execution_count": 18,
     "metadata": {},
     "output_type": "execute_result"
    }
   ],
   "source": [
    "%%sql\n",
    "DELETE FROM COURSE_CATALOGS_DIM;\n",
    "\n",
    "INSERT INTO COURSE_CATALOGS_DIM\n",
    "SELECT CourseID, CatalogYear, CatalogID, CourseTitle, Credits, Prequisites, Corequisites, Attributes \n",
    "FROM CourseData.COURSE_CATALOGS;"
   ]
  },
  {
   "cell_type": "code",
   "execution_count": 25,
   "metadata": {},
   "outputs": [
    {
     "name": "stdout",
     "output_type": "stream",
     "text": [
      " * sqlite:///CourseDataWarehouse.db\n",
      "0 rows affected.\n",
      "(sqlite3.OperationalError) no such column: PROGRAMS.ProgramID\n",
      "[SQL: INSERT INTO COURSE_MEETINGS_FACT(CourseMeetingID,CatalogID,ProgramID,InstructorID,CourseID,CourseOfferingID,LocationID,CRN,InstructorID,Capacity,Actual,Remaining,Credits)\n",
      "SELECT DISTINCT COURSE_MEETINGS.CourseMeetingID, CourseData.COURSE_OFFERINGS.CatalogID, PROGRAMS.ProgramID, INSTRUCTORS.InstructorID, COURSE_CATALOGS.CourseID, COURSE_OFFERINGS.CourseOfferingID, LOCATION.LocationID, COURSE_MEETINGS.CRN, INSTRUCTORS.InstructorID, COURSE_OFFERINGS.Capacity, COURSE_OFFERINGS.Actual, COURSE_OFFERINGS.Remaining, COURSE_OFFERINGS.Credits  \n",
      "FROM CourseData.COURSE_MEETINGS \n",
      "    JOIN CourseData.COURSE_OFFERINGS USING (CourseOfferingID)\n",
      "    LEFT JOIN PROGRAMS_DIM ON (CourseData.PROGRAMS.ProgramID = PROGRAMS_DIM.ProgramID)\n",
      "    LEFT JOIN INSTRUCTORS_DIM ON (CourseData.COURSE_OFFERINGS.PrimaryInstructorID = INSTRUCTORS_DIM.InstructorID)\n",
      "    LEFT JOIN COURSE_CATALOGS_DIM ON (CourseData.COURSE_CATALOGS.CatalogID = COURSE_CATALOGS_DIM.CatalogID);]\n",
      "(Background on this error at: http://sqlalche.me/e/e3q8)\n"
     ]
    }
   ],
   "source": [
    "%%sql\n",
    "DELETE FROM COURSE_MEETINGS_FACT;\n",
    "\n",
    "INSERT INTO COURSE_MEETINGS_FACT(CourseMeetingID,CatalogID,ProgramID,InstructorID,CourseID,CourseOfferingID,LocationID,CRN,InstructorID,Capacity,Actual,Remaining,Credits)\n",
    "SELECT DISTINCT COURSE_MEETINGS.CourseMeetingID, CourseData.COURSE_OFFERINGS.CatalogID, PROGRAMS.ProgramID, INSTRUCTORS.InstructorID, COURSE_CATALOGS.CourseID, COURSE_OFFERINGS.CourseOfferingID, LOCATION.LocationID, COURSE_MEETINGS.CRN, INSTRUCTORS.InstructorID, COURSE_OFFERINGS.Capacity, COURSE_OFFERINGS.Actual, COURSE_OFFERINGS.Remaining, COURSE_OFFERINGS.Credits  \n",
    "FROM CourseData.COURSE_MEETINGS \n",
    "    JOIN CourseData.COURSE_OFFERINGS USING (CourseOfferingID)\n",
    "    LEFT JOIN PROGRAMS_DIM ON (CourseData.PROGRAMS.ProgramID = PROGRAMS_DIM.ProgramID)\n",
    "    LEFT JOIN INSTRUCTORS_DIM ON (CourseData.COURSE_OFFERINGS.PrimaryInstructorID = INSTRUCTORS_DIM.InstructorID)\n",
    "    LEFT JOIN COURSE_CATALOGS_DIM ON (CourseData.COURSE_CATALOGS.CatalogID = COURSE_CATALOGS_DIM.CatalogID);\n",
    "    LEFT JOIN TERMS_DIM ON (CourseData.COURSE_OFFERINGS.Term = TERMS_DIM.Term)\n",
    "    LEFT JOIN LOCATION_DIM ON (CourseData.LOCATION.LocationID = LOCATION_DIM.LocationID)\n",
    "    LEFT JOIN TIMECODE_DIM ON (CourseData.COURSE_MEETINGS.Day = TIMECODE_DIM.Day)\n",
    "    \n",
    "\n",
    "SELECT * FROM COURSE_MEETINGS_FACT\n",
    "LIMIT 5;\n",
    "\n",
    "# joining all the tables at once "
   ]
  },
  {
   "cell_type": "code",
   "execution_count": 21,
   "metadata": {},
   "outputs": [
    {
     "name": "stdout",
     "output_type": "stream",
     "text": [
      " * sqlite:///CourseDataWarehouse.db\n",
      "Done.\n"
     ]
    },
    {
     "data": {
      "text/html": [
       "<table>\n",
       "    <tr>\n",
       "        <th>CourseMeetingID</th>\n",
       "        <th>CourseOfferingID</th>\n",
       "        <th>CRN</th>\n",
       "        <th>LocationID</th>\n",
       "        <th>Day</th>\n",
       "        <th>StartDateTime</th>\n",
       "        <th>EndDateTime</th>\n",
       "        <th>CourseID</th>\n",
       "        <th>Term</th>\n",
       "        <th>CRN_1</th>\n",
       "        <th>CatalogID</th>\n",
       "        <th>Section</th>\n",
       "        <th>Credits</th>\n",
       "        <th>Title</th>\n",
       "        <th>Timecodes</th>\n",
       "        <th>PrimaryInstructorID</th>\n",
       "        <th>Capacity</th>\n",
       "        <th>Actual</th>\n",
       "        <th>Remaining</th>\n",
       "        <th>InstructorID</th>\n",
       "        <th>Name</th>\n",
       "    </tr>\n",
       "</table>"
      ],
      "text/plain": [
       "[]"
      ]
     },
     "execution_count": 21,
     "metadata": {},
     "output_type": "execute_result"
    }
   ],
   "source": [
    "%%sql\n",
    "\n",
    "SELECT *\n",
    "FROM CourseData.COURSE_MEETINGS\n",
    "    JOIN CourseData.COURSE_OFFERINGS USING (CourseOfferingID)\n",
    "    LEFT JOIN INSTRUCTORS_DIM ON (CourseData.COURSE_OFFERINGS.PrimaryInstructorID = INSTRUCTORS_DIM.InstructorID)\n",
    "    \n",
    "LIMIT 10;\n",
    "\n",
    "## working on with Huntely "
   ]
  },
  {
   "cell_type": "code",
   "execution_count": 22,
   "metadata": {},
   "outputs": [
    {
     "name": "stdout",
     "output_type": "stream",
     "text": [
      " * sqlite:///CourseDataWarehouse.db\n",
      "Done.\n"
     ]
    },
    {
     "data": {
      "text/html": [
       "<table>\n",
       "    <tr>\n",
       "        <th>CourseOfferingID</th>\n",
       "        <th>CourseID</th>\n",
       "        <th>Term</th>\n",
       "        <th>CRN</th>\n",
       "        <th>CatalogID</th>\n",
       "        <th>Section</th>\n",
       "        <th>Credits</th>\n",
       "        <th>Title</th>\n",
       "        <th>Timecodes</th>\n",
       "        <th>PrimaryInstructorID</th>\n",
       "        <th>Capacity</th>\n",
       "        <th>Actual</th>\n",
       "        <th>Remaining</th>\n",
       "    </tr>\n",
       "    <tr>\n",
       "        <td>1</td>\n",
       "        <td>None</td>\n",
       "        <td>Fall2014</td>\n",
       "        <td>70384</td>\n",
       "        <td>AC 0011</td>\n",
       "        <td>C01</td>\n",
       "        <td>3.000</td>\n",
       "        <td>Introduction to Financial Accounting</td>\n",
       "        <td>[&#x27;TF 0800am-0915am 09/02-12/08 DSB 105&#x27;]</td>\n",
       "        <td>Michael P.  Coyne</td>\n",
       "        <td>0</td>\n",
       "        <td>31</td>\n",
       "        <td>-31</td>\n",
       "    </tr>\n",
       "</table>"
      ],
      "text/plain": [
       "[(1, None, 'Fall2014', 70384, 'AC 0011', 'C01', '3.000', 'Introduction to Financial Accounting', \"['TF 0800am-0915am 09/02-12/08 DSB 105']\", 'Michael P.  Coyne', 0, 31, -31)]"
      ]
     },
     "execution_count": 22,
     "metadata": {},
     "output_type": "execute_result"
    }
   ],
   "source": [
    "%%sql \n",
    "\n",
    "SELECT *\n",
    "FROM CourseData.COURSE_OFFERINGS\n",
    "LIMIT 1;\n",
    "\n",
    "# test for course offerings table"
   ]
  },
  {
   "cell_type": "code",
   "execution_count": 23,
   "metadata": {},
   "outputs": [
    {
     "name": "stdout",
     "output_type": "stream",
     "text": [
      " * sqlite:///CourseDataWarehouse.db\n",
      "0 rows affected.\n",
      "(sqlite3.OperationalError) cannot join using column InstructorID - column not present in both tables\n",
      "[SQL: INSERT INTO COURSE_MEETINGS_FACT(InstructorID)\n",
      "SELECT DISTINCT INSTRUCTORS.InstructorID\n",
      "FROM COURSE_OFFERINGS\n",
      "    LEFT JOIN INSTRUCTORS_DIM USING (InstructorID);]\n",
      "(Background on this error at: http://sqlalche.me/e/e3q8)\n"
     ]
    }
   ],
   "source": [
    "%%sql\n",
    "\n",
    "DELETE FROM COURSE_MEETINGS_FACT;\n",
    "\n",
    "INSERT INTO COURSE_MEETINGS_FACT(InstructorID)\n",
    "SELECT DISTINCT INSTRUCTORS.InstructorID\n",
    "FROM COURSE_OFFERINGS\n",
    "    LEFT JOIN INSTRUCTORS_DIM USING (InstructorID); \n",
    "    \n",
    "SELECT *\n",
    "LIMIT 5;\n",
    "\n",
    "# prob bad"
   ]
  },
  {
   "cell_type": "code",
   "execution_count": null,
   "metadata": {},
   "outputs": [],
   "source": [
    "%%sql\n",
    "\n",
    "DELETE FROM COURSE_MEETINGS_FACT;\n",
    "\n",
    "INSERT INTO COURSE_MEETINGS_FACT(LocationID)\n",
    "SELECT DISTINCT LocationID\n",
    "FROM CourseData.LOCATION\n",
    "    LEFT JOIN LOCATION_DIM USING (LocationID); \n",
    "    \n",
    "SELECT * FROM\n",
    "LIMIT 5;\n",
    "\n",
    "# prob bad "
   ]
  },
  {
   "cell_type": "code",
   "execution_count": null,
   "metadata": {},
   "outputs": [],
   "source": []
  },
  {
   "cell_type": "code",
   "execution_count": null,
   "metadata": {},
   "outputs": [],
   "source": []
  }
 ],
 "metadata": {
  "kernelspec": {
   "display_name": "Python 3",
   "language": "python",
   "name": "python3"
  },
  "language_info": {
   "codemirror_mode": {
    "name": "ipython",
    "version": 3
   },
   "file_extension": ".py",
   "mimetype": "text/x-python",
   "name": "python",
   "nbconvert_exporter": "python",
   "pygments_lexer": "ipython3",
   "version": "3.6.7"
  }
 },
 "nbformat": 4,
 "nbformat_minor": 4
}
