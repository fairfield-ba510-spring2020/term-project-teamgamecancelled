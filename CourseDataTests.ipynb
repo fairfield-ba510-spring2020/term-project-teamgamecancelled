{
 "cells": [
  {
   "cell_type": "markdown",
   "metadata": {},
   "source": [
    "# Term Project Spring 2020 - Team Game Cancelled\n",
    "___"
   ]
  },
  {
   "cell_type": "markdown",
   "metadata": {},
   "source": [
    "## Course Data Tests\n",
    "_Test the integrity of your new CourseData.db database._"
   ]
  },
  {
   "cell_type": "markdown",
   "metadata": {},
   "source": [
    "<b> Table of Contents: </b>\n",
    "<br> [1. Set Up - SQL and Database](#00)\n",
    "<br> [2. Test Domain Integrity for Each Column](#10)\n",
    "<br> [3. Test Integrity of Each Row](#20)\n",
    "<br> [4. Test Integrity of Each Table Relationship](#30)\n",
    "<br> [5. Empty out Tables to Reclaim Storage](#40)\n",
    "\n",
    "___"
   ]
  },
  {
   "cell_type": "markdown",
   "metadata": {},
   "source": [
    "<a id = \"00\"> <h2> 1. Set Up - SQL and Database </h2> </a>\n"
   ]
  },
  {
   "cell_type": "markdown",
   "metadata": {},
   "source": [
    "### Imports"
   ]
  },
  {
   "cell_type": "code",
   "execution_count": 1,
   "metadata": {},
   "outputs": [],
   "source": [
    "%load_ext sql\n",
    "import pandas as pd\n",
    "import sqlite3"
   ]
  },
  {
   "cell_type": "code",
   "execution_count": 2,
   "metadata": {},
   "outputs": [],
   "source": [
    "%sql sqlite:///CourseData.db\n",
    "conn = sqlite3.connect('CourseData.db')"
   ]
  },
  {
   "cell_type": "markdown",
   "metadata": {},
   "source": [
    "___\n",
    "<a id = \"10\"> <h2> 2. Test Domain Integrity for Each Column </h2> </a>\n",
    "_Each column has a sensible data type (Domain integrity)_"
   ]
  },
  {
   "cell_type": "code",
   "execution_count": 3,
   "metadata": {},
   "outputs": [
    {
     "name": "stdout",
     "output_type": "stream",
     "text": [
      " * sqlite:///CourseData.db\n",
      "Done.\n"
     ]
    },
    {
     "data": {
      "text/html": [
       "<table>\n",
       "    <tr>\n",
       "        <th>InstructorID</th>\n",
       "        <th>Name</th>\n",
       "    </tr>\n",
       "    <tr>\n",
       "        <td>1</td>\n",
       "        <td>Michael P.  Coyne</td>\n",
       "    </tr>\n",
       "    <tr>\n",
       "        <td>2</td>\n",
       "        <td>Rebecca I.  Bloch</td>\n",
       "    </tr>\n",
       "    <tr>\n",
       "        <td>3</td>\n",
       "        <td>Paul   Caster</td>\n",
       "    </tr>\n",
       "    <tr>\n",
       "        <td>4</td>\n",
       "        <td>Jo Ann   Drusbosky</td>\n",
       "    </tr>\n",
       "    <tr>\n",
       "        <td>5</td>\n",
       "        <td>Arleen N.  Kardos</td>\n",
       "    </tr>\n",
       "    <tr>\n",
       "        <td>6</td>\n",
       "        <td>Scott M  Brenner</td>\n",
       "    </tr>\n",
       "    <tr>\n",
       "        <td>7</td>\n",
       "        <td>Kevin C.  Cassidy</td>\n",
       "    </tr>\n",
       "    <tr>\n",
       "        <td>8</td>\n",
       "        <td>Bruce   Bradford</td>\n",
       "    </tr>\n",
       "    <tr>\n",
       "        <td>9</td>\n",
       "        <td>Milo W.  Peck</td>\n",
       "    </tr>\n",
       "    <tr>\n",
       "        <td>10</td>\n",
       "        <td>Stephen E.  Yost</td>\n",
       "    </tr>\n",
       "</table>"
      ],
      "text/plain": [
       "[(1, 'Michael P.  Coyne'),\n",
       " (2, 'Rebecca I.  Bloch'),\n",
       " (3, 'Paul   Caster'),\n",
       " (4, 'Jo Ann   Drusbosky'),\n",
       " (5, 'Arleen N.  Kardos'),\n",
       " (6, 'Scott M  Brenner'),\n",
       " (7, 'Kevin C.  Cassidy'),\n",
       " (8, 'Bruce   Bradford'),\n",
       " (9, 'Milo W.  Peck'),\n",
       " (10, 'Stephen E.  Yost')]"
      ]
     },
     "execution_count": 3,
     "metadata": {},
     "output_type": "execute_result"
    }
   ],
   "source": [
    "%%sql \n",
    "-- Testing Instructors Table\n",
    "\n",
    "SELECT *\n",
    "FROM Instructors\n",
    "LIMIT 10"
   ]
  },
  {
   "cell_type": "code",
   "execution_count": 4,
   "metadata": {},
   "outputs": [
    {
     "name": "stdout",
     "output_type": "stream",
     "text": [
      " * sqlite:///CourseData.db\n",
      "Done.\n"
     ]
    },
    {
     "data": {
      "text/html": [
       "<table>\n",
       "    <tr>\n",
       "        <th>ProgramID</th>\n",
       "        <th>ProgramCode</th>\n",
       "        <th>ProgramName</th>\n",
       "    </tr>\n",
       "    <tr>\n",
       "        <td>1</td>\n",
       "        <td>AC</td>\n",
       "        <td>Accounting</td>\n",
       "    </tr>\n",
       "    <tr>\n",
       "        <td>2</td>\n",
       "        <td>AE</td>\n",
       "        <td>Applied Ethics</td>\n",
       "    </tr>\n",
       "    <tr>\n",
       "        <td>3</td>\n",
       "        <td>AH</td>\n",
       "        <td>Art History</td>\n",
       "    </tr>\n",
       "    <tr>\n",
       "        <td>4</td>\n",
       "        <td>AN</td>\n",
       "        <td>Asian Studies</td>\n",
       "    </tr>\n",
       "    <tr>\n",
       "        <td>5</td>\n",
       "        <td>AR</td>\n",
       "        <td>Arabic</td>\n",
       "    </tr>\n",
       "    <tr>\n",
       "        <td>6</td>\n",
       "        <td>AS</td>\n",
       "        <td>American Studies</td>\n",
       "    </tr>\n",
       "    <tr>\n",
       "        <td>7</td>\n",
       "        <td>AY</td>\n",
       "        <td>Anthropology</td>\n",
       "    </tr>\n",
       "    <tr>\n",
       "        <td>8</td>\n",
       "        <td>BB</td>\n",
       "        <td>Business</td>\n",
       "    </tr>\n",
       "    <tr>\n",
       "        <td>9</td>\n",
       "        <td>BEN</td>\n",
       "        <td>Bioengineering</td>\n",
       "    </tr>\n",
       "    <tr>\n",
       "        <td>10</td>\n",
       "        <td>BI</td>\n",
       "        <td>Biology</td>\n",
       "    </tr>\n",
       "</table>"
      ],
      "text/plain": [
       "[(1, 'AC', 'Accounting'),\n",
       " (2, 'AE', 'Applied Ethics'),\n",
       " (3, 'AH', 'Art History'),\n",
       " (4, 'AN', 'Asian Studies'),\n",
       " (5, 'AR', 'Arabic'),\n",
       " (6, 'AS', 'American Studies'),\n",
       " (7, 'AY', 'Anthropology'),\n",
       " (8, 'BB', 'Business'),\n",
       " (9, 'BEN', 'Bioengineering'),\n",
       " (10, 'BI', 'Biology')]"
      ]
     },
     "execution_count": 4,
     "metadata": {},
     "output_type": "execute_result"
    }
   ],
   "source": [
    "%%sql \n",
    "-- Testing Programs Table\n",
    "\n",
    "SELECT *\n",
    "FROM Programs\n",
    "LIMIT 10"
   ]
  },
  {
   "cell_type": "code",
   "execution_count": 5,
   "metadata": {},
   "outputs": [
    {
     "name": "stdout",
     "output_type": "stream",
     "text": [
      " * sqlite:///CourseData.db\n",
      "Done.\n"
     ]
    },
    {
     "data": {
      "text/html": [
       "<table>\n",
       "    <tr>\n",
       "        <th>CourseID</th>\n",
       "        <th>CatalogYear</th>\n",
       "        <th>CatalogID</th>\n",
       "        <th>ProgramID</th>\n",
       "        <th>CourseTitle</th>\n",
       "        <th>Credits</th>\n",
       "        <th>Prequisites</th>\n",
       "        <th>Corequisites</th>\n",
       "        <th>Fees</th>\n",
       "        <th>Attributes</th>\n",
       "        <th>Description</th>\n",
       "    </tr>\n",
       "    <tr>\n",
       "        <td>1</td>\n",
       "        <td>2017_2018</td>\n",
       "        <td>AN 0301</td>\n",
       "        <td>4</td>\n",
       "        <td>Independent Study</td>\n",
       "        <td>1-3 Credits</td>\n",
       "        <td>None</td>\n",
       "        <td>None</td>\n",
       "        <td>None</td>\n",
       "        <td>None</td>\n",
       "        <td>Students undertake an individualized program of study in consultation with a director from the Asian studies faculty.</td>\n",
       "    </tr>\n",
       "    <tr>\n",
       "        <td>2</td>\n",
       "        <td>2017_2018</td>\n",
       "        <td>AN 0310</td>\n",
       "        <td>4</td>\n",
       "        <td>Asian Studies Seminar</td>\n",
       "        <td>3 Credits</td>\n",
       "        <td>None</td>\n",
       "        <td>None</td>\n",
       "        <td>None</td>\n",
       "        <td>None</td>\n",
       "        <td>This seminar examines selected topics concerning Asia. This course is taught in conjunction with another 100-300 level course from a rotation of course offerings. Consult the Asian Studies director to identify the conjoined course for a given semester. The seminar concentrates on topics within the parameters of the conjoined course syllabus but adds research emphasis. Students registered for this course must complete a research project, to include 300-level research, in addition to the regular research requirements of the conjoined course, and a 25-50 page term paper in substitution of some portion of the conjoined course requirements, as determined by the instructor. Open to juniors and seniors only.</td>\n",
       "    </tr>\n",
       "</table>"
      ],
      "text/plain": [
       "[(1, '2017_2018', 'AN 0301', '4', 'Independent Study', '1-3 Credits', None, None, None, None, 'Students undertake an individualized program of study in consultation with a director from the Asian studies faculty.'),\n",
       " (2, '2017_2018', 'AN 0310', '4', 'Asian Studies Seminar', '3 Credits', None, None, None, None, 'This seminar examines selected topics concerning Asia. This course is taught in conjunction with another 100-300 level course from a rotation of cour ... (412 characters truncated) ... e term paper in substitution of some portion of the conjoined course requirements, as determined by the instructor. Open to juniors and seniors only.')]"
      ]
     },
     "execution_count": 5,
     "metadata": {},
     "output_type": "execute_result"
    }
   ],
   "source": [
    "%%sql \n",
    "-- Testing Course Catalogs Table\n",
    "\n",
    "SELECT *\n",
    "FROM Course_Catalogs\n",
    "LIMIT 2"
   ]
  },
  {
   "cell_type": "markdown",
   "metadata": {},
   "source": [
    "_Take aways:_ \n",
    "- Data is truncated in the \"Description\" section of Course_Catalog Table\n",
    "- Independent Study is 3.000 Credits in Course_Offerings Table & Timecodes are '[]' "
   ]
  },
  {
   "cell_type": "code",
   "execution_count": 6,
   "metadata": {},
   "outputs": [
    {
     "name": "stdout",
     "output_type": "stream",
     "text": [
      " * sqlite:///CourseData.db\n",
      "Done.\n"
     ]
    },
    {
     "data": {
      "text/html": [
       "<table>\n",
       "    <tr>\n",
       "        <th>CourseOfferingID</th>\n",
       "        <th>CourseID</th>\n",
       "        <th>Term</th>\n",
       "        <th>CRN</th>\n",
       "        <th>CatalogID</th>\n",
       "        <th>Section</th>\n",
       "        <th>Credits</th>\n",
       "        <th>Title</th>\n",
       "        <th>Timecodes</th>\n",
       "        <th>PrimaryInstructorID</th>\n",
       "        <th>Capacity</th>\n",
       "        <th>Actual</th>\n",
       "        <th>Remaining</th>\n",
       "    </tr>\n",
       "    <tr>\n",
       "        <td>96</td>\n",
       "        <td>None</td>\n",
       "        <td>Fall2014</td>\n",
       "        <td>71858</td>\n",
       "        <td>AN 0301</td>\n",
       "        <td>A</td>\n",
       "        <td>3.000</td>\n",
       "        <td>Independent Study 201409</td>\n",
       "        <td>[]</td>\n",
       "        <td>TBA</td>\n",
       "        <td>0</td>\n",
       "        <td>0</td>\n",
       "        <td>0</td>\n",
       "    </tr>\n",
       "    <tr>\n",
       "        <td>1615</td>\n",
       "        <td>None</td>\n",
       "        <td>Fall2015</td>\n",
       "        <td>77054</td>\n",
       "        <td>AN 0301</td>\n",
       "        <td>AA</td>\n",
       "        <td>3.000</td>\n",
       "        <td>Independent Study</td>\n",
       "        <td>[]</td>\n",
       "        <td>Anna-Maria   Aksan</td>\n",
       "        <td>0</td>\n",
       "        <td>1</td>\n",
       "        <td>-1</td>\n",
       "    </tr>\n",
       "    <tr>\n",
       "        <td>3090</td>\n",
       "        <td>None</td>\n",
       "        <td>Fall2016</td>\n",
       "        <td>79199</td>\n",
       "        <td>AN 0301</td>\n",
       "        <td>JX</td>\n",
       "        <td>3.000</td>\n",
       "        <td>Independent Study: Tutorials for Advanced Chinese</td>\n",
       "        <td>[]</td>\n",
       "        <td>Jiwei   Xiao</td>\n",
       "        <td>0</td>\n",
       "        <td>2</td>\n",
       "        <td>-2</td>\n",
       "    </tr>\n",
       "    <tr>\n",
       "        <td>4585</td>\n",
       "        <td>None</td>\n",
       "        <td>Fall2017</td>\n",
       "        <td>73057</td>\n",
       "        <td>AN 0301</td>\n",
       "        <td>DL</td>\n",
       "        <td>3.000</td>\n",
       "        <td>Independent Study</td>\n",
       "        <td>[]</td>\n",
       "        <td>Danke   Li</td>\n",
       "        <td>0</td>\n",
       "        <td>1</td>\n",
       "        <td>-1</td>\n",
       "    </tr>\n",
       "    <tr>\n",
       "        <td>4586</td>\n",
       "        <td>None</td>\n",
       "        <td>Fall2017</td>\n",
       "        <td>73018</td>\n",
       "        <td>AN 0301</td>\n",
       "        <td>JX</td>\n",
       "        <td>3.000</td>\n",
       "        <td>Independent Study</td>\n",
       "        <td>[]</td>\n",
       "        <td>Jiwei   Xiao</td>\n",
       "        <td>0</td>\n",
       "        <td>1</td>\n",
       "        <td>-1</td>\n",
       "    </tr>\n",
       "    <tr>\n",
       "        <td>7591</td>\n",
       "        <td>None</td>\n",
       "        <td>Spring2015</td>\n",
       "        <td>34130</td>\n",
       "        <td>AN 0301</td>\n",
       "        <td>DL</td>\n",
       "        <td>3.000</td>\n",
       "        <td>Independent Study</td>\n",
       "        <td>[]</td>\n",
       "        <td>Danke   Li</td>\n",
       "        <td>1</td>\n",
       "        <td>0</td>\n",
       "        <td>1</td>\n",
       "    </tr>\n",
       "    <tr>\n",
       "        <td>9007</td>\n",
       "        <td>None</td>\n",
       "        <td>Spring2016</td>\n",
       "        <td>39186</td>\n",
       "        <td>AN 0301</td>\n",
       "        <td>PL</td>\n",
       "        <td>3.000</td>\n",
       "        <td>Independent Study</td>\n",
       "        <td>[]</td>\n",
       "        <td>Philip J.  Lane</td>\n",
       "        <td>0</td>\n",
       "        <td>1</td>\n",
       "        <td>-1</td>\n",
       "    </tr>\n",
       "</table>"
      ],
      "text/plain": [
       "[(96, None, 'Fall2014', 71858, 'AN 0301', 'A', '3.000', 'Independent Study 201409', '[]', 'TBA', 0, 0, 0),\n",
       " (1615, None, 'Fall2015', 77054, 'AN 0301', 'AA', '3.000', 'Independent Study', '[]', 'Anna-Maria   Aksan', 0, 1, -1),\n",
       " (3090, None, 'Fall2016', 79199, 'AN 0301', 'JX', '3.000', 'Independent Study: Tutorials for Advanced Chinese', '[]', 'Jiwei   Xiao', 0, 2, -2),\n",
       " (4585, None, 'Fall2017', 73057, 'AN 0301', 'DL', '3.000', 'Independent Study', '[]', 'Danke   Li', 0, 1, -1),\n",
       " (4586, None, 'Fall2017', 73018, 'AN 0301', 'JX', '3.000', 'Independent Study', '[]', 'Jiwei   Xiao', 0, 1, -1),\n",
       " (7591, None, 'Spring2015', 34130, 'AN 0301', 'DL', '3.000', 'Independent Study', '[]', 'Danke   Li', 1, 0, 1),\n",
       " (9007, None, 'Spring2016', 39186, 'AN 0301', 'PL', '3.000', 'Independent Study', '[]', 'Philip J.  Lane', 0, 1, -1)]"
      ]
     },
     "execution_count": 6,
     "metadata": {},
     "output_type": "execute_result"
    }
   ],
   "source": [
    "%%sql \n",
    "-- Testing Course Offerings Table\n",
    "\n",
    "SELECT *\n",
    "FROM COURSE_OFFERINGS\n",
    "WHERE CatalogID = 'AN 0301'"
   ]
  },
  {
   "cell_type": "code",
   "execution_count": 7,
   "metadata": {},
   "outputs": [
    {
     "name": "stdout",
     "output_type": "stream",
     "text": [
      " * sqlite:///CourseData.db\n",
      "Done.\n"
     ]
    },
    {
     "data": {
      "text/html": [
       "<table>\n",
       "    <tr>\n",
       "        <th>CourseOfferingID</th>\n",
       "        <th>CourseID</th>\n",
       "        <th>Term</th>\n",
       "        <th>CRN</th>\n",
       "        <th>CatalogID</th>\n",
       "        <th>Section</th>\n",
       "        <th>Credits</th>\n",
       "        <th>Title</th>\n",
       "        <th>Timecodes</th>\n",
       "        <th>PrimaryInstructorID</th>\n",
       "        <th>Capacity</th>\n",
       "        <th>Actual</th>\n",
       "        <th>Remaining</th>\n",
       "    </tr>\n",
       "    <tr>\n",
       "        <td>1</td>\n",
       "        <td>None</td>\n",
       "        <td>Fall2014</td>\n",
       "        <td>70384</td>\n",
       "        <td>AC 0011</td>\n",
       "        <td>C01</td>\n",
       "        <td>3.000</td>\n",
       "        <td>Introduction to Financial Accounting</td>\n",
       "        <td>[&#x27;TF 0800am-0915am 09/02-12/08 DSB 105&#x27;]</td>\n",
       "        <td>Michael P.  Coyne</td>\n",
       "        <td>0</td>\n",
       "        <td>31</td>\n",
       "        <td>-31</td>\n",
       "    </tr>\n",
       "    <tr>\n",
       "        <td>2</td>\n",
       "        <td>None</td>\n",
       "        <td>Fall2014</td>\n",
       "        <td>70385</td>\n",
       "        <td>AC 0011</td>\n",
       "        <td>C02</td>\n",
       "        <td>3.000</td>\n",
       "        <td>Introduction to Financial Accounting</td>\n",
       "        <td>[&#x27;TF 0930am-1045am 09/02-12/08 DSB 105&#x27;]</td>\n",
       "        <td>Michael P.  Coyne</td>\n",
       "        <td>0</td>\n",
       "        <td>31</td>\n",
       "        <td>-31</td>\n",
       "    </tr>\n",
       "    <tr>\n",
       "        <td>3</td>\n",
       "        <td>None</td>\n",
       "        <td>Fall2014</td>\n",
       "        <td>70382</td>\n",
       "        <td>AC 0011</td>\n",
       "        <td>C03</td>\n",
       "        <td>3.000</td>\n",
       "        <td>Introduction to Financial Accounting</td>\n",
       "        <td>[&#x27;TF 1230pm-0145pm 09/02-12/08 DSB 105&#x27;]</td>\n",
       "        <td>Michael P.  Coyne</td>\n",
       "        <td>0</td>\n",
       "        <td>31</td>\n",
       "        <td>-31</td>\n",
       "    </tr>\n",
       "    <tr>\n",
       "        <td>4</td>\n",
       "        <td>None</td>\n",
       "        <td>Fall2014</td>\n",
       "        <td>70291</td>\n",
       "        <td>AC 0011</td>\n",
       "        <td>C04</td>\n",
       "        <td>3.000</td>\n",
       "        <td>Introduction to Financial Accounting</td>\n",
       "        <td>[&#x27;MR 1100am-1215pm 09/02-12/08 DSB 111&#x27;]</td>\n",
       "        <td>Rebecca I.  Bloch</td>\n",
       "        <td>0</td>\n",
       "        <td>29</td>\n",
       "        <td>-29</td>\n",
       "    </tr>\n",
       "    <tr>\n",
       "        <td>5</td>\n",
       "        <td>None</td>\n",
       "        <td>Fall2014</td>\n",
       "        <td>70350</td>\n",
       "        <td>AC 0011</td>\n",
       "        <td>C05</td>\n",
       "        <td>3.000</td>\n",
       "        <td>Introduction to Financial Accounting</td>\n",
       "        <td>[&#x27;MR 1230pm-0145pm 09/02-12/08 DSB 111&#x27;]</td>\n",
       "        <td>Rebecca I.  Bloch</td>\n",
       "        <td>0</td>\n",
       "        <td>30</td>\n",
       "        <td>-30</td>\n",
       "    </tr>\n",
       "</table>"
      ],
      "text/plain": [
       "[(1, None, 'Fall2014', 70384, 'AC 0011', 'C01', '3.000', 'Introduction to Financial Accounting', \"['TF 0800am-0915am 09/02-12/08 DSB 105']\", 'Michael P.  Coyne', 0, 31, -31),\n",
       " (2, None, 'Fall2014', 70385, 'AC 0011', 'C02', '3.000', 'Introduction to Financial Accounting', \"['TF 0930am-1045am 09/02-12/08 DSB 105']\", 'Michael P.  Coyne', 0, 31, -31),\n",
       " (3, None, 'Fall2014', 70382, 'AC 0011', 'C03', '3.000', 'Introduction to Financial Accounting', \"['TF 1230pm-0145pm 09/02-12/08 DSB 105']\", 'Michael P.  Coyne', 0, 31, -31),\n",
       " (4, None, 'Fall2014', 70291, 'AC 0011', 'C04', '3.000', 'Introduction to Financial Accounting', \"['MR 1100am-1215pm 09/02-12/08 DSB 111']\", 'Rebecca I.  Bloch', 0, 29, -29),\n",
       " (5, None, 'Fall2014', 70350, 'AC 0011', 'C05', '3.000', 'Introduction to Financial Accounting', \"['MR 1230pm-0145pm 09/02-12/08 DSB 111']\", 'Rebecca I.  Bloch', 0, 30, -30)]"
      ]
     },
     "execution_count": 7,
     "metadata": {},
     "output_type": "execute_result"
    }
   ],
   "source": [
    "%%sql \n",
    "-- Testing Course Offerings Table\n",
    "\n",
    "SELECT *\n",
    "FROM Course_Offerings\n",
    "LIMIT 5"
   ]
  },
  {
   "cell_type": "code",
   "execution_count": 8,
   "metadata": {},
   "outputs": [
    {
     "name": "stdout",
     "output_type": "stream",
     "text": [
      " * sqlite:///CourseData.db\n",
      "Done.\n"
     ]
    },
    {
     "data": {
      "text/html": [
       "<table>\n",
       "    <tr>\n",
       "        <th>LocationID</th>\n",
       "    </tr>\n",
       "    <tr>\n",
       "        <td>BCC 200</td>\n",
       "    </tr>\n",
       "    <tr>\n",
       "        <td>BD </td>\n",
       "    </tr>\n",
       "    <tr>\n",
       "        <td>BH </td>\n",
       "    </tr>\n",
       "    <tr>\n",
       "        <td>BH BY ARR</td>\n",
       "    </tr>\n",
       "    <tr>\n",
       "        <td>BLM 112</td>\n",
       "    </tr>\n",
       "</table>"
      ],
      "text/plain": [
       "[('BCC 200',), ('BD ',), ('BH ',), ('BH BY ARR',), ('BLM 112',)]"
      ]
     },
     "execution_count": 8,
     "metadata": {},
     "output_type": "execute_result"
    }
   ],
   "source": [
    "%%sql \n",
    "-- Testing Location Table\n",
    "\n",
    "SELECT *\n",
    "FROM Location\n",
    "LIMIT 5"
   ]
  },
  {
   "cell_type": "code",
   "execution_count": 9,
   "metadata": {},
   "outputs": [
    {
     "name": "stdout",
     "output_type": "stream",
     "text": [
      " * sqlite:///CourseData.db\n",
      "Done.\n"
     ]
    },
    {
     "data": {
      "text/html": [
       "<table>\n",
       "    <tr>\n",
       "        <th>CourseMeetingID</th>\n",
       "        <th>CRN</th>\n",
       "        <th>LocationID</th>\n",
       "        <th>Day</th>\n",
       "        <th>StartDateTime</th>\n",
       "        <th>EndDateTime</th>\n",
       "    </tr>\n",
       "    <tr>\n",
       "        <td>1</td>\n",
       "        <td>70384</td>\n",
       "        <td>DSB 105</td>\n",
       "        <td>T</td>\n",
       "        <td>2014-09-02T08:00:00</td>\n",
       "        <td>2014-09-02T09:15:00</td>\n",
       "    </tr>\n",
       "    <tr>\n",
       "        <td>2</td>\n",
       "        <td>70384</td>\n",
       "        <td>DSB 105</td>\n",
       "        <td>F</td>\n",
       "        <td>2014-09-05T08:00:00</td>\n",
       "        <td>2014-09-05T09:15:00</td>\n",
       "    </tr>\n",
       "    <tr>\n",
       "        <td>3</td>\n",
       "        <td>70384</td>\n",
       "        <td>DSB 105</td>\n",
       "        <td>T</td>\n",
       "        <td>2014-09-09T08:00:00</td>\n",
       "        <td>2014-09-09T09:15:00</td>\n",
       "    </tr>\n",
       "    <tr>\n",
       "        <td>4</td>\n",
       "        <td>70384</td>\n",
       "        <td>DSB 105</td>\n",
       "        <td>F</td>\n",
       "        <td>2014-09-12T08:00:00</td>\n",
       "        <td>2014-09-12T09:15:00</td>\n",
       "    </tr>\n",
       "    <tr>\n",
       "        <td>5</td>\n",
       "        <td>70384</td>\n",
       "        <td>DSB 105</td>\n",
       "        <td>T</td>\n",
       "        <td>2014-09-16T08:00:00</td>\n",
       "        <td>2014-09-16T09:15:00</td>\n",
       "    </tr>\n",
       "</table>"
      ],
      "text/plain": [
       "[(1, 70384, 'DSB 105', 'T', '2014-09-02T08:00:00', '2014-09-02T09:15:00'),\n",
       " (2, 70384, 'DSB 105', 'F', '2014-09-05T08:00:00', '2014-09-05T09:15:00'),\n",
       " (3, 70384, 'DSB 105', 'T', '2014-09-09T08:00:00', '2014-09-09T09:15:00'),\n",
       " (4, 70384, 'DSB 105', 'F', '2014-09-12T08:00:00', '2014-09-12T09:15:00'),\n",
       " (5, 70384, 'DSB 105', 'T', '2014-09-16T08:00:00', '2014-09-16T09:15:00')]"
      ]
     },
     "execution_count": 9,
     "metadata": {},
     "output_type": "execute_result"
    }
   ],
   "source": [
    "%%sql \n",
    "-- Testing Course Meetings Table\n",
    "\n",
    "SELECT *\n",
    "FROM Course_Meetings\n",
    "LIMIT 5"
   ]
  },
  {
   "cell_type": "markdown",
   "metadata": {},
   "source": [
    "___\n",
    "<a id = \"20\"> <h2> 3. Test Integrity of Each Row </h2> </a>\n",
    "\n",
    "_Each row describes a unique entity (Entity integrity)_"
   ]
  },
  {
   "cell_type": "code",
   "execution_count": 10,
   "metadata": {},
   "outputs": [
    {
     "name": "stdout",
     "output_type": "stream",
     "text": [
      " * sqlite:///CourseData.db\n",
      "Done.\n"
     ]
    },
    {
     "data": {
      "text/html": [
       "<table>\n",
       "    <tr>\n",
       "        <th>RawCount</th>\n",
       "        <th>DistinctCount</th>\n",
       "    </tr>\n",
       "    <tr>\n",
       "        <td>284907</td>\n",
       "        <td>284847</td>\n",
       "    </tr>\n",
       "</table>"
      ],
      "text/plain": [
       "[(284907, 284847)]"
      ]
     },
     "execution_count": 10,
     "metadata": {},
     "output_type": "execute_result"
    }
   ],
   "source": [
    "%%sql\n",
    "-- Record Counts for Course Meetings\n",
    "SELECT \n",
    "    (SELECT Count(*) FROM IMPORT_COURSE_MEETINGS) as 'RawCount',\n",
    "    (SELECT Count(*) FROM (SELECT DISTINCT * FROM IMPORT_COURSE_MEETINGS)) as 'DistinctCount';"
   ]
  },
  {
   "cell_type": "code",
   "execution_count": 11,
   "metadata": {},
   "outputs": [],
   "source": [
    "## ADD NOTES HERE WITH WHAT WE'RE DOING - still need to resolve this 4/22"
   ]
  },
  {
   "cell_type": "code",
   "execution_count": 12,
   "metadata": {},
   "outputs": [
    {
     "name": "stdout",
     "output_type": "stream",
     "text": [
      " * sqlite:///CourseData.db\n",
      "Done.\n"
     ]
    },
    {
     "data": {
      "text/html": [
       "<table>\n",
       "    <tr>\n",
       "        <th>CatalogCourses</th>\n",
       "        <th>CourseOfferings</th>\n",
       "        <th>CourseMeetings</th>\n",
       "    </tr>\n",
       "    <tr>\n",
       "        <td>4440</td>\n",
       "        <td>15937</td>\n",
       "        <td>284847</td>\n",
       "    </tr>\n",
       "</table>"
      ],
      "text/plain": [
       "[(4440, 15937, 284847)]"
      ]
     },
     "execution_count": 12,
     "metadata": {},
     "output_type": "execute_result"
    }
   ],
   "source": [
    "%%sql\n",
    "SELECT \n",
    "    (SELECT Count(*) FROM COURSE_CATALOGS) as CatalogCourses,\n",
    "    (SELECT Count(*) FROM COURSE_OFFERINGS) as CourseOfferings,\n",
    "    (SELECT Count(*) FROM COURSE_MEETINGS) as CourseMeetings;"
   ]
  },
  {
   "cell_type": "markdown",
   "metadata": {},
   "source": [
    "___\n",
    "<a id = \"30\"> <h2> 4. Test Integrity of Each Table Relationship </h2> </a>"
   ]
  },
  {
   "cell_type": "markdown",
   "metadata": {},
   "source": [
    "_Testing the Relationship Between Course Meetings and Course Offerings_"
   ]
  },
  {
   "cell_type": "code",
   "execution_count": 13,
   "metadata": {},
   "outputs": [
    {
     "name": "stdout",
     "output_type": "stream",
     "text": [
      " * sqlite:///CourseData.db\n",
      "Done.\n"
     ]
    },
    {
     "data": {
      "text/html": [
       "<table>\n",
       "    <tr>\n",
       "        <th>Term</th>\n",
       "        <th>CourseID</th>\n",
       "        <th>Count(CourseMeetingID)</th>\n",
       "    </tr>\n",
       "    <tr>\n",
       "        <td>Spring2016</td>\n",
       "        <td>None</td>\n",
       "        <td>37</td>\n",
       "    </tr>\n",
       "</table>"
      ],
      "text/plain": [
       "[('Spring2016', None, 37)]"
      ]
     },
     "execution_count": 13,
     "metadata": {},
     "output_type": "execute_result"
    }
   ],
   "source": [
    "%%sql\n",
    "-- A check of the COURSE_MEETINGS --> COURSE_OFFERINGS relationship\n",
    "SELECT Term, CourseID, Count(CourseMeetingID)\n",
    "FROM COURSE_OFFERINGS \n",
    "    JOIN COURSE_MEETINGS USING (CRN)\n",
    "    WHERE CRN = 39006 and Term = 'Spring2016';"
   ]
  },
  {
   "cell_type": "markdown",
   "metadata": {},
   "source": [
    "_Testing the Relationship Between Course Meetings and Location_"
   ]
  },
  {
   "cell_type": "code",
   "execution_count": 14,
   "metadata": {},
   "outputs": [
    {
     "name": "stdout",
     "output_type": "stream",
     "text": [
      " * sqlite:///CourseData.db\n",
      "Done.\n"
     ]
    },
    {
     "data": {
      "text/html": [
       "<table>\n",
       "    <tr>\n",
       "        <th>LocationID</th>\n",
       "        <th>COUNT(CourseMeetingID)</th>\n",
       "        <th>StartDateTime</th>\n",
       "    </tr>\n",
       "    <tr>\n",
       "        <td>DSB 105</td>\n",
       "        <td>1</td>\n",
       "        <td>2014-09-02T08:00:00</td>\n",
       "    </tr>\n",
       "</table>"
      ],
      "text/plain": [
       "[('DSB 105', 1, '2014-09-02T08:00:00')]"
      ]
     },
     "execution_count": 14,
     "metadata": {},
     "output_type": "execute_result"
    }
   ],
   "source": [
    "%%sql\n",
    "-- A check of the COURSE_MEETINGS --> Location\n",
    "SELECT Location.LocationID, COUNT(CourseMeetingID), StartDateTime\n",
    "FROM COURSE_MEETINGS \n",
    "    JOIN Location USING (LocationID)\n",
    "    WHERE StartDateTime = '2014-09-02T08:00:00' and LocationID = 'DSB 105';"
   ]
  },
  {
   "cell_type": "markdown",
   "metadata": {},
   "source": [
    "_Testing the Relationship Between Course Offerings and Instructors_"
   ]
  },
  {
   "cell_type": "code",
   "execution_count": 15,
   "metadata": {},
   "outputs": [
    {
     "name": "stdout",
     "output_type": "stream",
     "text": [
      " * sqlite:///CourseData.db\n",
      "Done.\n"
     ]
    },
    {
     "data": {
      "text/html": [
       "<table>\n",
       "    <tr>\n",
       "        <th>CourseID</th>\n",
       "        <th>Term</th>\n",
       "        <th>CRN</th>\n",
       "        <th>Section</th>\n",
       "        <th>Title</th>\n",
       "        <th>Actual</th>\n",
       "        <th>Capacity</th>\n",
       "        <th>Remaining</th>\n",
       "        <th>Name</th>\n",
       "        <th>InstructorID</th>\n",
       "    </tr>\n",
       "    <tr>\n",
       "        <td>None</td>\n",
       "        <td>Fall2014</td>\n",
       "        <td>70369</td>\n",
       "        <td>E</td>\n",
       "        <td>Intro to Information Systems</td>\n",
       "        <td>26</td>\n",
       "        <td>25</td>\n",
       "        <td>-1</td>\n",
       "        <td>Christopher L.  Huntley</td>\n",
       "        <td>272</td>\n",
       "    </tr>\n",
       "    <tr>\n",
       "        <td>None</td>\n",
       "        <td>Fall2014</td>\n",
       "        <td>73060</td>\n",
       "        <td>A</td>\n",
       "        <td>Fundamentals of Web Design</td>\n",
       "        <td>26</td>\n",
       "        <td>25</td>\n",
       "        <td>-1</td>\n",
       "        <td>Christopher L.  Huntley</td>\n",
       "        <td>272</td>\n",
       "    </tr>\n",
       "    <tr>\n",
       "        <td>None</td>\n",
       "        <td>Fall2014</td>\n",
       "        <td>73061</td>\n",
       "        <td>A</td>\n",
       "        <td>Systems Design and Implementation</td>\n",
       "        <td>16</td>\n",
       "        <td>25</td>\n",
       "        <td>9</td>\n",
       "        <td>Christopher L.  Huntley</td>\n",
       "        <td>272</td>\n",
       "    </tr>\n",
       "</table>"
      ],
      "text/plain": [
       "[(None, 'Fall2014', 70369, 'E', 'Intro to Information Systems', 26, 25, -1, 'Christopher L.  Huntley', 272),\n",
       " (None, 'Fall2014', 73060, 'A', 'Fundamentals of Web Design', 26, 25, -1, 'Christopher L.  Huntley', 272),\n",
       " (None, 'Fall2014', 73061, 'A', 'Systems Design and Implementation', 16, 25, 9, 'Christopher L.  Huntley', 272)]"
      ]
     },
     "execution_count": 15,
     "metadata": {},
     "output_type": "execute_result"
    }
   ],
   "source": [
    "%%sql\n",
    "-- A check of the COURSE_OFFERINGS --> Instructors\n",
    "\n",
    "SELECT CourseID, Term, CRN, Section, Title, Actual, Capacity, Remaining, Instructors.Name, InstructorID\n",
    "FROM COURSE_OFFERINGS\n",
    "    LEFT JOIN INSTRUCTORS ON (COURSE_OFFERINGS.PrimaryInstructorID = Instructors.Name)\n",
    "    WHERE Name like '%Huntley' and Term = 'Fall2014'  \n",
    "    LIMIT 5;"
   ]
  },
  {
   "cell_type": "markdown",
   "metadata": {},
   "source": [
    "_Testing the Relationship Between Course Offerings and Catalogs_"
   ]
  },
  {
   "cell_type": "code",
   "execution_count": 18,
   "metadata": {},
   "outputs": [
    {
     "name": "stdout",
     "output_type": "stream",
     "text": [
      " * sqlite:///CourseData.db\n",
      "Done.\n"
     ]
    },
    {
     "data": {
      "text/html": [
       "<table>\n",
       "    <tr>\n",
       "        <th>CatalogYear</th>\n",
       "        <th>ProgramID</th>\n",
       "        <th>CourseTitle</th>\n",
       "        <th>Fees</th>\n",
       "        <th>Credits</th>\n",
       "        <th>Attributes</th>\n",
       "        <th>Description</th>\n",
       "    </tr>\n",
       "</table>"
      ],
      "text/plain": [
       "[]"
      ]
     },
     "execution_count": 18,
     "metadata": {},
     "output_type": "execute_result"
    }
   ],
   "source": [
    "%%sql \n",
    "-- A check of COURSE_OFFERINGS --> COURSE_CATALOGS\n",
    "\n",
    "SELECT CatalogYear, ProgramID, CourseTitle, Fees, COURSE_OFFERINGS.Credits, Attributes, Description\n",
    "FROM COURSE_OFFERINGS \n",
    "    JOIN COURSE_CATALOGS USING (CourseID) \n",
    "    LIMIT 5;"
   ]
  },
  {
   "cell_type": "markdown",
   "metadata": {},
   "source": [
    "_Testing the Relationship Between Course Catalogs and Programs_"
   ]
  },
  {
   "cell_type": "code",
   "execution_count": 17,
   "metadata": {},
   "outputs": [
    {
     "name": "stdout",
     "output_type": "stream",
     "text": [
      " * sqlite:///CourseData.db\n",
      "Done.\n"
     ]
    },
    {
     "data": {
      "text/html": [
       "<table>\n",
       "    <tr>\n",
       "        <th>CatalogYear</th>\n",
       "        <th>ProgramID</th>\n",
       "        <th>ProgramName</th>\n",
       "        <th>Fees</th>\n",
       "        <th>Attributes</th>\n",
       "        <th>Description</th>\n",
       "    </tr>\n",
       "    <tr>\n",
       "        <td>2017_2018</td>\n",
       "        <td>4</td>\n",
       "        <td>Asian Studies</td>\n",
       "        <td>None</td>\n",
       "        <td>None</td>\n",
       "        <td>Students undertake an individualized program of study in consultation with a director from the Asian studies faculty.</td>\n",
       "    </tr>\n",
       "    <tr>\n",
       "        <td>2017_2018</td>\n",
       "        <td>4</td>\n",
       "        <td>Asian Studies</td>\n",
       "        <td>None</td>\n",
       "        <td>None</td>\n",
       "        <td>This seminar examines selected topics concerning Asia. This course is taught in conjunction with another 100-300 level course from a rotation of course offerings. Consult the Asian Studies director to identify the conjoined course for a given semester. The seminar concentrates on topics within the parameters of the conjoined course syllabus but adds research emphasis. Students registered for this course must complete a research project, to include 300-level research, in addition to the regular research requirements of the conjoined course, and a 25-50 page term paper in substitution of some portion of the conjoined course requirements, as determined by the instructor. Open to juniors and seniors only.</td>\n",
       "    </tr>\n",
       "    <tr>\n",
       "        <td>2017_2018</td>\n",
       "        <td>12</td>\n",
       "        <td>Business</td>\n",
       "        <td>None</td>\n",
       "        <td>None</td>\n",
       "        <td>This course examines the broad philosophical as well as practical nature and function of the legal system, and introduces students to the legal and social responsibilities of business. The course includes an introduction to the legal system, the federal courts, Constitutional law, the United States Supreme Court, the civil process, and regulatory areas such as employment discrimination, protection of the environment, and corporate governance and securities markets.</td>\n",
       "    </tr>\n",
       "    <tr>\n",
       "        <td>2017_2018</td>\n",
       "        <td>12</td>\n",
       "        <td>Business</td>\n",
       "        <td>None</td>\n",
       "        <td>EVME Environmental Studies Major Elective, EVPE Environmental Studies Elective, EVSS Environmental Studies: Social Science, MGEL Management: General Elective</td>\n",
       "        <td>This course surveys issues arising out of federal laws designed to protect the environment and manage resources. It considers in detail the role of the Environmental Protection Agency in the enforcement of environmental policies arising out of such laws as the National Environmental Policy Act, the Clean Water Act, and the Clear Air Act, among others. The course also considers the impact of Congress, political parties, bureaucracy, and interest groups in shaping environmental policy, giving special attention to the impact of environmental regulation on business and private property rights.</td>\n",
       "    </tr>\n",
       "    <tr>\n",
       "        <td>2017_2018</td>\n",
       "        <td>12</td>\n",
       "        <td>Business</td>\n",
       "        <td>None</td>\n",
       "        <td>None</td>\n",
       "        <td>This course examines the components of common law contracts including the concepts of offer and acceptance, consideration, capacity and legality, assignment of rights and delegation of duties, as well as discharge of contracts. The course covers Articles 2 and 2A of the Uniform Commercial Code relating to leases, sales of goods, and warranties. The course also considers personal and real property, and bailments.</td>\n",
       "    </tr>\n",
       "</table>"
      ],
      "text/plain": [
       "[('2017_2018', 4, 'Asian Studies', None, None, 'Students undertake an individualized program of study in consultation with a director from the Asian studies faculty.'),\n",
       " ('2017_2018', 4, 'Asian Studies', None, None, 'This seminar examines selected topics concerning Asia. This course is taught in conjunction with another 100-300 level course from a rotation of cour ... (412 characters truncated) ... e term paper in substitution of some portion of the conjoined course requirements, as determined by the instructor. Open to juniors and seniors only.'),\n",
       " ('2017_2018', 12, 'Business', None, None, 'This course examines the broad philosophical as well as practical nature and function of the legal system, and introduces students to the legal and s ... (171 characters truncated) ... ivil process, and regulatory areas such as employment discrimination, protection of the environment, and corporate governance and securities markets.'),\n",
       " ('2017_2018', 12, 'Business', None, 'EVME Environmental Studies Major Elective, EVPE Environmental Studies Elective, EVSS Environmental Studies: Social Science, MGEL Management: General Elective', 'This course surveys issues arising out of federal laws designed to protect the environment and manage resources. It considers in detail the role of t ... (298 characters truncated) ... t groups in shaping environmental policy, giving special attention to the impact of environmental regulation on business and private property rights.'),\n",
       " ('2017_2018', 12, 'Business', None, None, 'This course examines the components of common law contracts including the concepts of offer and acceptance, consideration, capacity and legality, ass ... (117 characters truncated) ...  the Uniform Commercial Code relating to leases, sales of goods, and warranties. The course also considers personal and real property, and bailments.')]"
      ]
     },
     "execution_count": 17,
     "metadata": {},
     "output_type": "execute_result"
    }
   ],
   "source": [
    "%%sql \n",
    "-- A check of COURSE_CATALOGS --> PROGRAMS \n",
    "\n",
    "SELECT CatalogYear, PROGRAMS.ProgramID, ProgramName, Fees, Attributes, Description\n",
    "FROM COURSE_CATALOGS \n",
    "    JOIN PROGRAMS USING (ProgramID) \n",
    "    LIMIT 5;"
   ]
  },
  {
   "cell_type": "markdown",
   "metadata": {},
   "source": [
    " ___\n",
    "<a id = \"40\"> <h2> 5. Empty out Tables to Reclaim Storage </h2> </a>"
   ]
  },
  {
   "cell_type": "code",
   "execution_count": 82,
   "metadata": {},
   "outputs": [
    {
     "name": "stdout",
     "output_type": "stream",
     "text": [
      " * sqlite:///CourseData.db\n",
      "(sqlite3.OperationalError) no such table: IMPORT_CATALOG_COURSES\n",
      "[SQL: DELETE FROM IMPORT_CATALOG_COURSES;]\n",
      "(Background on this error at: http://sqlalche.me/e/e3q8)\n"
     ]
    }
   ],
   "source": [
    "%%sql\n",
    "DELETE FROM IMPORT_CATALOG_COURSES;\n",
    "DELETE FROM IMPORT_COURSE_OFFERINGS;\n",
    "DELETE FROM IMPORT_COURSE_MEETINGS;"
   ]
  },
  {
   "cell_type": "code",
   "execution_count": 83,
   "metadata": {},
   "outputs": [
    {
     "name": "stdout",
     "output_type": "stream",
     "text": [
      " * sqlite:///CourseData.db\n",
      "(sqlite3.OperationalError) no such table: IMPORT_CATALOG_COURSES\n",
      "[SQL: DROP TABLE IMPORT_CATALOG_COURSES;]\n",
      "(Background on this error at: http://sqlalche.me/e/e3q8)\n"
     ]
    }
   ],
   "source": [
    "%%sql\n",
    "DROP TABLE IMPORT_CATALOG_COURSES;\n",
    "DROP TABLE IMPORT_COURSE_OFFERINGS;\n",
    "DROP TABLE IMPORT_COURSE_MEETINGS;"
   ]
  },
  {
   "cell_type": "code",
   "execution_count": 84,
   "metadata": {},
   "outputs": [
    {
     "name": "stdout",
     "output_type": "stream",
     "text": [
      " * sqlite:///CourseData.db\n",
      "(sqlite3.OperationalError) attempt to write a readonly database\n",
      "[SQL: vacuum;]\n",
      "(Background on this error at: http://sqlalche.me/e/e3q8)\n"
     ]
    }
   ],
   "source": [
    "%%sql\n",
    "vacuum;"
   ]
  },
  {
   "cell_type": "code",
   "execution_count": null,
   "metadata": {},
   "outputs": [],
   "source": []
  }
 ],
 "metadata": {
  "kernelspec": {
   "display_name": "Python 3",
   "language": "python",
   "name": "python3"
  },
  "language_info": {
   "codemirror_mode": {
    "name": "ipython",
    "version": 3
   },
   "file_extension": ".py",
   "mimetype": "text/x-python",
   "name": "python",
   "nbconvert_exporter": "python",
   "pygments_lexer": "ipython3",
   "version": "3.6.7"
  }
 },
 "nbformat": 4,
 "nbformat_minor": 4
}
