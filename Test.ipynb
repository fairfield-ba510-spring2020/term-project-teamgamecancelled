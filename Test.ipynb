{
 "cells": [
  {
   "cell_type": "markdown",
   "metadata": {},
   "source": [
    "test notebook to make sure our repo works"
   ]
  },
  {
   "cell_type": "code",
   "execution_count": 1,
   "metadata": {},
   "outputs": [],
   "source": [
    "import pandas as pd"
   ]
  },
  {
   "cell_type": "code",
   "execution_count": 2,
   "metadata": {},
   "outputs": [
    {
     "data": {
      "text/plain": [
       "term                  object\n",
       "crn                    int64\n",
       "catalog_id            object\n",
       "section               object\n",
       "credits               object\n",
       "title                 object\n",
       "meetings              object\n",
       "timecodes             object\n",
       "primary_instructor    object\n",
       "cap                    int64\n",
       "act                    int64\n",
       "rem                    int64\n",
       "dtype: object"
      ]
     },
     "execution_count": 2,
     "metadata": {},
     "output_type": "execute_result"
    }
   ],
   "source": [
    "df1=pd.read_csv('SourceData/Fall2014/courses.csv')\n",
    "df1.dtypes"
   ]
  },
  {
   "cell_type": "code",
   "execution_count": 3,
   "metadata": {},
   "outputs": [
    {
     "data": {
      "text/plain": [
       "term        object\n",
       "crn          int64\n",
       "location    object\n",
       "day         object\n",
       "start       object\n",
       "end         object\n",
       "dtype: object"
      ]
     },
     "execution_count": 3,
     "metadata": {},
     "output_type": "execute_result"
    }
   ],
   "source": [
    "df2=pd.read_csv('SourceData/Fall2014/course_meetings.csv')\n",
    "df2.dtypes"
   ]
  },
  {
   "cell_type": "code",
   "execution_count": 4,
   "metadata": {},
   "outputs": [
    {
     "data": {
      "text/plain": [
       "program_code    object\n",
       "program_name    object\n",
       "catalog_id      object\n",
       "course_title    object\n",
       "credits         object\n",
       "prereqs         object\n",
       "coreqs          object\n",
       "fees            object\n",
       "attributes      object\n",
       "description     object\n",
       "dtype: object"
      ]
     },
     "execution_count": 4,
     "metadata": {},
     "output_type": "execute_result"
    }
   ],
   "source": [
    "df3=pd.read_csv('SourceData/Catalogs/CourseCatalog2017_2018.csv')\n",
    "df3.dtypes"
   ]
  },
  {
   "cell_type": "code",
   "execution_count": 5,
   "metadata": {},
   "outputs": [
    {
     "data": {
      "text/plain": [
       "program_code    object\n",
       "program_name    object\n",
       "catalog_id      object\n",
       "course_title    object\n",
       "credits         object\n",
       "prereqs         object\n",
       "coreqs          object\n",
       "fees            object\n",
       "attributes      object\n",
       "description     object\n",
       "dtype: object"
      ]
     },
     "execution_count": 5,
     "metadata": {},
     "output_type": "execute_result"
    }
   ],
   "source": [
    "df4=pd.read_csv('SourceData/Catalogs/CourseCatalog2018_2019.csv')\n",
    "df4.dtypes"
   ]
  },
  {
   "cell_type": "markdown",
   "metadata": {},
   "source": [
    "![Course Data ERD]('Docs/CourseDataERD')"
   ]
  },
  {
   "cell_type": "code",
   "execution_count": null,
   "metadata": {},
   "outputs": [],
   "source": []
  }
 ],
 "metadata": {
  "kernelspec": {
   "display_name": "Python 3",
   "language": "python",
   "name": "python3"
  },
  "language_info": {
   "codemirror_mode": {
    "name": "ipython",
    "version": 3
   },
   "file_extension": ".py",
   "mimetype": "text/x-python",
   "name": "python",
   "nbconvert_exporter": "python",
   "pygments_lexer": "ipython3",
   "version": "3.6.7"
  }
 },
 "nbformat": 4,
 "nbformat_minor": 4
}
