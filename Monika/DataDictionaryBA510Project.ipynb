{
 "cells": [
  {
   "cell_type": "markdown",
   "metadata": {},
   "source": [
    "| Table            | Field              | Description                                                                                                                                                            | Data Type |\n",
    "|------------------|--------------------|------------------------------------------------------------------------------------------------------------------------------------------------------------------------|-----------|\n",
    "| Course Offerings | CourseID           | PK, The identifying integer for a specific course. This field is also found int he Course Catalogos table                                                               | Int       |\n",
    "| Course Offerings | Term               | The semester and year the course is offered (Fall, Spring, Summer, Winter)                                                                                             | Text      |\n",
    "| Course Offerings | CRN                | Course reference number                                                                                                                                                | Int       |\n",
    "| Course Offerings | CatalogID          | The department abbreviation and course number                                                                                                                           | Text      |\n",
    "| Course Offerings | Section            | The amount of times that course is offered during a specific term, or semester                                                                                          | Text      |\n",
    "| Course Offerings | Credits            | The amount of credits a class is (1 - 3 credits), credits are determined by the level of difficulty and work of the class                                              | Text      |\n",
    "| Course Offerings | Title              | The name of the class                                                                                                                                                  | Text      |\n",
    "| Course Offerings | Timecodes          | The time, day and location of the class                                                                                                                                | Text      |\n",
    "| Course Offerings | PrimaryInstuctorID | The professor of the class                                                                                                                                             | Text      |\n",
    "| Course Offerings | Capacity           | The total amount of students allowed in the class                                                                                                                      | Int       |\n",
    "| Course Offerings | Actual             | The actual number of students enrolled in a course                                                                                                                     | Int       |\n",
    "| Course Offerings | Remaining          | The seats left unfilled, or empty, in a course                                                                                                                         | Int       |\n",
    "|                  |                    |                                                                                                                                                                        |           |\n",
    "| Course Catalogs  | CourseID           | PK, The identifying integer for a specific course. This field is also found in the Course Offerings table                                                              | Int       |\n",
    "| Course Catalogs  | CatalogYear        | The catalog listing course offerings for a specific academic year                                                                                                      | Text      |\n",
    "| Course Catalogs  | ProgramID          | The academic department the course is part of. This field is also found in the Programs table                                                                         | Text      |\n",
    "| Course Catalogs  | CourseTitle        | The name of the class                                                                                                                                                  | Text      |\n",
    "| Course Catalogs  | Prerequistites      | Upper level course generally require completion of lower level classes before enrollment. These are the course(s) a student is required to have taken before enrolling | Text      |\n",
    "| Course Catalogs  | Corequistites       | The courses that are required to be taken together. This is not a mandatory requirement, but highly recommended.                                                        | Text      |\n",
    "| Course Catalogs  | Fees               | An extra required payment. For example, lab classes have a fee of $55                                                                                                  | Text      |\n",
    "| Course Catalogs  | Attributes         | Specific detail about a course that satisfy certain requirements for a student's declare major/minor, or overall academic requirements for graduation                   | Text      |\n",
    "| Course Catalogs  | Description        | A brief overview of the course, specifically the main learning objectives and topics of the class                                                                      | Text      |\n",
    "|                  |                    |                                                                                                                                                                        |           |\n",
    "| Programs         | ProgramID          | PK, a unique key identifier for a program. This field is also found in the Course Catalogs table                                                                       | Text      |\n",
    "| Programs         | ProgramCode        | An abbreviated version of an academic department. For example, Business is BU                                                                                          | Text      |\n",
    "| Programs         | ProgramName        | The name of an academic department. For example, Business or Asian Studies                                                                                             | Text      |\n",
    "|                  |                    |                                                                                                                                                                        |           |\n",
    "| Instructors      | InstructorID       | PK, a unique key identifying integer for each professor                                                                                                                | Int       |\n",
    "| Instructors      | Name               | The full name of a Fairfield professor                                                                                                                                 | Text      |\n",
    "|                  |                    |                                                                                                                                                                        |           |\n",
    "| Course Meetings  | CourseMeetingID    | PK, a unique key identifier for a course meeting                                                                                                                       | Int       |\n",
    "| Course Meetings  | CRN                | Course reference number                                                                                                                                                | Int       |\n",
    "| Course Meetings  | LocationID         | The building and room number the course is held. This field is also found in the Location table                                                                        | Text      |\n",
    "| Course Meetings  | StartDateTime      | The academic year, month, day and time of the first day of the course                                                                                                  | Text      |\n",
    "| Course Meetings  | EndDateTime        | The academic year, month, day and time of the last day of the course                                                                                                   | Text      |\n",
    "|                  |                    |                                                                                                                                                                        |           |\n",
    "| Location         | LocationID         | PK, The building and room number the course is held. The field is also found in the CourseMeetings table                                                               | Text      |"
   ]
  },
  {
   "cell_type": "code",
   "execution_count": null,
   "metadata": {},
   "outputs": [],
   "source": []
  }
 ],
 "metadata": {
  "kernelspec": {
   "display_name": "Python 3",
   "language": "python",
   "name": "python3"
  },
  "language_info": {
   "codemirror_mode": {
    "name": "ipython",
    "version": 3
   },
   "file_extension": ".py",
   "mimetype": "text/x-python",
   "name": "python",
   "nbconvert_exporter": "python",
   "pygments_lexer": "ipython3",
   "version": "3.6.7"
  }
 },
 "nbformat": 4,
 "nbformat_minor": 4
}
