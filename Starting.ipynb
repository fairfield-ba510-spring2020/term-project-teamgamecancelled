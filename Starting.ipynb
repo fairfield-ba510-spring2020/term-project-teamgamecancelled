{
 "cells": [
  {
   "cell_type": "markdown",
   "metadata": {},
   "source": [
    "# Term Project Spring 2020\n",
    "## Team Game Cancelled\n"
   ]
  },
  {
   "cell_type": "markdown",
   "metadata": {},
   "source": [
    "talk about project"
   ]
  },
  {
   "cell_type": "markdown",
   "metadata": {},
   "source": [
    "---\n",
    "## ERD for CSV Data\n",
    "The database should not leave off any files or columns.\n",
    "Normalize to at least BCNF.\n",
    "\n",
    "year\n",
    "    semester(term)\n",
    "        courses.csv\n",
    "        course_meetings.csv\n",
    "        course catalog.csv"
   ]
  },
  {
   "cell_type": "markdown",
   "metadata": {},
   "source": [
    "### Imports"
   ]
  },
  {
   "cell_type": "code",
   "execution_count": 1,
   "metadata": {},
   "outputs": [],
   "source": [
    "%load_ext sql\n",
    "import pandas as pd\n",
    "import sqlite3\n"
   ]
  },
  {
   "cell_type": "markdown",
   "metadata": {},
   "source": [
    "![Course Data ERD](Docs/CourseDataERD.pdf)"
   ]
  },
  {
   "cell_type": "markdown",
   "metadata": {},
   "source": [
    "---\n",
    "## Data Dictionary\n",
    "markdown tables instead of list(s)"
   ]
  },
  {
   "cell_type": "markdown",
   "metadata": {},
   "source": [
    "![Course Data Dictionary](Docs/CourseDataDictionary.md)"
   ]
  },
  {
   "cell_type": "markdown",
   "metadata": {},
   "source": [
    "---\n",
    "## Set Up - SQL and Database"
   ]
  },
  {
   "cell_type": "code",
   "execution_count": 2,
   "metadata": {},
   "outputs": [
    {
     "data": {
      "text/plain": [
       "'Connected: @CourseData.db'"
      ]
     },
     "execution_count": 2,
     "metadata": {},
     "output_type": "execute_result"
    }
   ],
   "source": [
    "%sql sqlite:///CourseData.db\n",
    "#conn = sqlite3.connect('CourseData.db') -- this was in his file, not sure if we need"
   ]
  },
  {
   "cell_type": "markdown",
   "metadata": {},
   "source": [
    "# 1. Create Tables From ERD"
   ]
  },
  {
   "cell_type": "code",
   "execution_count": 3,
   "metadata": {},
   "outputs": [
    {
     "name": "stdout",
     "output_type": "stream",
     "text": [
      " * sqlite:///CourseData.db\n",
      "Done.\n",
      "Done.\n",
      "Done.\n",
      "Done.\n",
      "Done.\n",
      "Done.\n",
      "Done.\n",
      "Done.\n",
      "Done.\n",
      "Done.\n",
      "Done.\n",
      "Done.\n"
     ]
    },
    {
     "data": {
      "text/plain": [
       "[]"
      ]
     },
     "execution_count": 3,
     "metadata": {},
     "output_type": "execute_result"
    }
   ],
   "source": [
    "%%sql\n",
    "\n",
    "-- Course Offerings table\n",
    "DROP TABLE IF EXISTS COURSE_OFFERINGS;\n",
    "CREATE TABLE COURSE_OFFERINGS (\n",
    "    CourseID INTEGER PRIMARY KEY,\n",
    "    Term TEXT NOT NULL,\n",
    "    CRN INTEGER NOT NULL,\n",
    "    CatalogID TEXT NOT NULL,\n",
    "    Section TEXT NOT NULL,\n",
    "    Credits TEXT NOT NULL,\n",
    "    Title TEXT NOT NULL,\n",
    "    Timecodes TEXT NOT NULL,\n",
    "    PrimaryInstructorID TEXT NOT NULL,\n",
    "    Capactiy INTEGER NOT NULL,\n",
    "    Actual INTEGER NOT NULL,\n",
    "    Remaining INTEGER NOT NULL\n",
    ");\n",
    "\n",
    "-- Course Catalogs table\n",
    "DROP TABLE IF EXISTS COURSE_CATALOGS;\n",
    "CREATE TABLE COURSE_CATALOGS (\n",
    "  CourseID INTEGER PRIMARY KEY,\n",
    "    CatalogYear TEXT NOT NULL,\n",
    "    CatalogID TEXT NOT NULL,\n",
    "    ProgramID TEXT NOT NULL,\n",
    "    CourseTitle TEXT NOT NULL,\n",
    "    Credits TEXT NOT NULL,\n",
    "    Prequisites TEXT NOT NULL,\n",
    "    Corequisites TEXT NOT NULL,\n",
    "    Fees TEXT NOT NULL,\n",
    "    Attributes TEXT NOT NULL,\n",
    "    Description TEXT NOT NULL\n",
    ");\n",
    "\n",
    "-- Programs table\n",
    "DROP TABLE IF EXISTS PROGRAMS;\n",
    "CREATE TABLE PROGRAMS (\n",
    "    ProgramID TEXT PRIMARY KEY,\n",
    "    ProgramCode TEXT NOT NULL,\n",
    "    ProgramName TEXT NOT NULL\n",
    ");\n",
    "\n",
    "-- Instructors table\n",
    "DROP TABLE IF EXISTS INSTRUCTORS;\n",
    "CREATE TABLE INSTRUCTORS (\n",
    "    InstructorID INTEGER PRIMARY KEY,\n",
    "    Name TEXT NOT NULL\n",
    ");\n",
    "\n",
    "-- Course Meetings table\n",
    "DROP TABLE IF EXISTS COURSE_MEETINGS;\n",
    "CREATE TABLE COURSE_MEETINGS (\n",
    "    CourseMeetingID INTEGER PRIMARY KEY,\n",
    "    CRN INTEGER NOT NULL,\n",
    "    LocationID TEXT NOT NULL,\n",
    "    StartDateTime TEXT NOT NULL,\n",
    "    EndDateTime TEXT NOT NULL\n",
    ");\n",
    "\n",
    "-- Location table\n",
    "DROP TABLE IF EXISTS LOCATION;\n",
    "CREATE TABLE LOCATION (\n",
    "    LocationID TEXT PRIMARY KEY\n",
    ");"
   ]
  },
  {
   "cell_type": "markdown",
   "metadata": {},
   "source": [
    "---\n",
    "# 2. Importing CSV Data"
   ]
  },
  {
   "cell_type": "markdown",
   "metadata": {},
   "source": [
    "### List of CSVs:\n",
    "(Catalogs)\n",
    "    CourseCatalog2017_2018.csv | https://ba-lab.fairfield.edu/user/jneri/lab/tree/term-project-teamgamecancelled/SourceData/Catalogs/CourseCatalog2017_2018.csv\n",
    "    CourseCatalog2018_2019.csv\n",
    "(Each Semester's Folder)\n",
    "    course_meetings.csv\n",
    "    courses.csv"
   ]
  },
  {
   "cell_type": "code",
   "execution_count": 4,
   "metadata": {},
   "outputs": [
    {
     "ename": "SyntaxError",
     "evalue": "invalid syntax (<ipython-input-4-32f5ed1e9df5>, line 1)",
     "output_type": "error",
     "traceback": [
      "\u001b[0;36m  File \u001b[0;32m\"<ipython-input-4-32f5ed1e9df5>\"\u001b[0;36m, line \u001b[0;32m1\u001b[0m\n\u001b[0;31m    catalog years = ['2017_2018', '2018_2019']\u001b[0m\n\u001b[0m                ^\u001b[0m\n\u001b[0;31mSyntaxError\u001b[0m\u001b[0;31m:\u001b[0m invalid syntax\n"
     ]
    }
   ],
   "source": [
    "catalog years = ['2017_2018', '2018_2019']"
   ]
  },
  {
   "cell_type": "code",
   "execution_count": null,
   "metadata": {},
   "outputs": [],
   "source": []
  },
  {
   "cell_type": "markdown",
   "metadata": {},
   "source": [
    "# 3 & 4 Transform and Load Data into ERD"
   ]
  },
  {
   "cell_type": "code",
   "execution_count": null,
   "metadata": {},
   "outputs": [],
   "source": []
  },
  {
   "cell_type": "markdown",
   "metadata": {},
   "source": [
    "# 5. Check"
   ]
  },
  {
   "cell_type": "code",
   "execution_count": null,
   "metadata": {},
   "outputs": [],
   "source": []
  },
  {
   "cell_type": "markdown",
   "metadata": {},
   "source": [
    "# 6. Empty out Tables to Reclaim Storage"
   ]
  },
  {
   "cell_type": "code",
   "execution_count": null,
   "metadata": {},
   "outputs": [],
   "source": []
  }
 ],
 "metadata": {
  "kernelspec": {
   "display_name": "Python 3",
   "language": "python",
   "name": "python3"
  },
  "language_info": {
   "codemirror_mode": {
    "name": "ipython",
    "version": 3
   },
   "file_extension": ".py",
   "mimetype": "text/x-python",
   "name": "python",
   "nbconvert_exporter": "python",
   "pygments_lexer": "ipython3",
   "version": "3.6.7"
  }
 },
 "nbformat": 4,
 "nbformat_minor": 4
}
