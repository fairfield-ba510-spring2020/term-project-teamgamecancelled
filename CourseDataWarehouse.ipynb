{
 "cells": [
  {
   "cell_type": "markdown",
   "metadata": {},
   "source": [
    "# Term Project Spring 2020 - Team Game Cancelled\n",
    "___"
   ]
  },
  {
   "cell_type": "markdown",
   "metadata": {},
   "source": [
    "## Course Data Warehouse Test"
   ]
  },
  {
   "cell_type": "markdown",
   "metadata": {},
   "source": [
    "<b> Table of Contents: </b>\n",
    "<br> [1. Star Schema](#000)\n",
    "<br> [2. Set Up - SQL and Database Warehouse](#100)\n",
    "<br> [3. Creating Tables from Star Schema](#200)\n",
    "<br> [4. Load Data into the Tables ](#300)\n",
    "<br> [5.](#400)\n",
    "<br> [6.](#500)\n",
    "___"
   ]
  },
  {
   "cell_type": "markdown",
   "metadata": {},
   "source": [
    "<a id = \"000\"> <h2> 1. Star Schema </h2> </a>\n",
    "_Design and build data warehouse called CourseDataWarehouse.db._"
   ]
  },
  {
   "cell_type": "markdown",
   "metadata": {},
   "source": [
    "![Star Schema](James/files/StarSchema.png)"
   ]
  },
  {
   "cell_type": "code",
   "execution_count": null,
   "metadata": {},
   "outputs": [],
   "source": [
    "## name - primaryinstructor \n",
    "#ADD updated image ^^"
   ]
  },
  {
   "cell_type": "markdown",
   "metadata": {},
   "source": [
    "<a id = \"100\"> <h2> 2. Set Up - SQL and Database Warehouse </h2> </a>"
   ]
  },
  {
   "cell_type": "markdown",
   "metadata": {},
   "source": [
    "### Imports"
   ]
  },
  {
   "cell_type": "code",
   "execution_count": 1,
   "metadata": {},
   "outputs": [],
   "source": [
    "%load_ext sql\n",
    "import pandas as pd\n",
    "import sqlite3"
   ]
  },
  {
   "cell_type": "code",
   "execution_count": 2,
   "metadata": {},
   "outputs": [],
   "source": [
    "# Do we still need this part?\n",
    "%sql sqlite:///CourseDataWarehouse.db\n",
    "conn = sqlite3.connect('CourseDataWarehouse.db')"
   ]
  },
  {
   "cell_type": "code",
   "execution_count": 3,
   "metadata": {},
   "outputs": [
    {
     "name": "stdout",
     "output_type": "stream",
     "text": [
      " * sqlite:///CourseDataWarehouse.db\n",
      "Done.\n"
     ]
    },
    {
     "data": {
      "text/plain": [
       "[]"
      ]
     },
     "execution_count": 3,
     "metadata": {},
     "output_type": "execute_result"
    }
   ],
   "source": [
    "%%sql\n",
    "ATTACH DATABASE 'CourseData.db' AS CourseData;"
   ]
  },
  {
   "cell_type": "markdown",
   "metadata": {},
   "source": [
    "<a id = \"200\"> <h2> 3. Create Tables from Star Schema </h2> </a>"
   ]
  },
  {
   "cell_type": "code",
   "execution_count": 4,
   "metadata": {},
   "outputs": [
    {
     "name": "stdout",
     "output_type": "stream",
     "text": [
      " * sqlite:///CourseDataWarehouse.db\n",
      "Done.\n",
      "Done.\n",
      "Done.\n",
      "Done.\n",
      "Done.\n",
      "Done.\n",
      "Done.\n",
      "Done.\n",
      "Done.\n",
      "Done.\n",
      "Done.\n",
      "Done.\n"
     ]
    },
    {
     "data": {
      "text/plain": [
       "[]"
      ]
     },
     "execution_count": 4,
     "metadata": {},
     "output_type": "execute_result"
    }
   ],
   "source": [
    "%%sql\n",
    "\n",
    "-- Instructors Dimension table\n",
    "DROP TABLE IF EXISTS INSTRUCTORS_DIM;\n",
    "CREATE TABLE INSTRUCTORS_DIM (\n",
    "    InstructorID INTEGER PRIMARY KEY,\n",
    "    Name TEXT\n",
    ");\n",
    "\n",
    "-- Location Dimension table\n",
    "DROP TABLE IF EXISTS LOCATION_DIM;\n",
    "CREATE TABLE LOCATION_DIM (\n",
    "    LocationID INTEGER PRIMARY KEY,\n",
    "    Location TEXT NOT NULL\n",
    ");\n",
    "\n",
    "-- Timecode Dimension table\n",
    "DROP TABLE IF EXISTS TIMECODE_DIM;\n",
    "CREATE TABLE TIMECODE_DIM (\n",
    "    TimecodeID INTEGER PRIMARY KEY,\n",
    "    Day TEXT,\n",
    "    Start TEXT,\n",
    "    End Text\n",
    ");\n",
    "\n",
    "-- Programs Dimension table\n",
    "DROP TABLE IF EXISTS PROGRAMS_DIM;\n",
    "CREATE TABLE PROGRAMS_DIM (\n",
    "    ProgramID INTEGER PRIMARY KEY,\n",
    "    ProgramCode TEXT NOT NULL,\n",
    "    ProgramName TEXT NOT NULL\n",
    ");\n",
    "\n",
    "\n",
    "-- Course Catalogs Dimension table\n",
    "DROP TABLE IF EXISTS COURSE_CATALOGS_DIM;\n",
    "CREATE TABLE COURSE_CATALOGS_DIM(\n",
    "    CourseID INTEGER PRIMARY KEY,\n",
    "    CatalogYear TEXT NOT NULL,\n",
    "    CatalogID TEXT NOT NULL,\n",
    "    CourseTitle TEXT NOT NULL,\n",
    "    Credits TEXT NOT NULL\n",
    ");\n",
    "\n",
    "-- Course Meetings Fact table\n",
    "DROP TABLE IF EXISTS COURSE_MEETINGS_FACT;\n",
    "CREATE TABLE COURSE_MEETINGS_FACT(\n",
    "    CourseMeetingID INTEGER,\n",
    "    CatalogID INTEGER,\n",
    "    ProgramID INTEGER,\n",
    "    InstructorID INTEGER,\n",
    "    CourseID INTEGER,\n",
    "    CourseOfferingID INTEGER,\n",
    "    TimecodeID INTEGER,\n",
    "    TermsID INTEGER,\n",
    "    Term TEXT,\n",
    "    LocationID INTEGER,\n",
    "    CRN INTEGER,\n",
    "    PrimaryInstructorID TEXT,\n",
    "    Capacity INTEGER,\n",
    "    Actual INTEGER,\n",
    "    Remaining INTEGER,\n",
    "    Credits INTEGER,\n",
    "    FOREIGN KEY (TimecodeID) REFERENCES TIMECODE_DIM(TimecodeID),\n",
    "    FOREIGN KEY (TermsID) REFERENCES TERMS_DIM(TermsID),\n",
    "    FOREIGN KEY (InstructorID) REFERENCES INSTRUCTOR_DIM(InstructorID),\n",
    "    FOREIGN KEY (ProgramID) REFERENCES PROGRAMS_DIM(ProgramID),\n",
    "    FOREIGN KEY (CourseID) REFERENCES COURSE_CATALOGS_DIM(CourseID),\n",
    "    FOREIGN KEY (LocationID) REFERENCES LOCATION_DIM(LocationID)\n",
    "\n",
    "    \n",
    "    \n",
    ");\n"
   ]
  },
  {
   "cell_type": "code",
   "execution_count": 5,
   "metadata": {},
   "outputs": [
    {
     "ename": "SyntaxError",
     "evalue": "invalid syntax (<ipython-input-5-bd2ed31f5957>, line 1)",
     "output_type": "error",
     "traceback": [
      "\u001b[0;36m  File \u001b[0;32m\"<ipython-input-5-bd2ed31f5957>\"\u001b[0;36m, line \u001b[0;32m1\u001b[0m\n\u001b[0;31m    -- Terms Dimension table\u001b[0m\n\u001b[0m                     ^\u001b[0m\n\u001b[0;31mSyntaxError\u001b[0m\u001b[0;31m:\u001b[0m invalid syntax\n"
     ]
    }
   ],
   "source": [
    "-- Terms Dimension table\n",
    "DROP TABLE IF EXISTS TERMS_DIM;\n",
    "CREATE TABLE TERMS_DIM (\n",
    "    TermsID INTEGER PRIMARY KEY,\n",
    "    Term TEXT\n",
    ");"
   ]
  },
  {
   "cell_type": "markdown",
   "metadata": {},
   "source": [
    "<a id = \"300\"> <h2> 3. Load Data into our Tables </h2> </a>"
   ]
  },
  {
   "cell_type": "markdown",
   "metadata": {},
   "source": [
    "### Rollup Queries\n",
    "\n",
    "_We use rollup queries to populate our tables._"
   ]
  },
  {
   "cell_type": "code",
   "execution_count": 6,
   "metadata": {},
   "outputs": [
    {
     "name": "stdout",
     "output_type": "stream",
     "text": [
      " * sqlite:///CourseDataWarehouse.db\n",
      "0 rows affected.\n",
      "1095 rows affected.\n"
     ]
    },
    {
     "data": {
      "text/plain": [
       "[]"
      ]
     },
     "execution_count": 6,
     "metadata": {},
     "output_type": "execute_result"
    }
   ],
   "source": [
    "%%sql\n",
    "DELETE FROM INSTRUCTORS_DIM;\n",
    "\n",
    "INSERT INTO INSTRUCTORS_DIM\n",
    "SELECT InstructorID, Name\n",
    "FROM CourseData.INSTRUCTORS;"
   ]
  },
  {
   "cell_type": "code",
   "execution_count": 7,
   "metadata": {},
   "outputs": [
    {
     "name": "stdout",
     "output_type": "stream",
     "text": [
      " * sqlite:///CourseDataWarehouse.db\n",
      "Done.\n"
     ]
    },
    {
     "data": {
      "text/html": [
       "<table>\n",
       "    <tr>\n",
       "        <th>RawCount</th>\n",
       "        <th>DistinctCount</th>\n",
       "    </tr>\n",
       "    <tr>\n",
       "        <td>1095</td>\n",
       "        <td>1095</td>\n",
       "    </tr>\n",
       "</table>"
      ],
      "text/plain": [
       "[(1095, 1095)]"
      ]
     },
     "execution_count": 7,
     "metadata": {},
     "output_type": "execute_result"
    }
   ],
   "source": [
    "%%sql\n",
    "-- Record Counts for Course Meetings\n",
    "SELECT \n",
    "    (SELECT Count(*) FROM INSTRUCTORS_DIM) as 'RawCount',\n",
    "    (SELECT Count(*) FROM (SELECT DISTINCT * FROM INSTRUCTORS_DIM)) as 'DistinctCount';"
   ]
  },
  {
   "cell_type": "markdown",
   "metadata": {},
   "source": [
    "_Testing the data loaded into Coursedata Warehouse_"
   ]
  },
  {
   "cell_type": "code",
   "execution_count": 8,
   "metadata": {},
   "outputs": [
    {
     "name": "stdout",
     "output_type": "stream",
     "text": [
      " * sqlite:///CourseDataWarehouse.db\n",
      "0 rows affected.\n",
      "207 rows affected.\n"
     ]
    },
    {
     "data": {
      "text/plain": [
       "[]"
      ]
     },
     "execution_count": 8,
     "metadata": {},
     "output_type": "execute_result"
    }
   ],
   "source": [
    "%%sql\n",
    "DELETE FROM LOCATION_DIM;\n",
    "\n",
    "INSERT INTO LOCATION_DIM\n",
    "SELECT DISTINCT LocationID, Location\n",
    "FROM CourseData.LOCATION;"
   ]
  },
  {
   "cell_type": "code",
   "execution_count": 9,
   "metadata": {},
   "outputs": [
    {
     "name": "stdout",
     "output_type": "stream",
     "text": [
      " * sqlite:///CourseDataWarehouse.db\n",
      "Done.\n"
     ]
    },
    {
     "data": {
      "text/html": [
       "<table>\n",
       "    <tr>\n",
       "        <th>LocationID</th>\n",
       "        <th>Location</th>\n",
       "    </tr>\n",
       "    <tr>\n",
       "        <td>1</td>\n",
       "        <td>BCC 200</td>\n",
       "    </tr>\n",
       "    <tr>\n",
       "        <td>2</td>\n",
       "        <td>BD </td>\n",
       "    </tr>\n",
       "    <tr>\n",
       "        <td>3</td>\n",
       "        <td>BH </td>\n",
       "    </tr>\n",
       "    <tr>\n",
       "        <td>4</td>\n",
       "        <td>BH BY ARR</td>\n",
       "    </tr>\n",
       "    <tr>\n",
       "        <td>5</td>\n",
       "        <td>BLM 112</td>\n",
       "    </tr>\n",
       "</table>"
      ],
      "text/plain": [
       "[(1, 'BCC 200'), (2, 'BD '), (3, 'BH '), (4, 'BH BY ARR'), (5, 'BLM 112')]"
      ]
     },
     "execution_count": 9,
     "metadata": {},
     "output_type": "execute_result"
    }
   ],
   "source": [
    "%%sql \n",
    "SELECT *\n",
    "FROM LOCATION_DIM\n",
    "LIMIT 5;"
   ]
  },
  {
   "cell_type": "code",
   "execution_count": 10,
   "metadata": {},
   "outputs": [
    {
     "name": "stdout",
     "output_type": "stream",
     "text": [
      " * sqlite:///CourseDataWarehouse.db\n",
      "Done.\n"
     ]
    },
    {
     "data": {
      "text/html": [
       "<table>\n",
       "    <tr>\n",
       "        <th>RawCount</th>\n",
       "        <th>DistinctCount</th>\n",
       "    </tr>\n",
       "    <tr>\n",
       "        <td>207</td>\n",
       "        <td>207</td>\n",
       "    </tr>\n",
       "</table>"
      ],
      "text/plain": [
       "[(207, 207)]"
      ]
     },
     "execution_count": 10,
     "metadata": {},
     "output_type": "execute_result"
    }
   ],
   "source": [
    "%%sql\n",
    "-- Record Counts for Course Meetings\n",
    "SELECT \n",
    "    (SELECT Count(*) FROM LOCATION_DIM) as 'RawCount',\n",
    "    (SELECT Count(*) FROM (SELECT DISTINCT * FROM LOCATION_DIM)) as 'DistinctCount';"
   ]
  },
  {
   "cell_type": "code",
   "execution_count": 11,
   "metadata": {},
   "outputs": [
    {
     "name": "stdout",
     "output_type": "stream",
     "text": [
      " * sqlite:///CourseDataWarehouse.db\n",
      "0 rows affected.\n",
      "39298 rows affected.\n"
     ]
    },
    {
     "data": {
      "text/plain": [
       "[]"
      ]
     },
     "execution_count": 11,
     "metadata": {},
     "output_type": "execute_result"
    }
   ],
   "source": [
    "%%sql\n",
    "DELETE FROM TIMECODE_DIM;\n",
    "\n",
    "INSERT INTO TIMECODE_DIM(Day, Start, End)\n",
    "SELECT DISTINCT Day, StartDateTime, EndDateTime\n",
    "FROM CourseData.COURSE_MEETINGS;"
   ]
  },
  {
   "cell_type": "code",
   "execution_count": 29,
   "metadata": {},
   "outputs": [
    {
     "name": "stdout",
     "output_type": "stream",
     "text": [
      " * sqlite:///CourseDataWarehouse.db\n",
      "Done.\n",
      "(sqlite3.OperationalError) no such table: CourseDate.COURSE_MEETINGS\n",
      "[SQL: CREATE TABLE ClassTimecode AS \n",
      "SELECT CourseMeetingID, TimecodeID\n",
      "FROM CourseDate.COURSE_MEETINGS JOIN TIMECODE_DIM ON (CourseData.Meeting.Day = TIMECODE_DIM.Day AND substr(CourseData.COURSE_MEETINGS.StartDateTime,12) = TIMECODE_DIM.StartTime AND substr(CourseData.Meeting.EndDateTime,12) = TIMECODE_DIM.EndDateTime);]\n",
      "(Background on this error at: http://sqlalche.me/e/e3q8)\n"
     ]
    }
   ],
   "source": [
    "%%sql\n",
    "DROP TABLE IF EXISTS ClassTimecode;\n",
    "CREATE TABLE ClassTimecode AS \n",
    "SELECT CourseMeetingID, TimecodeID\n",
    "FROM CourseDate.COURSE_MEETINGS JOIN TIMECODE_DIM ON (CourseData.Meeting.Day = TIMECODE_DIM.Day AND substr(CourseData.COURSE_MEETINGS.StartDateTime,12) = TIMECODE_DIM.StartTime AND substr(CourseData.Meeting.EndDateTime,12) = TIMECODE_DIM.EndDateTime);\n"
   ]
  },
  {
   "cell_type": "code",
   "execution_count": 13,
   "metadata": {},
   "outputs": [
    {
     "name": "stdout",
     "output_type": "stream",
     "text": [
      " * sqlite:///CourseDataWarehouse.db\n",
      "Done.\n"
     ]
    },
    {
     "data": {
      "text/html": [
       "<table>\n",
       "    <tr>\n",
       "        <th>RawCount</th>\n",
       "        <th>DistinctCount</th>\n",
       "    </tr>\n",
       "    <tr>\n",
       "        <td>39298</td>\n",
       "        <td>39298</td>\n",
       "    </tr>\n",
       "</table>"
      ],
      "text/plain": [
       "[(39298, 39298)]"
      ]
     },
     "execution_count": 13,
     "metadata": {},
     "output_type": "execute_result"
    }
   ],
   "source": [
    "%%sql\n",
    "-- Record Counts for Course Meetings\n",
    "SELECT \n",
    "    (SELECT Count(*) FROM TIMECODE_DIM) as 'RawCount',\n",
    "    (SELECT Count(*) FROM (SELECT DISTINCT * FROM TIMECODE_DIM)) as 'DistinctCount';"
   ]
  },
  {
   "cell_type": "code",
   "execution_count": 14,
   "metadata": {},
   "outputs": [
    {
     "name": "stdout",
     "output_type": "stream",
     "text": [
      " * sqlite:///CourseDataWarehouse.db\n",
      "Done.\n"
     ]
    },
    {
     "data": {
      "text/html": [
       "<table>\n",
       "    <tr>\n",
       "        <th>TimecodeID</th>\n",
       "        <th>Day</th>\n",
       "        <th>Start</th>\n",
       "        <th>End</th>\n",
       "    </tr>\n",
       "    <tr>\n",
       "        <td>1</td>\n",
       "        <td>T</td>\n",
       "        <td>2014-09-02T08:00:00</td>\n",
       "        <td>2014-09-02T09:15:00</td>\n",
       "    </tr>\n",
       "    <tr>\n",
       "        <td>2</td>\n",
       "        <td>F</td>\n",
       "        <td>2014-09-05T08:00:00</td>\n",
       "        <td>2014-09-05T09:15:00</td>\n",
       "    </tr>\n",
       "    <tr>\n",
       "        <td>3</td>\n",
       "        <td>T</td>\n",
       "        <td>2014-09-09T08:00:00</td>\n",
       "        <td>2014-09-09T09:15:00</td>\n",
       "    </tr>\n",
       "    <tr>\n",
       "        <td>4</td>\n",
       "        <td>F</td>\n",
       "        <td>2014-09-12T08:00:00</td>\n",
       "        <td>2014-09-12T09:15:00</td>\n",
       "    </tr>\n",
       "    <tr>\n",
       "        <td>5</td>\n",
       "        <td>T</td>\n",
       "        <td>2014-09-16T08:00:00</td>\n",
       "        <td>2014-09-16T09:15:00</td>\n",
       "    </tr>\n",
       "    <tr>\n",
       "        <td>6</td>\n",
       "        <td>F</td>\n",
       "        <td>2014-09-19T08:00:00</td>\n",
       "        <td>2014-09-19T09:15:00</td>\n",
       "    </tr>\n",
       "    <tr>\n",
       "        <td>7</td>\n",
       "        <td>T</td>\n",
       "        <td>2014-09-23T08:00:00</td>\n",
       "        <td>2014-09-23T09:15:00</td>\n",
       "    </tr>\n",
       "    <tr>\n",
       "        <td>8</td>\n",
       "        <td>F</td>\n",
       "        <td>2014-09-26T08:00:00</td>\n",
       "        <td>2014-09-26T09:15:00</td>\n",
       "    </tr>\n",
       "    <tr>\n",
       "        <td>9</td>\n",
       "        <td>T</td>\n",
       "        <td>2014-09-30T08:00:00</td>\n",
       "        <td>2014-09-30T09:15:00</td>\n",
       "    </tr>\n",
       "    <tr>\n",
       "        <td>10</td>\n",
       "        <td>F</td>\n",
       "        <td>2014-10-03T08:00:00</td>\n",
       "        <td>2014-10-03T09:15:00</td>\n",
       "    </tr>\n",
       "</table>"
      ],
      "text/plain": [
       "[(1, 'T', '2014-09-02T08:00:00', '2014-09-02T09:15:00'),\n",
       " (2, 'F', '2014-09-05T08:00:00', '2014-09-05T09:15:00'),\n",
       " (3, 'T', '2014-09-09T08:00:00', '2014-09-09T09:15:00'),\n",
       " (4, 'F', '2014-09-12T08:00:00', '2014-09-12T09:15:00'),\n",
       " (5, 'T', '2014-09-16T08:00:00', '2014-09-16T09:15:00'),\n",
       " (6, 'F', '2014-09-19T08:00:00', '2014-09-19T09:15:00'),\n",
       " (7, 'T', '2014-09-23T08:00:00', '2014-09-23T09:15:00'),\n",
       " (8, 'F', '2014-09-26T08:00:00', '2014-09-26T09:15:00'),\n",
       " (9, 'T', '2014-09-30T08:00:00', '2014-09-30T09:15:00'),\n",
       " (10, 'F', '2014-10-03T08:00:00', '2014-10-03T09:15:00')]"
      ]
     },
     "execution_count": 14,
     "metadata": {},
     "output_type": "execute_result"
    }
   ],
   "source": [
    "%%sql\n",
    "SELECT *\n",
    "FROM TIMECODE_DIM\n",
    "LIMIT 10;"
   ]
  },
  {
   "cell_type": "code",
   "execution_count": 15,
   "metadata": {},
   "outputs": [
    {
     "name": "stdout",
     "output_type": "stream",
     "text": [
      " * sqlite:///CourseDataWarehouse.db\n",
      "0 rows affected.\n",
      "83 rows affected.\n"
     ]
    },
    {
     "data": {
      "text/plain": [
       "[]"
      ]
     },
     "execution_count": 15,
     "metadata": {},
     "output_type": "execute_result"
    }
   ],
   "source": [
    "%%sql\n",
    "DELETE FROM PROGRAMS_DIM;\n",
    "\n",
    "INSERT INTO PROGRAMS_DIM\n",
    "SELECT ProgramID, ProgramCode, ProgramName\n",
    "FROM CourseData.PROGRAMS; "
   ]
  },
  {
   "cell_type": "code",
   "execution_count": 16,
   "metadata": {},
   "outputs": [
    {
     "name": "stdout",
     "output_type": "stream",
     "text": [
      " * sqlite:///CourseDataWarehouse.db\n",
      "Done.\n"
     ]
    },
    {
     "data": {
      "text/html": [
       "<table>\n",
       "    <tr>\n",
       "        <th>RawCount</th>\n",
       "        <th>DistinctCount</th>\n",
       "    </tr>\n",
       "    <tr>\n",
       "        <td>83</td>\n",
       "        <td>83</td>\n",
       "    </tr>\n",
       "</table>"
      ],
      "text/plain": [
       "[(83, 83)]"
      ]
     },
     "execution_count": 16,
     "metadata": {},
     "output_type": "execute_result"
    }
   ],
   "source": [
    "%%sql\n",
    "-- Record Counts for Course Meetings\n",
    "SELECT \n",
    "    (SELECT Count(*) FROM PROGRAMS) as 'RawCount',\n",
    "    (SELECT Count(*) FROM (SELECT DISTINCT * FROM PROGRAMS)) as 'DistinctCount';"
   ]
  },
  {
   "cell_type": "code",
   "execution_count": 17,
   "metadata": {},
   "outputs": [
    {
     "name": "stdout",
     "output_type": "stream",
     "text": [
      " * sqlite:///CourseDataWarehouse.db\n",
      "(sqlite3.OperationalError) no such table: TERMS_DIM\n",
      "[SQL: DELETE FROM TERMS_DIM;]\n",
      "(Background on this error at: http://sqlalche.me/e/e3q8)\n"
     ]
    }
   ],
   "source": [
    "%%sql\n",
    "DELETE FROM TERMS_DIM;\n",
    "\n",
    "INSERT INTO TERMS_DIM(Term)\n",
    "SELECT DISTINCT Term\n",
    "FROM CourseData.COURSE_OFFERINGS;"
   ]
  },
  {
   "cell_type": "code",
   "execution_count": 18,
   "metadata": {},
   "outputs": [
    {
     "name": "stdout",
     "output_type": "stream",
     "text": [
      " * sqlite:///CourseDataWarehouse.db\n",
      "(sqlite3.OperationalError) no such table: TERMS_DIM\n",
      "[SQL: -- Record Counts for Course Meetings\n",
      "SELECT \n",
      "    (SELECT Count(*) FROM TERMS_DIM) as 'RawCount',\n",
      "    (SELECT Count(*) FROM (SELECT DISTINCT * FROM TERMS_DIM)) as 'DistinctCount';]\n",
      "(Background on this error at: http://sqlalche.me/e/e3q8)\n"
     ]
    }
   ],
   "source": [
    "%%sql\n",
    "-- Record Counts for Course Meetings\n",
    "SELECT \n",
    "    (SELECT Count(*) FROM TERMS_DIM) as 'RawCount',\n",
    "    (SELECT Count(*) FROM (SELECT DISTINCT * FROM TERMS_DIM)) as 'DistinctCount';"
   ]
  },
  {
   "cell_type": "code",
   "execution_count": 19,
   "metadata": {},
   "outputs": [
    {
     "name": "stdout",
     "output_type": "stream",
     "text": [
      " * sqlite:///CourseDataWarehouse.db\n",
      "(sqlite3.OperationalError) no such table: TERMS_DIM\n",
      "[SQL: SELECT *\n",
      "FROM TERMS_DIM\n",
      ";]\n",
      "(Background on this error at: http://sqlalche.me/e/e3q8)\n"
     ]
    }
   ],
   "source": [
    "%%sql\n",
    "SELECT *\n",
    "FROM TERMS_DIM\n",
    ";"
   ]
  },
  {
   "cell_type": "code",
   "execution_count": 20,
   "metadata": {},
   "outputs": [
    {
     "name": "stdout",
     "output_type": "stream",
     "text": [
      " * sqlite:///CourseDataWarehouse.db\n",
      "0 rows affected.\n",
      "4440 rows affected.\n"
     ]
    },
    {
     "data": {
      "text/plain": [
       "[]"
      ]
     },
     "execution_count": 20,
     "metadata": {},
     "output_type": "execute_result"
    }
   ],
   "source": [
    "%%sql\n",
    "DELETE FROM COURSE_CATALOGS_DIM;\n",
    "\n",
    "INSERT INTO COURSE_CATALOGS_DIM\n",
    "SELECT CourseID, CatalogYear, CatalogID, CourseTitle, Credits \n",
    "FROM CourseData.COURSE_CATALOGS;"
   ]
  },
  {
   "cell_type": "code",
   "execution_count": 21,
   "metadata": {},
   "outputs": [
    {
     "name": "stdout",
     "output_type": "stream",
     "text": [
      " * sqlite:///CourseDataWarehouse.db\n",
      "Done.\n"
     ]
    },
    {
     "data": {
      "text/html": [
       "<table>\n",
       "    <tr>\n",
       "        <th>CourseID</th>\n",
       "        <th>CatalogYear</th>\n",
       "        <th>CatalogID</th>\n",
       "        <th>CourseTitle</th>\n",
       "        <th>Credits</th>\n",
       "    </tr>\n",
       "    <tr>\n",
       "        <td>1</td>\n",
       "        <td>2017_2018</td>\n",
       "        <td>AN 0301</td>\n",
       "        <td>Independent Study</td>\n",
       "        <td>1-3 Credits</td>\n",
       "    </tr>\n",
       "    <tr>\n",
       "        <td>2</td>\n",
       "        <td>2017_2018</td>\n",
       "        <td>AN 0310</td>\n",
       "        <td>Asian Studies Seminar</td>\n",
       "        <td>3 Credits</td>\n",
       "    </tr>\n",
       "    <tr>\n",
       "        <td>3</td>\n",
       "        <td>2017_2018</td>\n",
       "        <td>BU 0211</td>\n",
       "        <td>Legal Environment of Business</td>\n",
       "        <td>3 Credits</td>\n",
       "    </tr>\n",
       "    <tr>\n",
       "        <td>4</td>\n",
       "        <td>2017_2018</td>\n",
       "        <td>BU 0220</td>\n",
       "        <td>Environmental Law and Policy</td>\n",
       "        <td>3 Credits</td>\n",
       "    </tr>\n",
       "    <tr>\n",
       "        <td>5</td>\n",
       "        <td>2017_2018</td>\n",
       "        <td>BU 0311</td>\n",
       "        <td>The Law of Contracts, Sales, and Property</td>\n",
       "        <td>3 Credits</td>\n",
       "    </tr>\n",
       "</table>"
      ],
      "text/plain": [
       "[(1, '2017_2018', 'AN 0301', 'Independent Study', '1-3 Credits'),\n",
       " (2, '2017_2018', 'AN 0310', 'Asian Studies Seminar', '3 Credits'),\n",
       " (3, '2017_2018', 'BU 0211', 'Legal Environment of Business', '3 Credits'),\n",
       " (4, '2017_2018', 'BU 0220', 'Environmental Law and Policy', '3 Credits'),\n",
       " (5, '2017_2018', 'BU 0311', 'The Law of Contracts, Sales, and Property', '3 Credits')]"
      ]
     },
     "execution_count": 21,
     "metadata": {},
     "output_type": "execute_result"
    }
   ],
   "source": [
    "%%sql\n",
    "SELECT DISTINCT *\n",
    "FROM COURSE_CATALOGS_DIM\n",
    "LIMIT (5);"
   ]
  },
  {
   "cell_type": "code",
   "execution_count": 22,
   "metadata": {},
   "outputs": [
    {
     "name": "stdout",
     "output_type": "stream",
     "text": [
      " * sqlite:///CourseDataWarehouse.db\n",
      "Done.\n"
     ]
    },
    {
     "data": {
      "text/html": [
       "<table>\n",
       "    <tr>\n",
       "        <th>LocationID</th>\n",
       "        <th>Location</th>\n",
       "    </tr>\n",
       "    <tr>\n",
       "        <td>1</td>\n",
       "        <td>BCC 200</td>\n",
       "    </tr>\n",
       "    <tr>\n",
       "        <td>2</td>\n",
       "        <td>BD </td>\n",
       "    </tr>\n",
       "    <tr>\n",
       "        <td>3</td>\n",
       "        <td>BH </td>\n",
       "    </tr>\n",
       "    <tr>\n",
       "        <td>4</td>\n",
       "        <td>BH BY ARR</td>\n",
       "    </tr>\n",
       "    <tr>\n",
       "        <td>5</td>\n",
       "        <td>BLM 112</td>\n",
       "    </tr>\n",
       "</table>"
      ],
      "text/plain": [
       "[(1, 'BCC 200'), (2, 'BD '), (3, 'BH '), (4, 'BH BY ARR'), (5, 'BLM 112')]"
      ]
     },
     "execution_count": 22,
     "metadata": {},
     "output_type": "execute_result"
    }
   ],
   "source": [
    "%%sql\n",
    "\n",
    "SELECT *\n",
    "FROM \n",
    "LOCATION_DIM\n",
    "\n",
    "LIMIT 5;"
   ]
  },
  {
   "cell_type": "code",
   "execution_count": null,
   "metadata": {},
   "outputs": [],
   "source": [
    "## do we need termID?\n",
    "\n",
    "\n",
    "# James adding in sql comments in next two cells (4/27 6pm)"
   ]
  },
  {
   "cell_type": "code",
   "execution_count": null,
   "metadata": {},
   "outputs": [],
   "source": [
    "%%sql\n",
    "--select query to see what the info will look like before we insert into the fact table\n",
    "\n",
    "SELECT *\n",
    "FROM CourseData.COURSE_MEETINGS\n",
    "   JOIN CourseData.COURSE_OFFERINGS USING (CourseOfferingID)\n",
    "    JOIN PROGRAMS_DIM ON (PROGRAMS_DIM.ProgramCode = SUBSTR(CourseData.COURSE_OFFERINGS.CatalogID,1,INSTR(CourseData.COURSE_OFFERINGS.CatalogID,\" \")-1))\n",
    "    LEFT JOIN INSTRUCTORS_DIM ON (INSTRUCTORS_DIM.Name = CourseData.COURSE_OFFERINGS.PrimaryInstructorID)\n",
    "    LEFT JOIN LOCATION_DIM USING (LocationID)\n",
    "--      LEFT JOIN TIMECODE_DIM ON (TIMECODE_DIM.Day = CourseData.COURSE_MEETINGS.Day)\n",
    "\n",
    "WHERE Term = 'Fall2017'\n",
    "LIMIT 5;\n"
   ]
  },
  {
   "cell_type": "markdown",
   "metadata": {},
   "source": [
    "__CREATING COURSE MEETINGS FACT TABLE__"
   ]
  },
  {
   "cell_type": "code",
   "execution_count": null,
   "metadata": {},
   "outputs": [],
   "source": [
    "%%sql\n",
    "DELETE FROM COURSE_MEETINGS_FACT;\n",
    "\n",
    "INSERT INTO COURSE_MEETINGS_FACT(CatalogID,ProgramID,CourseID,CourseOfferingID,TimecodeID,LocationID,CRN,PrimaryInstructorID,Capacity,Actual,Remaining,Credits)\n",
    "SELECT DISTINCT COURSE_OFFERINGS.CatalogID, PROGRAMS_DIM.ProgramID,COURSE_OFFERINGS.CourseID, COURSE_OFFERINGS.CourseOfferingID, TIMECODE_DIM.TimecodeID, LOCATION_DIM.LocationID, COURSE_OFFERINGS.CRN, CourseData.COURSE_OFFERINGS.PrimaryInstructorID, COURSE_OFFERINGS.Capacity, COURSE_OFFERINGS.Actual, COURSE_OFFERINGS.Remaining, COURSE_OFFERINGS.Credits\n",
    "\n",
    "FROM CourseData.COURSE_MEETINGS\n",
    "    JOIN CourseData.COURSE_OFFERINGS ON (CourseData.COURSE_OFFERINGS.CourseOfferingID = CourseData.COURSE_MEETINGS.CourseOfferingID)\n",
    "    LEFT JOIN PROGRAMS_DIM ON (PROGRAMS_DIM.ProgramCode = SUBSTR(CourseData.COURSE_OFFERINGS.CatalogID,1,2))\n",
    "    LEFT JOIN INSTRUCTORS_DIM ON (INSTRUCTORS_DIM.Name = CourseData.COURSE_OFFERINGS.PrimaryInstructorID)\n",
    "    LEFT JOIN LOCATION_DIM ON (LOCATION_DIM.LocationID = CourseData.COURSE_MEETINGS.LocationID)\n",
    "    LEFT JOIN TIMECODE_DIM ON (TIMECODE_DIM.Day = CourseData.COURSE_MEETINGS.Day)\n",
    "    LEFT JOIN COURSE_CATALOGS_DIM ON (COURSE_CATALOGS_DIM.CourseID = CourseData.COURSE_CATALOGS.CourseID);\n"
   ]
  },
  {
   "cell_type": "code",
   "execution_count": null,
   "metadata": {},
   "outputs": [],
   "source": [
    "%%sql\n",
    "\n",
    "SELECT *\n",
    "FROM COURSE_MEETINGS_FACT\n",
    "\n",
    "WHERE TimecodeID = '7'\n",
    "LIMIT 5;\n"
   ]
  },
  {
   "cell_type": "code",
   "execution_count": null,
   "metadata": {},
   "outputs": [],
   "source": []
  },
  {
   "cell_type": "code",
   "execution_count": null,
   "metadata": {},
   "outputs": [],
   "source": [
    "%%sql\n",
    "vacuum;"
   ]
  },
  {
   "cell_type": "code",
   "execution_count": null,
   "metadata": {},
   "outputs": [],
   "source": [
    "%%sql\n",
    "DELETE FROM COURSE_MEETINGS_FACT;\n",
    "\n",
    "INSERT INTO COURSE_MEETINGS_FACT(CatalogID,ProgramID,CourseID,CourseOfferingID,TimecodeID,LocationID,CRN,PrimaryInstructorID,Capacity,Actual,Remaining,Credits)\n",
    "SELECT DISTINCT COURSE_OFFERINGS.CatalogID, PROGRAMS_DIM.ProgramID,COURSE_OFFERINGS.CourseID, COURSE_OFFERINGS.CourseOfferingID, TIMECODE_DIM.TimecodeID, LOCATION_DIM.LocationID, COURSE_OFFERINGS.CRN, CourseData.COURSE_OFFERINGS.PrimaryInstructorID, COURSE_OFFERINGS.Capacity, COURSE_OFFERINGS.Actual, COURSE_OFFERINGS.Remaining, COURSE_OFFERINGS.Credits\n",
    "\n",
    "FROM CourseData.COURSE_MEETINGS\n",
    "    JOIN CourseData.COURSE_OFFERINGS USING (CourseOfferingID)\n",
    "    JOIN PROGRAMS_DIM ON (PROGRAMS_DIM.ProgramCode = SUBSTR(CourseData.COURSE_OFFERINGS.CatalogID,1,2))\n",
    "    LEFT JOIN INSTRUCTORS_DIM ON (INSTRUCTORS_DIM.Name = CourseData.COURSE_OFFERINGS.PrimaryInstructorID)\n",
    "    LEFT JOIN LOCATION_DIM USING (LocationID)\n",
    "    LEFT JOIN TIMECODE_DIM ON (TIMECODE_DIM.Day = CourseData.COURSE_MEETINGS.Day)\n",
    "    LEFT JOIN COURSE_CATALOGS_DIM USING (CourseID, CatalogID);"
   ]
  }
 ],
 "metadata": {
  "kernelspec": {
   "display_name": "Python 3",
   "language": "python",
   "name": "python3"
  },
  "language_info": {
   "codemirror_mode": {
    "name": "ipython",
    "version": 3
   },
   "file_extension": ".py",
   "mimetype": "text/x-python",
   "name": "python",
   "nbconvert_exporter": "python",
   "pygments_lexer": "ipython3",
   "version": "3.6.7"
  }
 },
 "nbformat": 4,
 "nbformat_minor": 4
}
