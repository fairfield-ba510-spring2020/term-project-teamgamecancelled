{
 "cells": [
  {
   "cell_type": "markdown",
   "metadata": {},
   "source": [
    "# Term Project Spring 2020 - Team Game Cancelled\n",
    "___"
   ]
  },
  {
   "cell_type": "markdown",
   "metadata": {},
   "source": [
    "## Course Data Warehouse Test"
   ]
  },
  {
   "cell_type": "markdown",
   "metadata": {},
   "source": [
    "<b> Table of Contents: </b>\n",
    "<br> [1. Star Schema](#000)\n",
    "<br> [2. Set Up - SQL and Database Warehouse](#100)\n",
    "<br> [3. Creating Tables from Star Schema](#200)\n",
    "<br> [4. Load Data into the Tables ](#300)\n",
    "<br> [5.](#400)\n",
    "<br> [6.](#500)\n",
    "___"
   ]
  },
  {
   "cell_type": "markdown",
   "metadata": {},
   "source": [
    "<a id = \"000\"> <h2> 1. Star Schema </h2> </a>\n",
    "_Design and build data warehouse called CourseDataWarehouse.db._"
   ]
  },
  {
   "cell_type": "markdown",
   "metadata": {},
   "source": [
    "![Star Schema](James/files/StarSchema.png)"
   ]
  },
  {
   "cell_type": "code",
   "execution_count": 1,
   "metadata": {},
   "outputs": [],
   "source": [
    "#ADD updated image ^^"
   ]
  },
  {
   "cell_type": "markdown",
   "metadata": {},
   "source": [
    "<a id = \"100\"> <h2> 2. Set Up - SQL and Database Warehouse </h2> </a>"
   ]
  },
  {
   "cell_type": "markdown",
   "metadata": {},
   "source": [
    "### Imports"
   ]
  },
  {
   "cell_type": "code",
   "execution_count": 2,
   "metadata": {},
   "outputs": [],
   "source": [
    "%load_ext sql\n",
    "import pandas as pd\n",
    "import sqlite3"
   ]
  },
  {
   "cell_type": "code",
   "execution_count": 3,
   "metadata": {},
   "outputs": [],
   "source": [
    "# Do we still need this part?\n",
    "%sql sqlite:///CourseDataWarehouse.db\n",
    "conn = sqlite3.connect('CourseDataWarehouse.db')"
   ]
  },
  {
   "cell_type": "code",
   "execution_count": 4,
   "metadata": {},
   "outputs": [
    {
     "name": "stdout",
     "output_type": "stream",
     "text": [
      " * sqlite:///CourseDataWarehouse.db\n",
      "Done.\n"
     ]
    },
    {
     "data": {
      "text/plain": [
       "[]"
      ]
     },
     "execution_count": 4,
     "metadata": {},
     "output_type": "execute_result"
    }
   ],
   "source": [
    "%%sql\n",
    "ATTACH DATABASE 'CourseData.db' AS CourseData;"
   ]
  },
  {
   "cell_type": "code",
   "execution_count": 5,
   "metadata": {},
   "outputs": [
    {
     "name": "stdout",
     "output_type": "stream",
     "text": [
      " * sqlite:///CourseDataWarehouse.db\n",
      "Done.\n"
     ]
    },
    {
     "data": {
      "text/html": [
       "<table>\n",
       "    <tr>\n",
       "        <th>LocationID</th>\n",
       "    </tr>\n",
       "    <tr>\n",
       "        <td>BCC 200</td>\n",
       "    </tr>\n",
       "    <tr>\n",
       "        <td>BD </td>\n",
       "    </tr>\n",
       "    <tr>\n",
       "        <td>BH </td>\n",
       "    </tr>\n",
       "    <tr>\n",
       "        <td>BH BY ARR</td>\n",
       "    </tr>\n",
       "    <tr>\n",
       "        <td>BLM 112</td>\n",
       "    </tr>\n",
       "    <tr>\n",
       "        <td>BLM LL105</td>\n",
       "    </tr>\n",
       "    <tr>\n",
       "        <td>BNW 124</td>\n",
       "    </tr>\n",
       "    <tr>\n",
       "        <td>BNW 127</td>\n",
       "    </tr>\n",
       "    <tr>\n",
       "        <td>BNW 128</td>\n",
       "    </tr>\n",
       "    <tr>\n",
       "        <td>BNW 129B</td>\n",
       "    </tr>\n",
       "</table>"
      ],
      "text/plain": [
       "[('BCC 200',),\n",
       " ('BD ',),\n",
       " ('BH ',),\n",
       " ('BH BY ARR',),\n",
       " ('BLM 112',),\n",
       " ('BLM LL105',),\n",
       " ('BNW 124',),\n",
       " ('BNW 127',),\n",
       " ('BNW 128',),\n",
       " ('BNW 129B',)]"
      ]
     },
     "execution_count": 5,
     "metadata": {},
     "output_type": "execute_result"
    }
   ],
   "source": [
    "%%sql\n",
    "\n",
    "SELECT *\n",
    "FROM CourseData.LOCATION\n",
    "GROUP BY (LocationID)\n",
    "LIMIT 10;"
   ]
  },
  {
   "cell_type": "markdown",
   "metadata": {},
   "source": [
    "<a id = \"200\"> <h2> 3. Create Tables from Star Schema </h2> </a>"
   ]
  },
  {
   "cell_type": "code",
   "execution_count": 6,
   "metadata": {},
   "outputs": [
    {
     "name": "stdout",
     "output_type": "stream",
     "text": [
      " * sqlite:///CourseDataWarehouse.db\n",
      "Done.\n",
      "Done.\n",
      "Done.\n",
      "Done.\n",
      "Done.\n",
      "Done.\n",
      "Done.\n",
      "Done.\n",
      "Done.\n",
      "Done.\n",
      "Done.\n",
      "Done.\n",
      "Done.\n",
      "Done.\n"
     ]
    },
    {
     "data": {
      "text/plain": [
       "[]"
      ]
     },
     "execution_count": 6,
     "metadata": {},
     "output_type": "execute_result"
    }
   ],
   "source": [
    "%%sql\n",
    "\n",
    "-- Instructors Dimension table\n",
    "DROP TABLE IF EXISTS INSTRUCTORS_DIM;\n",
    "CREATE TABLE INSTRUCTORS_DIM (\n",
    "    InstructorID INTEGER PRIMARY KEY,\n",
    "    Name TEXT NOT NULL\n",
    ");\n",
    "\n",
    "-- Location Dimension table\n",
    "DROP TABLE IF EXISTS LOCATION_DIM;\n",
    "CREATE TABLE LOCATION_DIM (\n",
    "    LocationID TEXT PRIMARY KEY\n",
    ");\n",
    "\n",
    "-- Timecode Dimension table\n",
    "DROP TABLE IF EXISTS TIMECODE_DIM;\n",
    "CREATE TABLE TIMECODE_DIM (\n",
    "    TimecodeID INTEGER PRIMARY KEY,\n",
    "    Day TEXT,\n",
    "    Start TEXT,\n",
    "    End Text\n",
    ");\n",
    "\n",
    "-- Programs Dimension table\n",
    "DROP TABLE IF EXISTS PROGRAMS_DIM;\n",
    "CREATE TABLE PROGRAMS_DIM (\n",
    "    ProgramID INTEGER PRIMARY KEY,\n",
    "    ProgramCode TEXT NOT NULL,\n",
    "    ProgramName TEXT NOT NULL\n",
    ");\n",
    "\n",
    "-- Terms Dimension table\n",
    "DROP TABLE IF EXISTS TERMS_DIM;\n",
    "CREATE TABLE TERMS_DIM (\n",
    "    TermsID INTEGER PRIMARY KEY,\n",
    "    Term TEXT NOT NULL\n",
    ");\n",
    "\n",
    "-- Course Catalogs Dimension table\n",
    "DROP TABLE IF EXISTS COURSE_CATALOGS_DIM;\n",
    "CREATE TABLE COURSE_CATALOGS_DIM(\n",
    "    CourseID INTEGER PRIMARY KEY,\n",
    "    CatalogYear TEXT NOT NULL,\n",
    "    CatalogID TEXT NOT NULL,\n",
    "    CourseTitle TEXT NOT NULL,\n",
    "    Credits TEXT NOT NULL,\n",
    "    Prequisites TEXT,\n",
    "    Corequisites TEXT,\n",
    "    Attributes TEXT\n",
    ");\n",
    "\n",
    "-- Course Meetings Fact table\n",
    "DROP TABLE IF EXISTS COURSE_MEETINGS_FACT;\n",
    "CREATE TABLE COURSE_MEETINGS_FACT(\n",
    "    CourseMeetingID INTEGER PRIMARY KEY,\n",
    "    CatalogID TEXT NOT NULL,\n",
    "    ProgramID TEXT NOT NULL,\n",
    "    InstructorID INTEGER NOT NULL,\n",
    "    CourseID INTEGER NOT NULL,\n",
    "    CourseOfferingID INTEGER NOT NULL,\n",
    "    TimecodeID INTEGER,\n",
    "    TermsID INTEGER,\n",
    "    Term TEXT NOT NULL,\n",
    "    LocationID TEXT NOT NULL,\n",
    "    CRN INTEGER NOT NULL,\n",
    "    PrimaryInstructorID INTEGER,\n",
    "    Capacity INTEGER NOT NULL,\n",
    "    Actual INTEGER NOT NULL,\n",
    "    Remaining INTEGER NOT NULL,\n",
    "    Credits INTEGER NOT NULL,\n",
    "    FOREIGN KEY (TimecodeID) REFERENCES TIMECODE_DIM(TimecodeID),\n",
    "    FOREIGN KEY (Term) REFERENCES TERMS_DIM(Term)\n",
    "    \n",
    ");\n"
   ]
  },
  {
   "cell_type": "markdown",
   "metadata": {},
   "source": [
    "<a id = \"300\"> <h2> 3. Load Data into our Tables </h2> </a>"
   ]
  },
  {
   "cell_type": "markdown",
   "metadata": {},
   "source": [
    "### Rollup Queries\n",
    "\n",
    "_We use rollup queries to populate our tables._"
   ]
  },
  {
   "cell_type": "code",
   "execution_count": 7,
   "metadata": {},
   "outputs": [
    {
     "name": "stdout",
     "output_type": "stream",
     "text": [
      " * sqlite:///CourseDataWarehouse.db\n",
      "0 rows affected.\n",
      "1095 rows affected.\n"
     ]
    },
    {
     "data": {
      "text/plain": [
       "[]"
      ]
     },
     "execution_count": 7,
     "metadata": {},
     "output_type": "execute_result"
    }
   ],
   "source": [
    "%%sql\n",
    "DELETE FROM INSTRUCTORS_DIM;\n",
    "\n",
    "INSERT INTO INSTRUCTORS_DIM\n",
    "SELECT InstructorID, Name\n",
    "FROM CourseData.INSTRUCTORS;"
   ]
  },
  {
   "cell_type": "code",
   "execution_count": 8,
   "metadata": {},
   "outputs": [
    {
     "name": "stdout",
     "output_type": "stream",
     "text": [
      " * sqlite:///CourseDataWarehouse.db\n",
      "Done.\n"
     ]
    },
    {
     "data": {
      "text/html": [
       "<table>\n",
       "    <tr>\n",
       "        <th>RawCount</th>\n",
       "        <th>DistinctCount</th>\n",
       "    </tr>\n",
       "    <tr>\n",
       "        <td>1095</td>\n",
       "        <td>1095</td>\n",
       "    </tr>\n",
       "</table>"
      ],
      "text/plain": [
       "[(1095, 1095)]"
      ]
     },
     "execution_count": 8,
     "metadata": {},
     "output_type": "execute_result"
    }
   ],
   "source": [
    "%%sql\n",
    "-- Record Counts for Course Meetings\n",
    "SELECT \n",
    "    (SELECT Count(*) FROM INSTRUCTORS_DIM) as 'RawCount',\n",
    "    (SELECT Count(*) FROM (SELECT DISTINCT * FROM INSTRUCTORS_DIM)) as 'DistinctCount';"
   ]
  },
  {
   "cell_type": "markdown",
   "metadata": {},
   "source": [
    "_Testing the data loaded into Coursedata Warehouse_"
   ]
  },
  {
   "cell_type": "code",
   "execution_count": 9,
   "metadata": {},
   "outputs": [
    {
     "name": "stdout",
     "output_type": "stream",
     "text": [
      " * sqlite:///CourseDataWarehouse.db\n",
      "0 rows affected.\n",
      "207 rows affected.\n"
     ]
    },
    {
     "data": {
      "text/plain": [
       "[]"
      ]
     },
     "execution_count": 9,
     "metadata": {},
     "output_type": "execute_result"
    }
   ],
   "source": [
    "%%sql\n",
    "DELETE FROM LOCATION_DIM;\n",
    "\n",
    "INSERT INTO LOCATION_DIM\n",
    "SELECT DISTINCT LocationID\n",
    "FROM CourseData.LOCATION;"
   ]
  },
  {
   "cell_type": "code",
   "execution_count": 10,
   "metadata": {},
   "outputs": [
    {
     "name": "stdout",
     "output_type": "stream",
     "text": [
      " * sqlite:///CourseDataWarehouse.db\n",
      "Done.\n"
     ]
    },
    {
     "data": {
      "text/html": [
       "<table>\n",
       "    <tr>\n",
       "        <th>RawCount</th>\n",
       "        <th>DistinctCount</th>\n",
       "    </tr>\n",
       "    <tr>\n",
       "        <td>207</td>\n",
       "        <td>207</td>\n",
       "    </tr>\n",
       "</table>"
      ],
      "text/plain": [
       "[(207, 207)]"
      ]
     },
     "execution_count": 10,
     "metadata": {},
     "output_type": "execute_result"
    }
   ],
   "source": [
    "%%sql\n",
    "-- Record Counts for Course Meetings\n",
    "SELECT \n",
    "    (SELECT Count(*) FROM LOCATION_DIM) as 'RawCount',\n",
    "    (SELECT Count(*) FROM (SELECT DISTINCT * FROM LOCATION_DIM)) as 'DistinctCount';"
   ]
  },
  {
   "cell_type": "code",
   "execution_count": 11,
   "metadata": {},
   "outputs": [
    {
     "name": "stdout",
     "output_type": "stream",
     "text": [
      " * sqlite:///CourseDataWarehouse.db\n",
      "0 rows affected.\n",
      "39298 rows affected.\n"
     ]
    },
    {
     "data": {
      "text/plain": [
       "[]"
      ]
     },
     "execution_count": 11,
     "metadata": {},
     "output_type": "execute_result"
    }
   ],
   "source": [
    "%%sql\n",
    "DELETE FROM TIMECODE_DIM;\n",
    "\n",
    "INSERT INTO TIMECODE_DIM(Day, Start, End)\n",
    "SELECT DISTINCT Day, StartDateTime, EndDateTime\n",
    "FROM CourseData.COURSE_MEETINGS;"
   ]
  },
  {
   "cell_type": "code",
   "execution_count": 12,
   "metadata": {},
   "outputs": [
    {
     "name": "stdout",
     "output_type": "stream",
     "text": [
      " * sqlite:///CourseDataWarehouse.db\n",
      "Done.\n"
     ]
    },
    {
     "data": {
      "text/html": [
       "<table>\n",
       "    <tr>\n",
       "        <th>RawCount</th>\n",
       "        <th>DistinctCount</th>\n",
       "    </tr>\n",
       "    <tr>\n",
       "        <td>39298</td>\n",
       "        <td>39298</td>\n",
       "    </tr>\n",
       "</table>"
      ],
      "text/plain": [
       "[(39298, 39298)]"
      ]
     },
     "execution_count": 12,
     "metadata": {},
     "output_type": "execute_result"
    }
   ],
   "source": [
    "%%sql\n",
    "-- Record Counts for Course Meetings\n",
    "SELECT \n",
    "    (SELECT Count(*) FROM TIMECODE_DIM) as 'RawCount',\n",
    "    (SELECT Count(*) FROM (SELECT DISTINCT * FROM TIMECODE_DIM)) as 'DistinctCount';"
   ]
  },
  {
   "cell_type": "code",
   "execution_count": 13,
   "metadata": {},
   "outputs": [
    {
     "name": "stdout",
     "output_type": "stream",
     "text": [
      " * sqlite:///CourseDataWarehouse.db\n",
      "Done.\n"
     ]
    },
    {
     "data": {
      "text/html": [
       "<table>\n",
       "    <tr>\n",
       "        <th>TimecodeID</th>\n",
       "        <th>Day</th>\n",
       "        <th>Start</th>\n",
       "        <th>End</th>\n",
       "    </tr>\n",
       "    <tr>\n",
       "        <td>1</td>\n",
       "        <td>T</td>\n",
       "        <td>2014-09-02T08:00:00</td>\n",
       "        <td>2014-09-02T09:15:00</td>\n",
       "    </tr>\n",
       "    <tr>\n",
       "        <td>2</td>\n",
       "        <td>F</td>\n",
       "        <td>2014-09-05T08:00:00</td>\n",
       "        <td>2014-09-05T09:15:00</td>\n",
       "    </tr>\n",
       "    <tr>\n",
       "        <td>3</td>\n",
       "        <td>T</td>\n",
       "        <td>2014-09-09T08:00:00</td>\n",
       "        <td>2014-09-09T09:15:00</td>\n",
       "    </tr>\n",
       "    <tr>\n",
       "        <td>4</td>\n",
       "        <td>F</td>\n",
       "        <td>2014-09-12T08:00:00</td>\n",
       "        <td>2014-09-12T09:15:00</td>\n",
       "    </tr>\n",
       "    <tr>\n",
       "        <td>5</td>\n",
       "        <td>T</td>\n",
       "        <td>2014-09-16T08:00:00</td>\n",
       "        <td>2014-09-16T09:15:00</td>\n",
       "    </tr>\n",
       "    <tr>\n",
       "        <td>6</td>\n",
       "        <td>F</td>\n",
       "        <td>2014-09-19T08:00:00</td>\n",
       "        <td>2014-09-19T09:15:00</td>\n",
       "    </tr>\n",
       "    <tr>\n",
       "        <td>7</td>\n",
       "        <td>T</td>\n",
       "        <td>2014-09-23T08:00:00</td>\n",
       "        <td>2014-09-23T09:15:00</td>\n",
       "    </tr>\n",
       "    <tr>\n",
       "        <td>8</td>\n",
       "        <td>F</td>\n",
       "        <td>2014-09-26T08:00:00</td>\n",
       "        <td>2014-09-26T09:15:00</td>\n",
       "    </tr>\n",
       "    <tr>\n",
       "        <td>9</td>\n",
       "        <td>T</td>\n",
       "        <td>2014-09-30T08:00:00</td>\n",
       "        <td>2014-09-30T09:15:00</td>\n",
       "    </tr>\n",
       "    <tr>\n",
       "        <td>10</td>\n",
       "        <td>F</td>\n",
       "        <td>2014-10-03T08:00:00</td>\n",
       "        <td>2014-10-03T09:15:00</td>\n",
       "    </tr>\n",
       "</table>"
      ],
      "text/plain": [
       "[(1, 'T', '2014-09-02T08:00:00', '2014-09-02T09:15:00'),\n",
       " (2, 'F', '2014-09-05T08:00:00', '2014-09-05T09:15:00'),\n",
       " (3, 'T', '2014-09-09T08:00:00', '2014-09-09T09:15:00'),\n",
       " (4, 'F', '2014-09-12T08:00:00', '2014-09-12T09:15:00'),\n",
       " (5, 'T', '2014-09-16T08:00:00', '2014-09-16T09:15:00'),\n",
       " (6, 'F', '2014-09-19T08:00:00', '2014-09-19T09:15:00'),\n",
       " (7, 'T', '2014-09-23T08:00:00', '2014-09-23T09:15:00'),\n",
       " (8, 'F', '2014-09-26T08:00:00', '2014-09-26T09:15:00'),\n",
       " (9, 'T', '2014-09-30T08:00:00', '2014-09-30T09:15:00'),\n",
       " (10, 'F', '2014-10-03T08:00:00', '2014-10-03T09:15:00')]"
      ]
     },
     "execution_count": 13,
     "metadata": {},
     "output_type": "execute_result"
    }
   ],
   "source": [
    "%%sql\n",
    "SELECT *\n",
    "FROM TIMECODE_DIM\n",
    "LIMIT 10;"
   ]
  },
  {
   "cell_type": "code",
   "execution_count": 14,
   "metadata": {},
   "outputs": [
    {
     "name": "stdout",
     "output_type": "stream",
     "text": [
      " * sqlite:///CourseDataWarehouse.db\n",
      "0 rows affected.\n",
      "83 rows affected.\n"
     ]
    },
    {
     "data": {
      "text/plain": [
       "[]"
      ]
     },
     "execution_count": 14,
     "metadata": {},
     "output_type": "execute_result"
    }
   ],
   "source": [
    "%%sql\n",
    "DELETE FROM PROGRAMS_DIM;\n",
    "\n",
    "INSERT INTO PROGRAMS_DIM\n",
    "SELECT ProgramID, ProgramCode, ProgramName\n",
    "FROM CourseData.PROGRAMS; "
   ]
  },
  {
   "cell_type": "code",
   "execution_count": 15,
   "metadata": {},
   "outputs": [
    {
     "name": "stdout",
     "output_type": "stream",
     "text": [
      " * sqlite:///CourseDataWarehouse.db\n",
      "Done.\n"
     ]
    },
    {
     "data": {
      "text/html": [
       "<table>\n",
       "    <tr>\n",
       "        <th>RawCount</th>\n",
       "        <th>DistinctCount</th>\n",
       "    </tr>\n",
       "    <tr>\n",
       "        <td>83</td>\n",
       "        <td>83</td>\n",
       "    </tr>\n",
       "</table>"
      ],
      "text/plain": [
       "[(83, 83)]"
      ]
     },
     "execution_count": 15,
     "metadata": {},
     "output_type": "execute_result"
    }
   ],
   "source": [
    "%%sql\n",
    "-- Record Counts for Course Meetings\n",
    "SELECT \n",
    "    (SELECT Count(*) FROM PROGRAMS) as 'RawCount',\n",
    "    (SELECT Count(*) FROM (SELECT DISTINCT * FROM PROGRAMS)) as 'DistinctCount';"
   ]
  },
  {
   "cell_type": "code",
   "execution_count": 16,
   "metadata": {},
   "outputs": [
    {
     "name": "stdout",
     "output_type": "stream",
     "text": [
      " * sqlite:///CourseDataWarehouse.db\n",
      "0 rows affected.\n",
      "19 rows affected.\n"
     ]
    },
    {
     "data": {
      "text/plain": [
       "[]"
      ]
     },
     "execution_count": 16,
     "metadata": {},
     "output_type": "execute_result"
    }
   ],
   "source": [
    "%%sql\n",
    "DELETE FROM TERMS_DIM;\n",
    "\n",
    "INSERT INTO TERMS_DIM(Term)\n",
    "SELECT DISTINCT Term\n",
    "FROM CourseData.COURSE_OFFERINGS;"
   ]
  },
  {
   "cell_type": "code",
   "execution_count": 17,
   "metadata": {},
   "outputs": [
    {
     "name": "stdout",
     "output_type": "stream",
     "text": [
      " * sqlite:///CourseDataWarehouse.db\n",
      "Done.\n"
     ]
    },
    {
     "data": {
      "text/html": [
       "<table>\n",
       "    <tr>\n",
       "        <th>RawCount</th>\n",
       "        <th>DistinctCount</th>\n",
       "    </tr>\n",
       "    <tr>\n",
       "        <td>19</td>\n",
       "        <td>19</td>\n",
       "    </tr>\n",
       "</table>"
      ],
      "text/plain": [
       "[(19, 19)]"
      ]
     },
     "execution_count": 17,
     "metadata": {},
     "output_type": "execute_result"
    }
   ],
   "source": [
    "%%sql\n",
    "-- Record Counts for Course Meetings\n",
    "SELECT \n",
    "    (SELECT Count(*) FROM TERMS_DIM) as 'RawCount',\n",
    "    (SELECT Count(*) FROM (SELECT DISTINCT * FROM TERMS_DIM)) as 'DistinctCount';"
   ]
  },
  {
   "cell_type": "code",
   "execution_count": 18,
   "metadata": {},
   "outputs": [
    {
     "name": "stdout",
     "output_type": "stream",
     "text": [
      " * sqlite:///CourseDataWarehouse.db\n",
      "Done.\n"
     ]
    },
    {
     "data": {
      "text/html": [
       "<table>\n",
       "    <tr>\n",
       "        <th>TermsID</th>\n",
       "        <th>Term</th>\n",
       "    </tr>\n",
       "    <tr>\n",
       "        <td>1</td>\n",
       "        <td>Fall2014</td>\n",
       "    </tr>\n",
       "    <tr>\n",
       "        <td>2</td>\n",
       "        <td>Fall2015</td>\n",
       "    </tr>\n",
       "    <tr>\n",
       "        <td>3</td>\n",
       "        <td>Fall2016</td>\n",
       "    </tr>\n",
       "    <tr>\n",
       "        <td>4</td>\n",
       "        <td>Fall2017</td>\n",
       "    </tr>\n",
       "    <tr>\n",
       "        <td>5</td>\n",
       "        <td>Fall2018</td>\n",
       "    </tr>\n",
       "    <tr>\n",
       "        <td>6</td>\n",
       "        <td>Spring2015</td>\n",
       "    </tr>\n",
       "    <tr>\n",
       "        <td>7</td>\n",
       "        <td>Spring2016</td>\n",
       "    </tr>\n",
       "    <tr>\n",
       "        <td>8</td>\n",
       "        <td>Spring2017</td>\n",
       "    </tr>\n",
       "    <tr>\n",
       "        <td>9</td>\n",
       "        <td>Spring2018</td>\n",
       "    </tr>\n",
       "    <tr>\n",
       "        <td>10</td>\n",
       "        <td>Spring2019</td>\n",
       "    </tr>\n",
       "    <tr>\n",
       "        <td>11</td>\n",
       "        <td>SpringBreak2017</td>\n",
       "    </tr>\n",
       "    <tr>\n",
       "        <td>12</td>\n",
       "        <td>Summer2015</td>\n",
       "    </tr>\n",
       "    <tr>\n",
       "        <td>13</td>\n",
       "        <td>Summer2016</td>\n",
       "    </tr>\n",
       "    <tr>\n",
       "        <td>14</td>\n",
       "        <td>Summer2017</td>\n",
       "    </tr>\n",
       "    <tr>\n",
       "        <td>15</td>\n",
       "        <td>Summer2018</td>\n",
       "    </tr>\n",
       "    <tr>\n",
       "        <td>16</td>\n",
       "        <td>Winter2015</td>\n",
       "    </tr>\n",
       "    <tr>\n",
       "        <td>17</td>\n",
       "        <td>Winter2016</td>\n",
       "    </tr>\n",
       "    <tr>\n",
       "        <td>18</td>\n",
       "        <td>Winter2017</td>\n",
       "    </tr>\n",
       "    <tr>\n",
       "        <td>19</td>\n",
       "        <td>Winter2018</td>\n",
       "    </tr>\n",
       "</table>"
      ],
      "text/plain": [
       "[(1, 'Fall2014'),\n",
       " (2, 'Fall2015'),\n",
       " (3, 'Fall2016'),\n",
       " (4, 'Fall2017'),\n",
       " (5, 'Fall2018'),\n",
       " (6, 'Spring2015'),\n",
       " (7, 'Spring2016'),\n",
       " (8, 'Spring2017'),\n",
       " (9, 'Spring2018'),\n",
       " (10, 'Spring2019'),\n",
       " (11, 'SpringBreak2017'),\n",
       " (12, 'Summer2015'),\n",
       " (13, 'Summer2016'),\n",
       " (14, 'Summer2017'),\n",
       " (15, 'Summer2018'),\n",
       " (16, 'Winter2015'),\n",
       " (17, 'Winter2016'),\n",
       " (18, 'Winter2017'),\n",
       " (19, 'Winter2018')]"
      ]
     },
     "execution_count": 18,
     "metadata": {},
     "output_type": "execute_result"
    }
   ],
   "source": [
    "%%sql\n",
    "SELECT *\n",
    "FROM TERMS_DIM\n",
    ";"
   ]
  },
  {
   "cell_type": "code",
   "execution_count": 19,
   "metadata": {},
   "outputs": [
    {
     "name": "stdout",
     "output_type": "stream",
     "text": [
      " * sqlite:///CourseDataWarehouse.db\n",
      "0 rows affected.\n",
      "4440 rows affected.\n"
     ]
    },
    {
     "data": {
      "text/plain": [
       "[]"
      ]
     },
     "execution_count": 19,
     "metadata": {},
     "output_type": "execute_result"
    }
   ],
   "source": [
    "%%sql\n",
    "DELETE FROM COURSE_CATALOGS_DIM;\n",
    "\n",
    "INSERT INTO COURSE_CATALOGS_DIM\n",
    "SELECT CourseID, CatalogYear, CatalogID, CourseTitle, Credits, Prequisites, Corequisites, Attributes \n",
    "FROM CourseData.COURSE_CATALOGS;"
   ]
  },
  {
   "cell_type": "code",
   "execution_count": 20,
   "metadata": {},
   "outputs": [
    {
     "name": "stdout",
     "output_type": "stream",
     "text": [
      " * sqlite:///CourseDataWarehouse.db\n",
      "Done.\n"
     ]
    },
    {
     "data": {
      "text/html": [
       "<table>\n",
       "    <tr>\n",
       "        <th>CourseID</th>\n",
       "        <th>CatalogYear</th>\n",
       "        <th>CatalogID</th>\n",
       "        <th>CourseTitle</th>\n",
       "        <th>Credits</th>\n",
       "        <th>Prequisites</th>\n",
       "        <th>Corequisites</th>\n",
       "        <th>Attributes</th>\n",
       "    </tr>\n",
       "    <tr>\n",
       "        <td>1</td>\n",
       "        <td>2017_2018</td>\n",
       "        <td>AN 0301</td>\n",
       "        <td>Independent Study</td>\n",
       "        <td>1-3 Credits</td>\n",
       "        <td>None</td>\n",
       "        <td>None</td>\n",
       "        <td>None</td>\n",
       "    </tr>\n",
       "    <tr>\n",
       "        <td>2</td>\n",
       "        <td>2017_2018</td>\n",
       "        <td>AN 0310</td>\n",
       "        <td>Asian Studies Seminar</td>\n",
       "        <td>3 Credits</td>\n",
       "        <td>None</td>\n",
       "        <td>None</td>\n",
       "        <td>None</td>\n",
       "    </tr>\n",
       "    <tr>\n",
       "        <td>3</td>\n",
       "        <td>2017_2018</td>\n",
       "        <td>BU 0211</td>\n",
       "        <td>Legal Environment of Business</td>\n",
       "        <td>3 Credits</td>\n",
       "        <td>Junior standing.</td>\n",
       "        <td>None</td>\n",
       "        <td>None</td>\n",
       "    </tr>\n",
       "    <tr>\n",
       "        <td>4</td>\n",
       "        <td>2017_2018</td>\n",
       "        <td>BU 0220</td>\n",
       "        <td>Environmental Law and Policy</td>\n",
       "        <td>3 Credits</td>\n",
       "        <td>None</td>\n",
       "        <td>None</td>\n",
       "        <td>EVME Environmental Studies Major Elective, EVPE Environmental Studies Elective, EVSS Environmental Studies: Social Science, MGEL Management: General Elective</td>\n",
       "    </tr>\n",
       "    <tr>\n",
       "        <td>5</td>\n",
       "        <td>2017_2018</td>\n",
       "        <td>BU 0311</td>\n",
       "        <td>The Law of Contracts, Sales, and Property</td>\n",
       "        <td>3 Credits</td>\n",
       "        <td>BU 0211.</td>\n",
       "        <td>None</td>\n",
       "        <td>None</td>\n",
       "    </tr>\n",
       "</table>"
      ],
      "text/plain": [
       "[(1, '2017_2018', 'AN 0301', 'Independent Study', '1-3 Credits', None, None, None),\n",
       " (2, '2017_2018', 'AN 0310', 'Asian Studies Seminar', '3 Credits', None, None, None),\n",
       " (3, '2017_2018', 'BU 0211', 'Legal Environment of Business', '3 Credits', 'Junior standing.', None, None),\n",
       " (4, '2017_2018', 'BU 0220', 'Environmental Law and Policy', '3 Credits', None, None, 'EVME Environmental Studies Major Elective, EVPE Environmental Studies Elective, EVSS Environmental Studies: Social Science, MGEL Management: General Elective'),\n",
       " (5, '2017_2018', 'BU 0311', 'The Law of Contracts, Sales, and Property', '3 Credits', 'BU 0211.', None, None)]"
      ]
     },
     "execution_count": 20,
     "metadata": {},
     "output_type": "execute_result"
    }
   ],
   "source": [
    "%%sql\n",
    "SELECT DISTINCT *\n",
    "FROM COURSE_CATALOGS_DIM\n",
    "LIMIT (5);"
   ]
  },
  {
   "cell_type": "code",
   "execution_count": 21,
   "metadata": {},
   "outputs": [
    {
     "name": "stdout",
     "output_type": "stream",
     "text": [
      " * sqlite:///CourseDataWarehouse.db\n",
      "Done.\n"
     ]
    },
    {
     "data": {
      "text/html": [
       "<table>\n",
       "    <tr>\n",
       "        <th>LocationID</th>\n",
       "    </tr>\n",
       "    <tr>\n",
       "        <td>BCC 200</td>\n",
       "    </tr>\n",
       "    <tr>\n",
       "        <td>BD </td>\n",
       "    </tr>\n",
       "    <tr>\n",
       "        <td>BH </td>\n",
       "    </tr>\n",
       "    <tr>\n",
       "        <td>BH BY ARR</td>\n",
       "    </tr>\n",
       "    <tr>\n",
       "        <td>BLM 112</td>\n",
       "    </tr>\n",
       "</table>"
      ],
      "text/plain": [
       "[('BCC 200',), ('BD ',), ('BH ',), ('BH BY ARR',), ('BLM 112',)]"
      ]
     },
     "execution_count": 21,
     "metadata": {},
     "output_type": "execute_result"
    }
   ],
   "source": [
    "%%sql\n",
    "\n",
    "SELECT *\n",
    "FROM \n",
    "LOCATION_DIM\n",
    "\n",
    "LIMIT 5;"
   ]
  },
  {
   "cell_type": "code",
   "execution_count": 36,
   "metadata": {},
   "outputs": [],
   "source": [
    "## do we need termID?\n",
    "\n",
    "\n",
    "# James adding in sql comments in next two cells (4/27 6pm)"
   ]
  },
  {
   "cell_type": "code",
   "execution_count": 35,
   "metadata": {},
   "outputs": [
    {
     "name": "stdout",
     "output_type": "stream",
     "text": [
      " * sqlite:///CourseDataWarehouse.db\n",
      "Done.\n"
     ]
    },
    {
     "data": {
      "text/html": [
       "<table>\n",
       "    <tr>\n",
       "        <th>CourseMeetingID</th>\n",
       "        <th>CourseOfferingID</th>\n",
       "        <th>CRN</th>\n",
       "        <th>LocationID</th>\n",
       "        <th>Day</th>\n",
       "        <th>StartDateTime</th>\n",
       "        <th>EndDateTime</th>\n",
       "        <th>CourseID</th>\n",
       "        <th>Term</th>\n",
       "        <th>CRN_1</th>\n",
       "        <th>CatalogID</th>\n",
       "        <th>Section</th>\n",
       "        <th>Credits</th>\n",
       "        <th>Title</th>\n",
       "        <th>Timecodes</th>\n",
       "        <th>PrimaryInstructorID</th>\n",
       "        <th>Capacity</th>\n",
       "        <th>Actual</th>\n",
       "        <th>Remaining</th>\n",
       "        <th>ProgramID</th>\n",
       "        <th>ProgramCode</th>\n",
       "        <th>ProgramName</th>\n",
       "        <th>InstructorID</th>\n",
       "        <th>Name</th>\n",
       "        <th>TimecodeID</th>\n",
       "        <th>Day_1</th>\n",
       "        <th>Start</th>\n",
       "        <th>End</th>\n",
       "    </tr>\n",
       "    <tr>\n",
       "        <td>164495</td>\n",
       "        <td>8706</td>\n",
       "        <td>71188</td>\n",
       "        <td>DSB 110A</td>\n",
       "        <td>R</td>\n",
       "        <td>2017-09-07T11:00:00</td>\n",
       "        <td>2017-09-07T12:15:00</td>\n",
       "        <td>113</td>\n",
       "        <td>Fall2017</td>\n",
       "        <td>71188</td>\n",
       "        <td>AC 0011</td>\n",
       "        <td>01C</td>\n",
       "        <td>3.000</td>\n",
       "        <td>Introduction to Financial Accounting</td>\n",
       "        <td>[&#x27;MR 1100am-1215pm 09/05-12/11 DSB 110A&#x27;]</td>\n",
       "        <td>Rebecca I.  Bloch</td>\n",
       "        <td>0</td>\n",
       "        <td>28</td>\n",
       "        <td>-28</td>\n",
       "        <td>1</td>\n",
       "        <td>AC</td>\n",
       "        <td>Accounting</td>\n",
       "        <td>2</td>\n",
       "        <td>Rebecca I.  Bloch</td>\n",
       "        <td>1142</td>\n",
       "        <td>R</td>\n",
       "        <td>2014-08-28T18:00:00</td>\n",
       "        <td>2014-08-28T21:30:00</td>\n",
       "    </tr>\n",
       "    <tr>\n",
       "        <td>164495</td>\n",
       "        <td>8706</td>\n",
       "        <td>71188</td>\n",
       "        <td>DSB 110A</td>\n",
       "        <td>R</td>\n",
       "        <td>2017-09-07T11:00:00</td>\n",
       "        <td>2017-09-07T12:15:00</td>\n",
       "        <td>113</td>\n",
       "        <td>Fall2017</td>\n",
       "        <td>71188</td>\n",
       "        <td>AC 0011</td>\n",
       "        <td>01C</td>\n",
       "        <td>3.000</td>\n",
       "        <td>Introduction to Financial Accounting</td>\n",
       "        <td>[&#x27;MR 1100am-1215pm 09/05-12/11 DSB 110A&#x27;]</td>\n",
       "        <td>Rebecca I.  Bloch</td>\n",
       "        <td>0</td>\n",
       "        <td>28</td>\n",
       "        <td>-28</td>\n",
       "        <td>1</td>\n",
       "        <td>AC</td>\n",
       "        <td>Accounting</td>\n",
       "        <td>2</td>\n",
       "        <td>Rebecca I.  Bloch</td>\n",
       "        <td>2474</td>\n",
       "        <td>R</td>\n",
       "        <td>2014-09-04T08:00:00</td>\n",
       "        <td>2014-09-04T08:50:00</td>\n",
       "    </tr>\n",
       "    <tr>\n",
       "        <td>164495</td>\n",
       "        <td>8706</td>\n",
       "        <td>71188</td>\n",
       "        <td>DSB 110A</td>\n",
       "        <td>R</td>\n",
       "        <td>2017-09-07T11:00:00</td>\n",
       "        <td>2017-09-07T12:15:00</td>\n",
       "        <td>113</td>\n",
       "        <td>Fall2017</td>\n",
       "        <td>71188</td>\n",
       "        <td>AC 0011</td>\n",
       "        <td>01C</td>\n",
       "        <td>3.000</td>\n",
       "        <td>Introduction to Financial Accounting</td>\n",
       "        <td>[&#x27;MR 1100am-1215pm 09/05-12/11 DSB 110A&#x27;]</td>\n",
       "        <td>Rebecca I.  Bloch</td>\n",
       "        <td>0</td>\n",
       "        <td>28</td>\n",
       "        <td>-28</td>\n",
       "        <td>1</td>\n",
       "        <td>AC</td>\n",
       "        <td>Accounting</td>\n",
       "        <td>2</td>\n",
       "        <td>Rebecca I.  Bloch</td>\n",
       "        <td>574</td>\n",
       "        <td>R</td>\n",
       "        <td>2014-09-04T08:00:00</td>\n",
       "        <td>2014-09-04T09:15:00</td>\n",
       "    </tr>\n",
       "    <tr>\n",
       "        <td>164495</td>\n",
       "        <td>8706</td>\n",
       "        <td>71188</td>\n",
       "        <td>DSB 110A</td>\n",
       "        <td>R</td>\n",
       "        <td>2017-09-07T11:00:00</td>\n",
       "        <td>2017-09-07T12:15:00</td>\n",
       "        <td>113</td>\n",
       "        <td>Fall2017</td>\n",
       "        <td>71188</td>\n",
       "        <td>AC 0011</td>\n",
       "        <td>01C</td>\n",
       "        <td>3.000</td>\n",
       "        <td>Introduction to Financial Accounting</td>\n",
       "        <td>[&#x27;MR 1100am-1215pm 09/05-12/11 DSB 110A&#x27;]</td>\n",
       "        <td>Rebecca I.  Bloch</td>\n",
       "        <td>0</td>\n",
       "        <td>28</td>\n",
       "        <td>-28</td>\n",
       "        <td>1</td>\n",
       "        <td>AC</td>\n",
       "        <td>Accounting</td>\n",
       "        <td>2</td>\n",
       "        <td>Rebecca I.  Bloch</td>\n",
       "        <td>2822</td>\n",
       "        <td>R</td>\n",
       "        <td>2014-09-04T08:00:00</td>\n",
       "        <td>2014-09-04T09:50:00</td>\n",
       "    </tr>\n",
       "    <tr>\n",
       "        <td>164495</td>\n",
       "        <td>8706</td>\n",
       "        <td>71188</td>\n",
       "        <td>DSB 110A</td>\n",
       "        <td>R</td>\n",
       "        <td>2017-09-07T11:00:00</td>\n",
       "        <td>2017-09-07T12:15:00</td>\n",
       "        <td>113</td>\n",
       "        <td>Fall2017</td>\n",
       "        <td>71188</td>\n",
       "        <td>AC 0011</td>\n",
       "        <td>01C</td>\n",
       "        <td>3.000</td>\n",
       "        <td>Introduction to Financial Accounting</td>\n",
       "        <td>[&#x27;MR 1100am-1215pm 09/05-12/11 DSB 110A&#x27;]</td>\n",
       "        <td>Rebecca I.  Bloch</td>\n",
       "        <td>0</td>\n",
       "        <td>28</td>\n",
       "        <td>-28</td>\n",
       "        <td>1</td>\n",
       "        <td>AC</td>\n",
       "        <td>Accounting</td>\n",
       "        <td>2</td>\n",
       "        <td>Rebecca I.  Bloch</td>\n",
       "        <td>2736</td>\n",
       "        <td>R</td>\n",
       "        <td>2014-09-04T08:00:00</td>\n",
       "        <td>2014-09-04T15:00:00</td>\n",
       "    </tr>\n",
       "</table>"
      ],
      "text/plain": [
       "[(164495, 8706, 71188, 'DSB 110A', 'R', '2017-09-07T11:00:00', '2017-09-07T12:15:00', 113, 'Fall2017', 71188, 'AC 0011', '01C', '3.000', 'Introduction to Financial Accounting', \"['MR 1100am-1215pm 09/05-12/11 DSB 110A']\", 'Rebecca I.  Bloch', 0, 28, -28, 1, 'AC', 'Accounting', 2, 'Rebecca I.  Bloch', 1142, 'R', '2014-08-28T18:00:00', '2014-08-28T21:30:00'),\n",
       " (164495, 8706, 71188, 'DSB 110A', 'R', '2017-09-07T11:00:00', '2017-09-07T12:15:00', 113, 'Fall2017', 71188, 'AC 0011', '01C', '3.000', 'Introduction to Financial Accounting', \"['MR 1100am-1215pm 09/05-12/11 DSB 110A']\", 'Rebecca I.  Bloch', 0, 28, -28, 1, 'AC', 'Accounting', 2, 'Rebecca I.  Bloch', 2474, 'R', '2014-09-04T08:00:00', '2014-09-04T08:50:00'),\n",
       " (164495, 8706, 71188, 'DSB 110A', 'R', '2017-09-07T11:00:00', '2017-09-07T12:15:00', 113, 'Fall2017', 71188, 'AC 0011', '01C', '3.000', 'Introduction to Financial Accounting', \"['MR 1100am-1215pm 09/05-12/11 DSB 110A']\", 'Rebecca I.  Bloch', 0, 28, -28, 1, 'AC', 'Accounting', 2, 'Rebecca I.  Bloch', 574, 'R', '2014-09-04T08:00:00', '2014-09-04T09:15:00'),\n",
       " (164495, 8706, 71188, 'DSB 110A', 'R', '2017-09-07T11:00:00', '2017-09-07T12:15:00', 113, 'Fall2017', 71188, 'AC 0011', '01C', '3.000', 'Introduction to Financial Accounting', \"['MR 1100am-1215pm 09/05-12/11 DSB 110A']\", 'Rebecca I.  Bloch', 0, 28, -28, 1, 'AC', 'Accounting', 2, 'Rebecca I.  Bloch', 2822, 'R', '2014-09-04T08:00:00', '2014-09-04T09:50:00'),\n",
       " (164495, 8706, 71188, 'DSB 110A', 'R', '2017-09-07T11:00:00', '2017-09-07T12:15:00', 113, 'Fall2017', 71188, 'AC 0011', '01C', '3.000', 'Introduction to Financial Accounting', \"['MR 1100am-1215pm 09/05-12/11 DSB 110A']\", 'Rebecca I.  Bloch', 0, 28, -28, 1, 'AC', 'Accounting', 2, 'Rebecca I.  Bloch', 2736, 'R', '2014-09-04T08:00:00', '2014-09-04T15:00:00')]"
      ]
     },
     "execution_count": 35,
     "metadata": {},
     "output_type": "execute_result"
    }
   ],
   "source": [
    "%%sql\n",
    "--select query to see what the info will look like before we insert into the fact table\n",
    "\n",
    "SELECT *\n",
    "FROM CourseData.COURSE_MEETINGS\n",
    "   JOIN CourseData.COURSE_OFFERINGS USING (CourseOfferingID)\n",
    "    JOIN PROGRAMS_DIM ON (PROGRAMS_DIM.ProgramCode = SUBSTR(CourseData.COURSE_OFFERINGS.CatalogID,1,INSTR(CourseData.COURSE_OFFERINGS.CatalogID,\" \")-1))\n",
    "    LEFT JOIN INSTRUCTORS_DIM ON (INSTRUCTORS_DIM.Name = CourseData.COURSE_OFFERINGS.PrimaryInstructorID)\n",
    "    LEFT JOIN LOCATION_DIM USING (LocationID)\n",
    "    LEFT JOIN TIMECODE_DIM ON (TIMECODE_DIM.Day = CourseData.COURSE_MEETINGS.Day)\n",
    "\n",
    "WHERE Term = 'Fall2017'\n",
    "LIMIT 5;\n"
   ]
  },
  {
   "cell_type": "code",
   "execution_count": 31,
   "metadata": {},
   "outputs": [
    {
     "name": "stdout",
     "output_type": "stream",
     "text": [
      " * sqlite:///CourseDataWarehouse.db\n",
      "0 rows affected.\n",
      "(sqlite3.OperationalError) table COURSE_MEETINGS_FACT has 16 columns but 28 values were supplied\n",
      "[SQL: INSERT INTO COURSE_MEETINGS_FACT\n",
      "SELECT DISTINCT *\n",
      "FROM CourseData.COURSE_MEETINGS\n",
      "   JOIN CourseData.COURSE_OFFERINGS USING (CourseOfferingID)\n",
      "    JOIN PROGRAMS_DIM ON (PROGRAMS_DIM.ProgramCode = SUBSTR(CourseData.COURSE_OFFERINGS.CatalogID,1,INSTR(CourseData.COURSE_OFFERINGS.CatalogID,\" \")-1))\n",
      "    LEFT JOIN INSTRUCTORS_DIM ON (INSTRUCTORS_DIM.Name = CourseData.COURSE_OFFERINGS.PrimaryInstructorID)\n",
      "    LEFT JOIN LOCATION_DIM USING (LocationID)\n",
      "    LEFT JOIN TIMECODE_DIM ON (TIMECODE_DIM.Day = CourseData.COURSE_MEETINGS.Day)\n",
      "\n",
      "WHERE Term = 'Fall2017'\n",
      "LIMIT 5;]\n",
      "(Background on this error at: http://sqlalche.me/e/e3q8)\n"
     ]
    }
   ],
   "source": [
    "%%sql\n",
    "-- James and Mike working with the Fact Table\n",
    "-- fact table should have 16 columns but we have 28 from the query above^\n",
    "\n",
    "DELETE FROM COURSE_MEETINGS_FACT;\n",
    "\n",
    "INSERT INTO COURSE_MEETINGS_FACT\n",
    "SELECT DISTINCT *\n",
    "FROM CourseData.COURSE_MEETINGS\n",
    "   JOIN CourseData.COURSE_OFFERINGS USING (CourseOfferingID)\n",
    "    JOIN PROGRAMS_DIM ON (PROGRAMS_DIM.ProgramCode = SUBSTR(CourseData.COURSE_OFFERINGS.CatalogID,1,INSTR(CourseData.COURSE_OFFERINGS.CatalogID,\" \")-1))\n",
    "    LEFT JOIN INSTRUCTORS_DIM ON (INSTRUCTORS_DIM.Name = CourseData.COURSE_OFFERINGS.PrimaryInstructorID)\n",
    "    LEFT JOIN LOCATION_DIM USING (LocationID)\n",
    "    LEFT JOIN TIMECODE_DIM ON (TIMECODE_DIM.Day = CourseData.COURSE_MEETINGS.Day)\n",
    "\n",
    "WHERE Term = 'Fall2017'\n",
    "LIMIT 5;"
   ]
  },
  {
   "cell_type": "code",
   "execution_count": null,
   "metadata": {},
   "outputs": [],
   "source": [
    "# James and Mike did not change the cells below"
   ]
  },
  {
   "cell_type": "code",
   "execution_count": 24,
   "metadata": {},
   "outputs": [],
   "source": [
    "## do we need to make a course_meeting_fact table"
   ]
  },
  {
   "cell_type": "code",
   "execution_count": 25,
   "metadata": {},
   "outputs": [
    {
     "name": "stdout",
     "output_type": "stream",
     "text": [
      " * sqlite:///CourseDataWarehouse.db\n",
      "(sqlite3.OperationalError) near \"FROM\": syntax error\n",
      "[SQL: --DELETE FROM COURSE_MEETINGS_FACT;\n",
      "\n",
      "--INSERT INTO COURSE_MEETINGS_FACT(CourseMeetingID,CatalogID,ProgramID,InstructorID,CourseID,CourseOfferingID,LocationID,CRN,InstructorID,Capacity,Actual,Remaining,Credits)\n",
      "--SELECT DISTINCT COURSE_MEETINGS.CourseMeetingID, CourseData.COURSE_OFFERINGS.CatalogID, PROGRAMS.ProgramID, INSTRUCTORS.InstructorID, COURSE_CATALOGS.CourseID, COURSE_OFFERINGS.CourseOfferingID, LOCATION.LocationID, COURSE_MEETINGS.CRN, INSTRUCTORS.InstructorID, COURSE_OFFERINGS.Capacity, COURSE_OFFERINGS.Actual, COURSE_OFFERINGS.Remaining, COURSE_OFFERINGS.Credits\n",
      "\n",
      "FROM CourseData.COURSE_MEETINGS\n",
      "   JOIN CourseData.COURSE_OFFERINGS USING (CourseOfferingID)\n",
      "    JOIN PROGRAMS_DIM ON (PROGRAMS_DIM.ProgramCode = SUBSTR(CourseData.COURSE_OFFERINGS.CatalogID,1,INSTR(CourseData.COURSE_OFFERINGS.CatalogID,\" \")-1))\n",
      "    LEFT JOIN INSTRUCTORS_DIM ON (INSTRUCTORS_DIM.Name = CourseData.COURSE_OFFERINGS.PrimaryInstructorID)\n",
      "--    LEFT JOIN LOCATION_DIM USING (LocationID)\n",
      "--    LEFT JOIN TIMECODE_DIM ON (TIMECODE_DIM.Day = CourseData.COURSE_MEETINGS.Day)\n",
      "\n",
      "WHERE Term = '2017'\n",
      "LIMIT 5;]\n",
      "(Background on this error at: http://sqlalche.me/e/e3q8)\n"
     ]
    }
   ],
   "source": [
    "%%sql\n",
    "--DELETE FROM COURSE_MEETINGS_FACT;\n",
    "\n",
    "--INSERT INTO COURSE_MEETINGS_FACT(CourseMeetingID,CatalogID,ProgramID,InstructorID,CourseID,CourseOfferingID,LocationID,CRN,InstructorID,Capacity,Actual,Remaining,Credits)\n",
    "--SELECT DISTINCT COURSE_MEETINGS.CourseMeetingID, CourseData.COURSE_OFFERINGS.CatalogID, PROGRAMS.ProgramID, INSTRUCTORS.InstructorID, COURSE_CATALOGS.CourseID, COURSE_OFFERINGS.CourseOfferingID, LOCATION.LocationID, COURSE_MEETINGS.CRN, INSTRUCTORS.InstructorID, COURSE_OFFERINGS.Capacity, COURSE_OFFERINGS.Actual, COURSE_OFFERINGS.Remaining, COURSE_OFFERINGS.Credits\n",
    "\n",
    "FROM CourseData.COURSE_MEETINGS\n",
    "   JOIN CourseData.COURSE_OFFERINGS USING (CourseOfferingID)\n",
    "    JOIN PROGRAMS_DIM ON (PROGRAMS_DIM.ProgramCode = SUBSTR(CourseData.COURSE_OFFERINGS.CatalogID,1,INSTR(CourseData.COURSE_OFFERINGS.CatalogID,\" \")-1))\n",
    "    LEFT JOIN INSTRUCTORS_DIM ON (INSTRUCTORS_DIM.Name = CourseData.COURSE_OFFERINGS.PrimaryInstructorID)\n",
    "--    LEFT JOIN LOCATION_DIM USING (LocationID)\n",
    "--    LEFT JOIN TIMECODE_DIM ON (TIMECODE_DIM.Day = CourseData.COURSE_MEETINGS.Day)\n",
    "\n",
    "WHERE Term = '2017'\n",
    "LIMIT 5;\n"
   ]
  }
 ],
 "metadata": {
  "kernelspec": {
   "display_name": "Python 3",
   "language": "python",
   "name": "python3"
  },
  "language_info": {
   "codemirror_mode": {
    "name": "ipython",
    "version": 3
   },
   "file_extension": ".py",
   "mimetype": "text/x-python",
   "name": "python",
   "nbconvert_exporter": "python",
   "pygments_lexer": "ipython3",
   "version": "3.6.7"
  }
 },
 "nbformat": 4,
 "nbformat_minor": 4
}
